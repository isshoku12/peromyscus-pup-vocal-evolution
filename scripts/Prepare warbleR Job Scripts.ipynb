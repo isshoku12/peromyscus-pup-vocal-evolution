{
 "cells": [
  {
   "cell_type": "code",
   "execution_count": 47,
   "id": "c5eda2eb",
   "metadata": {},
   "outputs": [],
   "source": [
    "#the purpose of this notebook is to prepare directories and write job scripts for feature extraction using warbleR"
   ]
  },
  {
   "cell_type": "markdown",
   "id": "ab0b6a39",
   "metadata": {},
   "source": [
    "# preliminaries"
   ]
  },
  {
   "cell_type": "markdown",
   "id": "db99834f",
   "metadata": {},
   "source": [
    "## get path variables"
   ]
  },
  {
   "cell_type": "code",
   "execution_count": 41,
   "id": "c81d38e5",
   "metadata": {},
   "outputs": [],
   "source": [
    "#TODO put these in a paths.py file\n",
    "features_root = '/n/hoekstra_lab_tier1/Users/njourjine/manuscript/features/acoustic_features/'\n",
    "clips_root = '/n/hoekstra_lab_tier1/Users/njourjine/manuscript/audio/clips/'\n",
    "scripts_root = '/n/hoekstra_lab_tier1/Users/njourjine/manuscript/features/acoustic_features/scripts/'"
   ]
  },
  {
   "cell_type": "markdown",
   "id": "e740e151",
   "metadata": {},
   "source": [
    "## load make_warbleR_extract_jobs"
   ]
  },
  {
   "cell_type": "code",
   "execution_count": 42,
   "id": "9e73b3cc",
   "metadata": {},
   "outputs": [
    {
     "name": "stdout",
     "output_type": "stream",
     "text": [
      "The autoreload extension is already loaded. To reload it, use:\n",
      "  %reload_ext autoreload\n"
     ]
    }
   ],
   "source": [
    "%load_ext autoreload\n",
    "%autoreload 2\n",
    "\n",
    "#file system\n",
    "import os\n",
    "import glob\n",
    "\n",
    "from src import features"
   ]
  },
  {
   "cell_type": "markdown",
   "id": "df2bfe7f",
   "metadata": {},
   "source": [
    "# choose dataset and segments type"
   ]
  },
  {
   "cell_type": "code",
   "execution_count": 43,
   "id": "398960e9",
   "metadata": {},
   "outputs": [
    {
     "name": "stdout",
     "output_type": "stream",
     "text": [
      "save path is:\n",
      " /n/hoekstra_lab_tier1/Users/njourjine/manuscript/features/acoustic_features/amplitude_segmented/development/final_20220817 \n",
      "\n",
      "wav path is:\n",
      " /n/hoekstra_lab_tier1/Users/njourjine/manuscript/audio/noise/ \n",
      "\n",
      "scripts path is:\n",
      " /n/hoekstra_lab_tier1/Users/njourjine/manuscript/features/acoustic_features/scripts/amplitude_segmented/development/final_20220817/background \n",
      "\n"
     ]
    }
   ],
   "source": [
    "#choose the dataset and segmenting type - this is the only thing you need to change to write scripts for a new dataset\n",
    "background = True\n",
    "dataset = 'development'\n",
    "segments_type = 'amplitude_segmented'\n",
    "iteration='final_20220817' \n",
    "\n",
    "assert dataset in ['bw_po_cf', 'bw_po_f2', 'bw_po_f1', 'development']\n",
    "assert segments_type in ['amplitude_segmented']\n",
    "\n",
    "#set the path you need and make sure they exist (make them by hand if not then re-rerun this cell)\n",
    "save_root = os.path.join(features_root, segments_type, dataset, iteration)\n",
    "if not os.path.exists(save_root):\n",
    "    os.mkdir(save_root)\n",
    "    wav_root = os.path.join(clips_root, segments_type, dataset, iteration, 'vocalization_clips')\n",
    "\n",
    "if not background:\n",
    "    scripts_dir = os.path.join(scripts_root, segments_type, dataset, iteration)\n",
    "    if not os.path.exists(scripts_dir):\n",
    "        os.mkdir(scripts_dir)\n",
    "\n",
    "path_to_warbleR_extract = '/n/hoekstra_lab_tier1/Users/njourjine/public_repositories/peromyscus-pup-vocal-evolution/scripts/warbleR_feature_extraction.R'\n",
    "\n",
    "assert os.path.exists(save_root)\n",
    "assert os.path.exists(wav_root)\n",
    "assert os.path.exists(scripts_dir)\n",
    "\n",
    "print('save path is:\\n', save_root, '\\n')\n",
    "print('wav path is:\\n', wav_root, '\\n')\n",
    "print('scripts path is:\\n', scripts_dir, '\\n')\n",
    "   \n",
    "    \n",
    "    "
   ]
  },
  {
   "cell_type": "markdown",
   "id": "856535fd",
   "metadata": {},
   "source": [
    "# write the .sbatch files"
   ]
  },
  {
   "cell_type": "code",
   "execution_count": 44,
   "id": "6d8a0940",
   "metadata": {},
   "outputs": [
    {
     "name": "stdout",
     "output_type": "stream",
     "text": [
      "wrote job scripts to:\n",
      "\t /n/hoekstra_lab_tier1/Users/njourjine/manuscript/features/acoustic_features/scripts/amplitude_segmented/development/final_20220817/background\n"
     ]
    }
   ],
   "source": [
    "features.write_warbleR_job_scripts(dataset = dataset, \n",
    "                                   save_root = save_root, \n",
    "                                   wav_root = wav_root, \n",
    "                                   script_dir = scripts_dir, \n",
    "                                   path_to_warbleR_extract = path_to_warbleR_extract)"
   ]
  },
  {
   "cell_type": "markdown",
   "id": "227ca07c",
   "metadata": {},
   "source": [
    "# now go to the directory listed above and run the following command"
   ]
  },
  {
   "cell_type": "code",
   "execution_count": 79,
   "id": "07647571",
   "metadata": {},
   "outputs": [
    {
     "data": {
      "text/plain": [
       "'sh warbleR_extract_parent.sh'"
      ]
     },
     "execution_count": 79,
     "metadata": {},
     "output_type": "execute_result"
    }
   ],
   "source": [
    "#of course, check that the files look as you expect them to before running it\n",
    "\n",
    "'sh warbleR_extract_parent.sh'"
   ]
  }
 ],
 "metadata": {
  "kernelspec": {
   "display_name": "manuscript",
   "language": "python",
   "name": "manuscript"
  },
  "language_info": {
   "codemirror_mode": {
    "name": "ipython",
    "version": 3
   },
   "file_extension": ".py",
   "mimetype": "text/x-python",
   "name": "python",
   "nbconvert_exporter": "python",
   "pygments_lexer": "ipython3",
   "version": "3.7.3"
  },
  "toc": {
   "base_numbering": 1,
   "nav_menu": {},
   "number_sections": true,
   "sideBar": true,
   "skip_h1_title": false,
   "title_cell": "Table of Contents",
   "title_sidebar": "Contents",
   "toc_cell": false,
   "toc_position": {},
   "toc_section_display": true,
   "toc_window_display": false
  },
  "varInspector": {
   "cols": {
    "lenName": 16,
    "lenType": 16,
    "lenVar": 40
   },
   "kernels_config": {
    "python": {
     "delete_cmd_postfix": "",
     "delete_cmd_prefix": "del ",
     "library": "var_list.py",
     "varRefreshCmd": "print(var_dic_list())"
    },
    "r": {
     "delete_cmd_postfix": ") ",
     "delete_cmd_prefix": "rm(",
     "library": "var_list.r",
     "varRefreshCmd": "cat(var_dic_list()) "
    }
   },
   "types_to_exclude": [
    "module",
    "function",
    "builtin_function_or_method",
    "instance",
    "_Feature"
   ],
   "window_display": false
  }
 },
 "nbformat": 4,
 "nbformat_minor": 5
}
