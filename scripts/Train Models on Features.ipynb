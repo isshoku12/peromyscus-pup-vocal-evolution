{
 "cells": [
  {
   "cell_type": "code",
   "execution_count": 2,
   "id": "d817aaf5",
   "metadata": {},
   "outputs": [],
   "source": [
    "# the purpose of this notebook is to train Random Forest models on warbleR features\n",
    "# of vocalizations annotated in the notebook annotations_from_umap.ipynb"
   ]
  },
  {
   "cell_type": "markdown",
   "id": "8a2c2aca",
   "metadata": {},
   "source": [
    "# preliminaries"
   ]
  },
  {
   "cell_type": "markdown",
   "id": "aed13f49",
   "metadata": {},
   "source": [
    "## import modules"
   ]
  },
  {
   "cell_type": "code",
   "execution_count": 88,
   "id": "656856b6",
   "metadata": {},
   "outputs": [
    {
     "name": "stdout",
     "output_type": "stream",
     "text": [
      "The autoreload extension is already loaded. To reload it, use:\n",
      "  %reload_ext autoreload\n"
     ]
    }
   ],
   "source": [
    "%matplotlib inline\n",
    "%load_ext autoreload\n",
    "%autoreload 2\n",
    "\n",
    "#file system\n",
    "import os\n",
    "import glob\n",
    "\n",
    "#data handling\n",
    "import numpy as np\n",
    "import pandas as pd\n",
    "import pickle\n",
    "\n",
    "#plotting\n",
    "import seaborn as sns \n",
    "import matplotlib as mpl\n",
    "import matplotlib.pyplot as plt\n",
    "\n",
    "#machine learning\n",
    "from sklearn.impute import SimpleImputer\n",
    "from sklearn.preprocessing import StandardScaler\n",
    "from sklearn.ensemble import RandomForestClassifier\n",
    "from sklearn.model_selection import train_test_split, cross_val_score\n",
    "from sklearn.metrics import classification_report, confusion_matrix, accuracy_score\n",
    "\n",
    "# custom modules\n",
    "from src.spectrogramming import *\n",
    "from src.segmentation import *\n",
    "from src import parameters, machinelearning"
   ]
  },
  {
   "cell_type": "markdown",
   "id": "840597aa",
   "metadata": {},
   "source": [
    "## get path variables"
   ]
  },
  {
   "cell_type": "code",
   "execution_count": 89,
   "id": "a62a2bfa",
   "metadata": {},
   "outputs": [],
   "source": [
    "#TODO put this in the paths.py file\n",
    "\n",
    "#root directory for the warbleR features for each species\n",
    "amplitude_acoustic_features = '/n/hoekstra_lab_tier1/Users/njourjine/manuscript/features/acoustic_features/amplitude_segmented/development/20220913_063001/'\n",
    "\n",
    "#root directory for the amplitude segmented developmental time course warbleR features\n",
    "segments_root = '/n/hoekstra_lab_tier1/Users/njourjine/manuscript/features/acoustic_features/amplitude_segmented/development/20220913_063001/'\n",
    "\n",
    "#root directory for the annotated vocalizations for each species\n",
    "annotations_root = '/n/hoekstra_lab_tier1/Users/njourjine/manuscript/models/das/annotations_from_umap/'\n",
    "\n",
    "#path to all warbleR features\n",
    "warbleR_features = '/n/hoekstra_lab_tier1/Users/njourjine/manuscript/features/acoustic_features/amplitude_segmented/20220913_063001/'\n",
    "\n",
    "#annotated scratches from March 2022\n",
    "annotations_20220321 = '/n/hoekstra_lab_tier1/Users/njourjine/manuscript/audio/annotated/for_ML_models/annotations_20220321/warbleR_stats/ground_truth_with_ccs.csv'\n"
   ]
  },
  {
   "cell_type": "markdown",
   "id": "eebad155",
   "metadata": {},
   "source": [
    "## choose features"
   ]
  },
  {
   "cell_type": "code",
   "execution_count": 90,
   "id": "ee6e5635",
   "metadata": {},
   "outputs": [],
   "source": [
    "# choose the features (split into 2 groups in case you want to train on just summary statistics\n",
    "# (base_features) or on additional features too\n",
    "\n",
    "#summary statistics of distributions of vocalization in time and frequency domain\n",
    "base_features = [ 'duration',\n",
    "                 'time.median', \n",
    "                 'time.Q25', \n",
    "                 'time.Q75', \n",
    "                 'time.IQR', \n",
    "                 'meanfreq', \n",
    "                 'freq.median', \n",
    "                 'freq.Q25', \n",
    "                 'freq.Q75', \n",
    "                 'freq.IQR', ]\n",
    "\n",
    "#additional features calculated by warbleR\n",
    "extra_features = ['meanpeakf', \n",
    "                  'dfslope', \n",
    "                  'enddom', \n",
    "                  'startdom', \n",
    "                  'modindx', \n",
    "                  'dfrange', \n",
    "                  'sfm', \n",
    "                  'entropy',  \n",
    "                  'sp.ent', \n",
    "                  'time.ent', \n",
    "                  'sd',                  \n",
    "                  'meandom', \n",
    "                  'mindom', \n",
    "                  'maxdom', \n",
    "                  'skew', \n",
    "                  'kurt']\n"
   ]
  },
  {
   "cell_type": "markdown",
   "id": "f0e23aad",
   "metadata": {},
   "source": [
    "# Get the hand annotated vocalizations"
   ]
  },
  {
   "cell_type": "code",
   "execution_count": 91,
   "id": "d7bccc7f",
   "metadata": {},
   "outputs": [],
   "source": [
    "#aggregate and clean feature csvs if you need to\n",
    "\n",
    "#get the features\n",
    "to_combine = []\n",
    "\n",
    "for i in [i for i in os.listdir(amplitude_acoustic_features) if 'warbler_features.csv' in i and 'all' not in i]:\n",
    "    temp = pd.read_csv(amplitude_acoustic_features+i)\n",
    "    to_combine.append(temp)\n",
    "warbleR_features = pd.concat(to_combine)\n",
    "\n",
    "#drop Mus and add useful info\n",
    "warbleR_features['species'] = [i.split('_')[0] for i in warbleR_features['source_file']]\n",
    "warbleR_features = warbleR_features.loc[~warbleR_features['species'].isin(['MU', 'MZ'])]\n",
    "\n",
    "#TODO figure out why this is in here (5 rows) ad remove it from whichever directory its contaminating\n",
    "warbleR_features = warbleR_features.loc[warbleR_features['source_file'] != 'BW_hdbscan_label0_withspace.wav.wav']\n"
   ]
  },
  {
   "cell_type": "markdown",
   "id": "9a9ba984",
   "metadata": {},
   "source": [
    "## collect the annotated files and their labels"
   ]
  },
  {
   "cell_type": "code",
   "execution_count": 92,
   "id": "68fbe4a1",
   "metadata": {},
   "outputs": [
    {
     "name": "stdout",
     "output_type": "stream",
     "text": [
      "BW\n",
      "BK\n",
      "NB\n",
      "SW\n",
      "PO\n",
      "LO\n",
      "GO\n",
      "LL\n",
      "combining files...\n",
      "done.\n"
     ]
    }
   ],
   "source": [
    "#these are the vocalizations annoatted with Annotate from UMAP.ipynb\n",
    "\n",
    "species_list = ['BW', 'BK', 'NB', 'SW', 'PO', 'LO', 'GO', 'LL']\n",
    "annotated_files = []\n",
    "\n",
    "for species in species_list:\n",
    "    print(species)\n",
    "    \n",
    "    #get the label_0 files\n",
    "    label_0_voc_path = os.path.join(annotations_root,species,'annotations','hdbscan_label_0',species+'_hdbscan_label0_all.feather')\n",
    "    \n",
    "    #load the data\n",
    "    label_0_voc_df = pd.read_feather(label_0_voc_path)\n",
    "    \n",
    "    #drop the spectrogram pixels and append\n",
    "    label_0_voc_df = label_0_voc_df[['source_file', 'umap1', 'umap2', 'hdbscan_label', 'human_label']]\n",
    "    annotated_files.append(label_0_voc_df)\n",
    "\n",
    "    #get the label_1 files \n",
    "    label_1_voc_path = os.path.join(annotations_root,species,'annotations','hdbscan_label_1',species+'_hdbscan_label1_all.feather')\n",
    "    \n",
    "    #load the data\n",
    "    label_1_voc_df = pd.read_feather(label_1_voc_path)\n",
    "    \n",
    "    #drop the spectrogram pixels and append\n",
    "    label_1_voc_df = label_1_voc_df[['source_file', 'umap1', 'umap2', 'hdbscan_label', 'human_label']]\n",
    "    annotated_files.append(label_1_voc_df)\n",
    "\n",
    "print('combining files...')\n",
    "all_combined = pd.concat(annotated_files)\n",
    "all_combined['species'] = [i.split('_')[0] for i in all_combined['source_file']]\n",
    "all_combined = all_combined.loc[~all_combined['human_label'].isin(['scratch', 'none'])]\n",
    "all_combined = all_combined.reset_index(drop=True)\n",
    "\n",
    "print('done.')\n",
    "    "
   ]
  },
  {
   "cell_type": "markdown",
   "id": "ba1d67a9",
   "metadata": {},
   "source": [
    "## get the warbleR features for these labeled vocalizations"
   ]
  },
  {
   "cell_type": "code",
   "execution_count": 93,
   "id": "f60e84cc",
   "metadata": {},
   "outputs": [
    {
     "name": "stdout",
     "output_type": "stream",
     "text": [
      "labels:\n",
      "['whistle' 'cry']\n"
     ]
    }
   ],
   "source": [
    "#merge annotations with warbleR features and print the labels\n",
    "warbleR_features = warbleR_features.drop(columns=['species'])\n",
    "labeled_warbleR_features = all_combined.merge(warbleR_features, on='source_file')\n",
    "all_annotations = labeled_warbleR_features.reset_index(drop=True)\n",
    "print('labels:')\n",
    "print(all_annotations['human_label'].unique())"
   ]
  },
  {
   "cell_type": "code",
   "execution_count": 94,
   "id": "fa3ad2b1",
   "metadata": {},
   "outputs": [
    {
     "data": {
      "text/html": [
       "<div>\n",
       "<style scoped>\n",
       "    .dataframe tbody tr th:only-of-type {\n",
       "        vertical-align: middle;\n",
       "    }\n",
       "\n",
       "    .dataframe tbody tr th {\n",
       "        vertical-align: top;\n",
       "    }\n",
       "\n",
       "    .dataframe thead th {\n",
       "        text-align: right;\n",
       "    }\n",
       "</style>\n",
       "<table border=\"1\" class=\"dataframe\">\n",
       "  <thead>\n",
       "    <tr style=\"text-align: right;\">\n",
       "      <th></th>\n",
       "      <th>source_file</th>\n",
       "      <th>umap1</th>\n",
       "      <th>umap2</th>\n",
       "      <th>hdbscan_label</th>\n",
       "      <th>human_label</th>\n",
       "      <th>species</th>\n",
       "      <th>duration</th>\n",
       "      <th>meanfreq</th>\n",
       "      <th>sd</th>\n",
       "      <th>freq.median</th>\n",
       "      <th>...</th>\n",
       "      <th>sfm</th>\n",
       "      <th>meandom</th>\n",
       "      <th>mindom</th>\n",
       "      <th>maxdom</th>\n",
       "      <th>dfrange</th>\n",
       "      <th>modindx</th>\n",
       "      <th>startdom</th>\n",
       "      <th>enddom</th>\n",
       "      <th>dfslope</th>\n",
       "      <th>meanpeakf</th>\n",
       "    </tr>\n",
       "  </thead>\n",
       "  <tbody>\n",
       "    <tr>\n",
       "      <th>0</th>\n",
       "      <td>BW_28988x28929_ltr1_pup1_ch2_6000_f_316_315_fr...</td>\n",
       "      <td>-6.173034</td>\n",
       "      <td>1.324951</td>\n",
       "      <td>0</td>\n",
       "      <td>whistle</td>\n",
       "      <td>BW</td>\n",
       "      <td>0.040964</td>\n",
       "      <td>62.665558</td>\n",
       "      <td>24.507408</td>\n",
       "      <td>58.409276</td>\n",
       "      <td>...</td>\n",
       "      <td>0.571044</td>\n",
       "      <td>58.659480</td>\n",
       "      <td>44.311523</td>\n",
       "      <td>73.120117</td>\n",
       "      <td>28.808594</td>\n",
       "      <td>1.220339</td>\n",
       "      <td>66.772461</td>\n",
       "      <td>44.311523</td>\n",
       "      <td>-548.309186</td>\n",
       "      <td>67.504883</td>\n",
       "    </tr>\n",
       "    <tr>\n",
       "      <th>1</th>\n",
       "      <td>BW_28987x28928_ltr3_pup4_ch5_5600_f_316_308_fr...</td>\n",
       "      <td>-5.962988</td>\n",
       "      <td>2.637200</td>\n",
       "      <td>0</td>\n",
       "      <td>whistle</td>\n",
       "      <td>BW</td>\n",
       "      <td>0.018432</td>\n",
       "      <td>65.904374</td>\n",
       "      <td>31.705219</td>\n",
       "      <td>56.699819</td>\n",
       "      <td>...</td>\n",
       "      <td>0.732590</td>\n",
       "      <td>54.028320</td>\n",
       "      <td>47.729492</td>\n",
       "      <td>59.448242</td>\n",
       "      <td>11.718750</td>\n",
       "      <td>1.000000</td>\n",
       "      <td>59.448242</td>\n",
       "      <td>47.729492</td>\n",
       "      <td>-635.782878</td>\n",
       "      <td>53.833008</td>\n",
       "    </tr>\n",
       "    <tr>\n",
       "      <th>2</th>\n",
       "      <td>BW_29915x29805_ltr2_pup1_ch2_5500_m_331_327_fr...</td>\n",
       "      <td>-8.587996</td>\n",
       "      <td>2.591833</td>\n",
       "      <td>0</td>\n",
       "      <td>whistle</td>\n",
       "      <td>BW</td>\n",
       "      <td>0.030720</td>\n",
       "      <td>60.621909</td>\n",
       "      <td>30.345330</td>\n",
       "      <td>48.970708</td>\n",
       "      <td>...</td>\n",
       "      <td>0.690190</td>\n",
       "      <td>54.890951</td>\n",
       "      <td>41.137695</td>\n",
       "      <td>80.444336</td>\n",
       "      <td>39.306641</td>\n",
       "      <td>1.472050</td>\n",
       "      <td>59.204102</td>\n",
       "      <td>79.956055</td>\n",
       "      <td>675.519307</td>\n",
       "      <td>41.381836</td>\n",
       "    </tr>\n",
       "    <tr>\n",
       "      <th>3</th>\n",
       "      <td>BW_28988x28929_ltr1_pup1_ch2_6000_f_316_315_fr...</td>\n",
       "      <td>-6.845763</td>\n",
       "      <td>-0.175097</td>\n",
       "      <td>0</td>\n",
       "      <td>whistle</td>\n",
       "      <td>BW</td>\n",
       "      <td>0.032768</td>\n",
       "      <td>65.654208</td>\n",
       "      <td>23.226135</td>\n",
       "      <td>66.266209</td>\n",
       "      <td>...</td>\n",
       "      <td>0.534685</td>\n",
       "      <td>62.768555</td>\n",
       "      <td>45.776367</td>\n",
       "      <td>71.899414</td>\n",
       "      <td>26.123047</td>\n",
       "      <td>1.074766</td>\n",
       "      <td>69.946289</td>\n",
       "      <td>45.776367</td>\n",
       "      <td>-737.607479</td>\n",
       "      <td>71.899414</td>\n",
       "    </tr>\n",
       "    <tr>\n",
       "      <th>4</th>\n",
       "      <td>BW_28988x28929_ltr2_pup2_ch3_5900_f_309_309_fr...</td>\n",
       "      <td>-6.899391</td>\n",
       "      <td>2.442446</td>\n",
       "      <td>0</td>\n",
       "      <td>whistle</td>\n",
       "      <td>BW</td>\n",
       "      <td>0.026624</td>\n",
       "      <td>65.136643</td>\n",
       "      <td>33.600395</td>\n",
       "      <td>62.502347</td>\n",
       "      <td>...</td>\n",
       "      <td>0.821753</td>\n",
       "      <td>56.304932</td>\n",
       "      <td>46.508789</td>\n",
       "      <td>69.458008</td>\n",
       "      <td>22.949219</td>\n",
       "      <td>1.000000</td>\n",
       "      <td>69.458008</td>\n",
       "      <td>46.508789</td>\n",
       "      <td>-861.974863</td>\n",
       "      <td>53.344727</td>\n",
       "    </tr>\n",
       "  </tbody>\n",
       "</table>\n",
       "<p>5 rows × 32 columns</p>\n",
       "</div>"
      ],
      "text/plain": [
       "                                         source_file     umap1     umap2  \\\n",
       "0  BW_28988x28929_ltr1_pup1_ch2_6000_f_316_315_fr... -6.173034  1.324951   \n",
       "1  BW_28987x28928_ltr3_pup4_ch5_5600_f_316_308_fr... -5.962988  2.637200   \n",
       "2  BW_29915x29805_ltr2_pup1_ch2_5500_m_331_327_fr... -8.587996  2.591833   \n",
       "3  BW_28988x28929_ltr1_pup1_ch2_6000_f_316_315_fr... -6.845763 -0.175097   \n",
       "4  BW_28988x28929_ltr2_pup2_ch3_5900_f_309_309_fr... -6.899391  2.442446   \n",
       "\n",
       "   hdbscan_label human_label species  duration   meanfreq         sd  \\\n",
       "0              0     whistle      BW  0.040964  62.665558  24.507408   \n",
       "1              0     whistle      BW  0.018432  65.904374  31.705219   \n",
       "2              0     whistle      BW  0.030720  60.621909  30.345330   \n",
       "3              0     whistle      BW  0.032768  65.654208  23.226135   \n",
       "4              0     whistle      BW  0.026624  65.136643  33.600395   \n",
       "\n",
       "   freq.median  ...       sfm    meandom     mindom     maxdom    dfrange  \\\n",
       "0    58.409276  ...  0.571044  58.659480  44.311523  73.120117  28.808594   \n",
       "1    56.699819  ...  0.732590  54.028320  47.729492  59.448242  11.718750   \n",
       "2    48.970708  ...  0.690190  54.890951  41.137695  80.444336  39.306641   \n",
       "3    66.266209  ...  0.534685  62.768555  45.776367  71.899414  26.123047   \n",
       "4    62.502347  ...  0.821753  56.304932  46.508789  69.458008  22.949219   \n",
       "\n",
       "    modindx   startdom     enddom     dfslope  meanpeakf  \n",
       "0  1.220339  66.772461  44.311523 -548.309186  67.504883  \n",
       "1  1.000000  59.448242  47.729492 -635.782878  53.833008  \n",
       "2  1.472050  59.204102  79.956055  675.519307  41.381836  \n",
       "3  1.074766  69.946289  45.776367 -737.607479  71.899414  \n",
       "4  1.000000  69.458008  46.508789 -861.974863  53.344727  \n",
       "\n",
       "[5 rows x 32 columns]"
      ]
     },
     "execution_count": 94,
     "metadata": {},
     "output_type": "execute_result"
    }
   ],
   "source": [
    "all_annotations.head()"
   ]
  },
  {
   "cell_type": "markdown",
   "id": "332ab04f",
   "metadata": {},
   "source": [
    "## drop any pups whose recordings have data transfer artefacts"
   ]
  },
  {
   "cell_type": "code",
   "execution_count": 95,
   "id": "fbd505ad",
   "metadata": {},
   "outputs": [
    {
     "name": "stdout",
     "output_type": "stream",
     "text": [
      "dropping 110 vocs because they come from bad recordings...\n",
      "done.\n"
     ]
    }
   ],
   "source": [
    "#bad pups are those with a lot fo artefacts (big vertical lines) identified during annotations for das\n",
    "bad_pups = ['NB_28306x26626_ltr1_pup4_ch5_5000_m_334_300_fr0_p11_2021-10-04_10-04-13',\n",
    "            'SW_29542x30031_ltr1_pup7_ch8_1600_m_348_263_fr0_p1_2022-01-05_10-54-58',\n",
    "            'BK_26464x25680_ltr4_pup7_ch8_4500_f_355_318_fr0_p7_2021-11-24_09-42-41',\n",
    "            'BK_26464x25680_ltr3_pup4_ch5_5100_m_351_326_fr0_p7_2021-10-31_11-18-39',\n",
    "            'GO_24860x23748_ltr2_pup4_ch5_4700_m_324_292_fr0_p9_2021-10-02_12-35-01',\n",
    "            'GO_23883x23084_ltr2_pup4_ch6_6100_f_329_304_fr0_p11_2019-12-03_10-35-37']\n",
    "\n",
    "#drop them\n",
    "all_annotations['pup'] = [i.split('_clip')[0] for i in all_annotations['source_file']]\n",
    "print('dropping', len(all_annotations.loc[all_annotations['pup'].isin(bad_pups)]), 'vocs because they come from bad recordings...')\n",
    "all_annotations = all_annotations.loc[~all_annotations['pup'].isin(bad_pups)]\n",
    "assert len(all_annotations.loc[all_annotations['pup'].isin(bad_pups)]) == 0\n",
    "print('done.')\n"
   ]
  },
  {
   "cell_type": "markdown",
   "id": "c2027aa5",
   "metadata": {},
   "source": [
    "## print the total number of annotations for each species and label"
   ]
  },
  {
   "cell_type": "code",
   "execution_count": 96,
   "id": "83d30d39",
   "metadata": {},
   "outputs": [
    {
     "name": "stdout",
     "output_type": "stream",
     "text": [
      "total label counts:\n",
      "\t\n",
      "cry: 18715\n",
      "whistle: 39460\n",
      "scratch: 0\n",
      "\n",
      "\n",
      "BW\n",
      "\tcry: 2367\n",
      "\twhistle: 6865\n",
      "\tscratch: 0\n",
      "\ttotal: 9232\n",
      "BK\n",
      "\tcry: 2597\n",
      "\twhistle: 5287\n",
      "\tscratch: 0\n",
      "\ttotal: 7884\n",
      "NB\n",
      "\tcry: 2271\n",
      "\twhistle: 4916\n",
      "\tscratch: 0\n",
      "\ttotal: 7187\n",
      "SW\n",
      "\tcry: 2412\n",
      "\twhistle: 4304\n",
      "\tscratch: 0\n",
      "\ttotal: 6716\n",
      "PO\n",
      "\tcry: 2599\n",
      "\twhistle: 3065\n",
      "\tscratch: 0\n",
      "\ttotal: 5664\n",
      "LO\n",
      "\tcry: 2038\n",
      "\twhistle: 2339\n",
      "\tscratch: 0\n",
      "\ttotal: 4377\n",
      "GO\n",
      "\tcry: 2339\n",
      "\twhistle: 6660\n",
      "\tscratch: 0\n",
      "\ttotal: 8999\n",
      "LL\n",
      "\tcry: 2092\n",
      "\twhistle: 6024\n",
      "\tscratch: 0\n",
      "\ttotal: 8116\n"
     ]
    }
   ],
   "source": [
    "print('total label counts:\\n\\t')\n",
    "print('cry:', len(all_annotations.loc[all_annotations['human_label'] == 'cry']))\n",
    "print('whistle:', len(all_annotations.loc[all_annotations['human_label'] == 'whistle']))\n",
    "print('scratch:', len(all_annotations.loc[all_annotations['human_label'] == 'scratch']))\n",
    "\n",
    "print('\\n')\n",
    "for species in species_list:\n",
    "    print(species)\n",
    "    print('\\tcry:', len(all_annotations.loc[all_annotations['human_label'] == 'cry'].loc[all_annotations['species'] == species]))\n",
    "    print('\\twhistle:', len(all_annotations.loc[all_annotations['human_label'] == 'whistle'].loc[all_annotations['species'] == species]))\n",
    "    print('\\tscratch:', len(all_annotations.loc[all_annotations['human_label'] == 'scratch'].loc[all_annotations['species'] == species]))\n",
    "    print('\\ttotal:', len(all_annotations.loc[all_annotations['human_label'] == 'cry'].loc[all_annotations['species'] == species])+len(all_annotations.loc[all_annotations['human_label'] == 'whistle'].loc[all_annotations['species'] == species]))\n",
    "    "
   ]
  },
  {
   "cell_type": "markdown",
   "id": "78f5ff61",
   "metadata": {},
   "source": [
    "# Train a model to predict vocalization type (cry, USV, or nonvocal)"
   ]
  },
  {
   "cell_type": "markdown",
   "id": "1ecdcd12",
   "metadata": {},
   "source": [
    "## downsamlpe"
   ]
  },
  {
   "cell_type": "code",
   "execution_count": 97,
   "id": "9848b83e",
   "metadata": {},
   "outputs": [
    {
     "name": "stdout",
     "output_type": "stream",
     "text": [
      "BW\n",
      "BK\n",
      "NB\n",
      "SW\n",
      "PO\n",
      "LO\n",
      "GO\n",
      "LL\n",
      "done.\n"
     ]
    }
   ],
   "source": [
    "seed = 123456\n",
    "num_to_sampled = 2000\n",
    "downsampled_list = []\n",
    "\n",
    "for species in species_list:\n",
    "    \n",
    "    print(species)\n",
    "\n",
    "    #get the voc types for this label\n",
    "    temp_cry = all_annotations.loc[all_annotations['species'] == species].loc[all_annotations['human_label'] == 'cry']\n",
    "    temp_whistle = all_annotations.loc[all_annotations['species'] == species].loc[all_annotations['human_label'] == 'whistle']\n",
    "   \n",
    "    #sample\n",
    "    temp_cry = temp_cry.sample(n=num_to_sampled, random_state = seed)\n",
    "    temp_whistle = temp_whistle.sample(n=num_to_sampled, random_state = seed)\n",
    "    \n",
    "    #reasemble\n",
    "    downsampled_species = pd.concat([temp_cry, temp_whistle])\n",
    "\n",
    "    #update downsampled_list\n",
    "    downsampled_list.append(downsampled_species)\n",
    "    \n",
    "#assemble all the species\n",
    "ds_df = pd.concat(downsampled_list)\n",
    "\n",
    "print('done.')"
   ]
  },
  {
   "cell_type": "markdown",
   "id": "12b2f88f",
   "metadata": {},
   "source": [
    "## add the annotated nonvocal sounds"
   ]
  },
  {
   "cell_type": "code",
   "execution_count": 98,
   "id": "37f6a2e6",
   "metadata": {},
   "outputs": [
    {
     "name": "stderr",
     "output_type": "stream",
     "text": [
      "/n/home10/jourjine/.conda/envs/manuscript/lib/python3.7/site-packages/ipykernel_launcher.py:5: SettingWithCopyWarning: \n",
      "A value is trying to be set on a copy of a slice from a DataFrame.\n",
      "Try using .loc[row_indexer,col_indexer] = value instead\n",
      "\n",
      "See the caveats in the documentation: https://pandas.pydata.org/pandas-docs/stable/user_guide/indexing.html#returning-a-view-versus-a-copy\n",
      "  \"\"\"\n"
     ]
    }
   ],
   "source": [
    "#get annotated scratch sounds\n",
    "nonvocal_df = pd.read_csv(annotations_20220321)\n",
    "nonvocal_df['human_label'] = [i.split('_')[0] for i in nonvocal_df['source_file']]\n",
    "nonvocal_df_scratch = nonvocal_df.loc[nonvocal_df['human_label'] == 'scratch']\n",
    "nonvocal_df_scratch['species'] = [i.split('_')[1] for i in nonvocal_df_scratch['source_file']]\n",
    "nonvocal_df_scratch = nonvocal_df_scratch[base_features+extra_features+['source_file','species', 'human_label']]\n",
    "\n",
    "#merge with vocalizations\n",
    "ds_df = ds_df.drop(columns = ['umap1', 'umap2', 'hdbscan_label', 'pup'])\n",
    "assert sorted(nonvocal_df_scratch.columns) == sorted(ds_df.columns)\n",
    "ds_df = pd.concat([ds_df, nonvocal_df_scratch])"
   ]
  },
  {
   "cell_type": "code",
   "execution_count": 99,
   "id": "10b4a32d",
   "metadata": {},
   "outputs": [
    {
     "name": "stdout",
     "output_type": "stream",
     "text": [
      "annotations by species:\n",
      "\n",
      "BW : 4317\n",
      "BK : 4022\n",
      "NB : 4047\n",
      "SW : 4012\n",
      "PO : 4213\n",
      "LO : 4061\n",
      "GO : 4308\n",
      "LL : 4254\n"
     ]
    }
   ],
   "source": [
    "#show annotations by species\n",
    "\n",
    "print('annotations by species:\\n')\n",
    "for i in species_list:\n",
    "    print(i,':', len(ds_df.loc[ds_df['species'] == i]))"
   ]
  },
  {
   "cell_type": "code",
   "execution_count": 100,
   "id": "c26ac113",
   "metadata": {},
   "outputs": [
    {
     "name": "stdout",
     "output_type": "stream",
     "text": [
      "annotations by label:\n",
      "\n",
      "cry: 16000\n",
      "whistle: 16000\n",
      "scratch: 1242\n"
     ]
    }
   ],
   "source": [
    "# show annotations by label\n",
    "\n",
    "print('annotations by label:\\n')\n",
    "print('cry:', len(ds_df.loc[ds_df['human_label'] == 'cry']))\n",
    "print('whistle:', len(ds_df.loc[ds_df['human_label'] == 'whistle']))\n",
    "print('scratch:', len(ds_df.loc[ds_df['human_label'] == 'scratch']))"
   ]
  },
  {
   "cell_type": "markdown",
   "id": "6ae38c2a",
   "metadata": {},
   "source": [
    "## select the features"
   ]
  },
  {
   "cell_type": "code",
   "execution_count": 101,
   "id": "7ae632ae",
   "metadata": {},
   "outputs": [
    {
     "name": "stdout",
     "output_type": "stream",
     "text": [
      "['cry' 'whistle' 'scratch']\n"
     ]
    }
   ],
   "source": [
    "print(ds_df['human_label'].unique())\n",
    "df = ds_df[base_features+extra_features]"
   ]
  },
  {
   "cell_type": "markdown",
   "id": "2103dc22",
   "metadata": {},
   "source": [
    "## make sure there are no duplicates"
   ]
  },
  {
   "cell_type": "code",
   "execution_count": 102,
   "id": "18722cf1",
   "metadata": {},
   "outputs": [
    {
     "name": "stdout",
     "output_type": "stream",
     "text": [
      "No duplicates\n"
     ]
    }
   ],
   "source": [
    "assert ds_df.duplicated(subset=['source_file']).sum() == 0\n",
    "print('No duplicates')"
   ]
  },
  {
   "cell_type": "markdown",
   "id": "8ddb265e",
   "metadata": {},
   "source": [
    "## check for missing data"
   ]
  },
  {
   "cell_type": "code",
   "execution_count": 103,
   "id": "d7f2808b",
   "metadata": {},
   "outputs": [
    {
     "name": "stdout",
     "output_type": "stream",
     "text": [
      "No missing data\n"
     ]
    }
   ],
   "source": [
    "if df.isnull().values.any() == True:\n",
    "    print('There are', df.isnull().sum().sum(), 'missing data')\n",
    "    #if there are missing data, replace them by the mean of the rest of the data from the column they come from \n",
    "    #all data are numeric in the current features data set, but if ever there are categorical features these should be excluded here\n",
    "\n",
    "    from sklearn.impute import SimpleImputer\n",
    "    imputer = SimpleImputer(missing_values = np.nan, strategy = 'mean')\n",
    "    imputer.fit(df)\n",
    "    df = imputer.transform(df)\n",
    "    print('imputed missing data using SimpleImputer...')\n",
    "    \n",
    "else: \n",
    "    print('No missing data')\n"
   ]
  },
  {
   "cell_type": "markdown",
   "id": "1990a0e2",
   "metadata": {},
   "source": [
    "## choose the model type and split the data"
   ]
  },
  {
   "cell_type": "code",
   "execution_count": 104,
   "id": "41a3f02f",
   "metadata": {},
   "outputs": [
    {
     "name": "stdout",
     "output_type": "stream",
     "text": [
      "splitting the data...\n",
      "done.\n"
     ]
    }
   ],
   "source": [
    "#Split the test data from the train data - do this before scaling! \n",
    "#Scaling before splitting will result in information leakage between train and test data sets\n",
    "\n",
    "random_state = 123456\n",
    "test_size = 0.2\n",
    "model_type = 'random_forest'\n",
    "assert model_type in ['random_forest'] # add more model types here if you like\n",
    "\n",
    "#choose the data and the label and convert to numpy array\n",
    "\n",
    "X = np.array(df)\n",
    "y = np.array(ds_df['human_label'])\n",
    "\n",
    "#split the data\n",
    "print('splitting the data...')\n",
    "X_train, X_test, y_train, y_test = train_test_split(X, y, test_size = test_size, random_state = random_state)\n"
   ]
  },
  {
   "cell_type": "markdown",
   "id": "eb5c1773",
   "metadata": {},
   "source": [
    "## train"
   ]
  },
  {
   "cell_type": "code",
   "execution_count": 123,
   "id": "de10aa27",
   "metadata": {},
   "outputs": [
    {
     "name": "stdout",
     "output_type": "stream",
     "text": [
      "out of box score: 0.995788365359305\n"
     ]
    }
   ],
   "source": [
    "random_state = 123456\n",
    "if model_type == 'random_forest':\n",
    "    \n",
    "    n_estimators = 10000\n",
    "    criterion = 'entropy'\n",
    "    \n",
    "    RF_model = RandomForestClassifier(n_estimators = n_estimators, \n",
    "                                      criterion = 'entropy', \n",
    "                                      random_state = random_state, \n",
    "                                      oob_score=True)\n",
    "    RF_model.fit(X_train, y_train)\n",
    "\n",
    "    print('out of box score:', RF_model.oob_score_)"
   ]
  },
  {
   "cell_type": "markdown",
   "id": "01697f5a",
   "metadata": {},
   "source": [
    "## evaluate"
   ]
  },
  {
   "cell_type": "code",
   "execution_count": 107,
   "id": "b048d9cb",
   "metadata": {},
   "outputs": [
    {
     "data": {
      "image/png": "[encoded data removed]",
      "text/plain": [
       "<Figure size 216x216 with 2 Axes>"
      ]
     },
     "metadata": {
      "needs_background": "light"
     },
     "output_type": "display_data"
    }
   ],
   "source": [
    "#Evaluate the model on held out data and plot a confusion matrix\n",
    "\n",
    "save = False\n",
    "\n",
    "###################################################################################################################\n",
    "\n",
    "#Evaluate the model on held out data\n",
    "#choose the model to evaluate\n",
    "voc_type_model_path = '/n/hoekstra_lab_tier1/Users/njourjine/manuscript/models/random_forest/voc_type_classifiers/20230116_084254/random_forest_20230116_084254_voc_type_model.pkl'\n",
    "RF_model = pickle.load(open(voc_type_model_path, 'rb'))\n",
    "model = RF_model\n",
    "\n",
    "y_pred = model.predict(X_test)\n",
    "labels = ['cry', 'whistle', 'scratch']\n",
    "cm = confusion_matrix(y_test,y_pred, labels = labels)\n",
    "fig = plt.figure(figsize=[3,3])\n",
    "\n",
    "#normalize by row sum\n",
    "cm_df = pd.DataFrame(cm, columns=labels, index=labels)\n",
    "cm_df = cm_df.div(cm_df.sum(axis=1), axis=0)\n",
    "\n",
    "sns.set(font_scale=1.4) # for label size\n",
    "sns.heatmap(cm_df, \n",
    "            annot=True, \n",
    "            annot_kws={\"size\": 9}, \n",
    "            cmap='viridis', \n",
    "            xticklabels=True, \n",
    "            yticklabels=True, \n",
    "            vmin=0, \n",
    "            vmax=1, \n",
    "            square=True) # font size\n",
    "\n",
    "classification_report(y_test, y_pred, output_dict=True)\n",
    "\n",
    "if save:\n",
    "    plt.savefig('/n/hoekstra_lab_tier1/Users/njourjine/manuscript/figures/figure_2/panels/voctype_RF_20221015.jpeg', dpi=600)\n",
    "    plt.savefig('/n/hoekstra_lab_tier1/Users/njourjine/manuscript/figures/figure_2/panels/voctype_RF_20221015.svg') "
   ]
  },
  {
   "cell_type": "markdown",
   "id": "b4963a21",
   "metadata": {},
   "source": [
    "## save the model"
   ]
  },
  {
   "cell_type": "code",
   "execution_count": 130,
   "id": "0dc8939a",
   "metadata": {},
   "outputs": [
    {
     "name": "stdout",
     "output_type": "stream",
     "text": [
      "made a directory:\n",
      "\t /n/hoekstra_lab_tier1/Users/njourjine/manuscript/models/random_forest/voc_type_classifiers/20230116_084254/\n",
      "making a new params file...\n",
      "saved the params file to:\n",
      " /n/hoekstra_lab_tier1/Users/njourjine/manuscript/models/random_forest/voc_type_classifiers/20230116_084254/random_forest_20230116_084254_params\n",
      "saved model to:\n",
      "\t /n/hoekstra_lab_tier1/Users/njourjine/manuscript/models/random_forest/voc_type_classifiers/20230116_084254/random_forest_20230116_084254_voc_type_model.pkl\n",
      "done.\n"
     ]
    }
   ],
   "source": [
    "# write model params\n",
    "\n",
    "if model_type == 'random_forest':\n",
    "    \n",
    "    model_params = {'model_type':model_type,\n",
    "                    'feature_set':list(base_features+extra_features),\n",
    "                    'targets': list(ds_df['human_label'].unique()),\n",
    "                    'test_size':test_size,\n",
    "                    'number_training_cries':len(ds_df.loc[ds_df['human_label']=='cry']),\n",
    "                    'number_training_whistles':len(ds_df.loc[ds_df['human_label']=='whistle']),\n",
    "                    'number_training_nonvocal':len(ds_df.loc[ds_df['human_label']=='scratch']),\n",
    "                    'n_estimators':n_estimators,\n",
    "                    'criterion':criterion,\n",
    "                    'random_state':random_state}         \n",
    "    \n",
    "    if model_params['targets'] == ['cry', 'whistle', 'scratch']:\n",
    "        target_dir = 'voc_type_classifiers'\n",
    "        models_root = '/n/hoekstra_lab_tier1/Users/njourjine/manuscript/models/random_forest/'\n",
    "        iteration = parameters.get_date_time()\n",
    "        params_save_name = ('_').join([model_type,iteration,'params'])\n",
    "        params_save_dir = os.path.join(models_root,target_dir,iteration)+'/'\n",
    "\n",
    "        if iteration not in os.listdir(os.path.join(models_root,target_dir)):\n",
    "            os.mkdir(params_save_dir)\n",
    "            print('made a directory:\\n\\t', params_save_dir)\n",
    "\n",
    "        #save the parameters\n",
    "        parameters.save_parameters(params = model_params,\n",
    "                                   save_dir=params_save_dir, \n",
    "                                   save_name=params_save_name)\n",
    "\n",
    "        #save the model\n",
    "        model_save_name = ('_').join([model_type,iteration,'voc_type_model'])                               \n",
    "        pickle.dump(RF_model, open(os.path.join(params_save_dir,model_save_name)+'.pkl', 'wb'))\n",
    "        assert os.path.exists(os.path.join(params_save_dir,model_save_name)+'.pkl')\n",
    "        print('saved model to:\\n\\t', os.path.join(params_save_dir,model_save_name)+'.pkl')\n",
    "        print('done.')\n",
    "\n",
    "    elif 'BW' in model_params['targets']:\n",
    "        target_dir = 'species_classifiers'\n",
    "        models_root = '/n/hoekstra_lab_tier1/Users/njourjine/manuscript/models/random_forest/'\n",
    "        iteration = get_date_time()\n",
    "        params_save_name = ('_').join([model_type,iteration,'params'])\n",
    "        params_save_dir = os.path.join(models_root,target_dir,iteration)+'/'\n",
    "\n",
    "        if iteration not in os.listdir(os.path.join(models_root,target_dir)):\n",
    "            os.mkdir(params_save_dir)\n",
    "            print('made a directory:\\n\\t', params_save_dir)\n",
    "\n",
    "        #save the parameters\n",
    "        save_parameters(params = model_params,\n",
    "                        save_dir=params_save_dir, \n",
    "                        save_name=params_save_name)\n",
    "\n",
    "        #save the model\n",
    "        model_save_name = ('_').join([model_type,iteration,'model'])                               \n",
    "        pickle.dump(RF_model, open(os.path.join(params_save_dir,model_save_name)+'.pkl', 'wb'))\n",
    "        assert os.path.exists(os.path.join(params_save_dir,model_save_name)+'.pkl')\n",
    "        print('saved model to:\\n\\t', os.path.join(params_save_dir,model_save_name)+'.pkl')\n",
    "        print('done.')\n"
   ]
  },
  {
   "cell_type": "markdown",
   "id": "a65a46d5",
   "metadata": {},
   "source": [
    "# Train a model to predict species from vocalization type (cry or USV)"
   ]
  },
  {
   "cell_type": "markdown",
   "id": "7fde61a7",
   "metadata": {},
   "source": [
    "## summary of annotated vocalizations"
   ]
  },
  {
   "cell_type": "code",
   "execution_count": 108,
   "id": "1db85dd1",
   "metadata": {},
   "outputs": [
    {
     "name": "stdout",
     "output_type": "stream",
     "text": [
      "total label counts:\n",
      "\t\n",
      "cry: 18715\n",
      "whistle: 39460\n",
      "scratch: 0\n",
      "\n",
      "\n",
      "BW\n",
      "\tcry: 2367\n",
      "\twhistle: 6865\n",
      "\tscratch: 0\n",
      "BK\n",
      "\tcry: 2597\n",
      "\twhistle: 5287\n",
      "\tscratch: 0\n",
      "NB\n",
      "\tcry: 2271\n",
      "\twhistle: 4916\n",
      "\tscratch: 0\n",
      "SW\n",
      "\tcry: 2412\n",
      "\twhistle: 4304\n",
      "\tscratch: 0\n",
      "PO\n",
      "\tcry: 2599\n",
      "\twhistle: 3065\n",
      "\tscratch: 0\n",
      "LO\n",
      "\tcry: 2038\n",
      "\twhistle: 2339\n",
      "\tscratch: 0\n",
      "GO\n",
      "\tcry: 2339\n",
      "\twhistle: 6660\n",
      "\tscratch: 0\n",
      "LL\n",
      "\tcry: 2092\n",
      "\twhistle: 6024\n",
      "\tscratch: 0\n"
     ]
    }
   ],
   "source": [
    "#print the number of annotations for each species and label\n",
    "print('total label counts:\\n\\t')\n",
    "print('cry:', len(all_annotations.loc[all_annotations['human_label'] == 'cry']))\n",
    "print('whistle:', len(all_annotations.loc[all_annotations['human_label'] == 'whistle']))\n",
    "print('scratch:', len(all_annotations.loc[all_annotations['human_label'] == 'scratch']))\n",
    "\n",
    "print('\\n')\n",
    "for species in species_list:\n",
    "    print(species)\n",
    "    print('\\tcry:', len(all_annotations.loc[all_annotations['human_label'] == 'cry'].loc[all_annotations['species'] == species]))\n",
    "    print('\\twhistle:', len(all_annotations.loc[all_annotations['human_label'] == 'whistle'].loc[all_annotations['species'] == species]))\n",
    "    print('\\tscratch:', len(all_annotations.loc[all_annotations['human_label'] == 'scratch'].loc[all_annotations['species'] == species]))\n",
    "          "
   ]
  },
  {
   "cell_type": "markdown",
   "id": "151ef205",
   "metadata": {},
   "source": [
    "## choose the vocalization type"
   ]
  },
  {
   "cell_type": "code",
   "execution_count": 112,
   "id": "c1042b14",
   "metadata": {},
   "outputs": [],
   "source": [
    "voc_type = 'USV'"
   ]
  },
  {
   "cell_type": "markdown",
   "id": "9fa85c21",
   "metadata": {},
   "source": [
    "## downsample"
   ]
  },
  {
   "cell_type": "code",
   "execution_count": 115,
   "id": "f1e972d6",
   "metadata": {},
   "outputs": [
    {
     "name": "stdout",
     "output_type": "stream",
     "text": [
      "annotations by species:\n",
      "\n",
      "BW : 2000\n",
      "BK : 2000\n",
      "NB : 2000\n",
      "SW : 2000\n",
      "PO : 2000\n",
      "LO : 2000\n",
      "GO : 2000\n",
      "LL : 2000\n",
      "annotations by label:\n",
      "\n",
      "cry: 0\n",
      "whistle: 16000\n",
      "scratch: 0\n"
     ]
    }
   ],
   "source": [
    "\n",
    "seed = 123456\n",
    "num_to_sample = 2000\n",
    "species_list = ['BW', 'BK', 'NB', 'SW', 'PO', 'LO', 'GO', 'LL']\n",
    "\n",
    "#####################################################################################\n",
    "\n",
    "if voc_type == 'cry':\n",
    "    \n",
    "    downsampled_list = []\n",
    "\n",
    "    for species in species_list:\n",
    "\n",
    "        #get the voc types for this label\n",
    "        temp_cry = all_annotations.loc[all_annotations['species'] == species].loc[all_annotations['human_label'] == 'cry']\n",
    "    \n",
    "        #sample\n",
    "        temp_cry = temp_cry.sample(n=num_to_sample, random_state = seed)\n",
    "        \n",
    "        #reasemble\n",
    "        downsampled_species = temp_cry\n",
    "        \n",
    "        #update downsampled_list\n",
    "        downsampled_list.append(downsampled_species)\n",
    "\n",
    "    #assemble all the species\n",
    "    ds_df = pd.concat(downsampled_list)\n",
    "    ds_df = ds_df.reset_index(drop=True)\n",
    "\n",
    "    #show some useful info\n",
    "    print('annotations by species:\\n')\n",
    "    for i in species_list:\n",
    "        print(i,':', len(ds_df.loc[ds_df['species'] == i]))\n",
    "\n",
    "    print('annotations by label:\\n')\n",
    "    print('cry:', len(ds_df.loc[ds_df['human_label'] == 'cry']))\n",
    "    print('whistle:', len(ds_df.loc[ds_df['human_label'] == 'whistle']))\n",
    "    print('scratch:', len(ds_df.loc[ds_df['human_label'] == 'scratch']))\n",
    "\n",
    "elif voc_type == 'USV':\n",
    "    \n",
    "    downsampled_list = []\n",
    "\n",
    "    for species in species_list:\n",
    "\n",
    "        #get the voc types for this label       \n",
    "        temp_USV = all_annotations.loc[all_annotations['species'] == species].loc[all_annotations['human_label'] == 'whistle']\n",
    "\n",
    "        #sample\n",
    "        temp_USV = temp_USV.sample(n=num_to_sample, random_state = seed)\n",
    "\n",
    "        #reasemble\n",
    "        downsampled_species = temp_USV\n",
    "        \n",
    "        #update downsampled_list\n",
    "        downsampled_list.append(downsampled_species)\n",
    "\n",
    "    #assemble all the species\n",
    "    ds_df = pd.concat(downsampled_list)\n",
    "    ds_df = ds_df.reset_index(drop=True)\n",
    "\n",
    "    #show some useful info\n",
    "    print('annotations by species:\\n')\n",
    "    for i in species_list:\n",
    "        print(i,':', len(ds_df.loc[ds_df['species'] == i]))\n",
    "\n",
    "    print('annotations by label:\\n')\n",
    "    print('cry:', len(ds_df.loc[ds_df['human_label'] == 'cry']))\n",
    "    print('whistle:', len(ds_df.loc[ds_df['human_label'] == 'whistle']))\n",
    "    print('scratch:', len(ds_df.loc[ds_df['human_label'] == 'scratch']))\n",
    "    \n"
   ]
  },
  {
   "cell_type": "markdown",
   "id": "d621dac9",
   "metadata": {},
   "source": [
    "## train the model to predict species from a specific vocalization type"
   ]
  },
  {
   "cell_type": "markdown",
   "id": "86365555",
   "metadata": {},
   "source": [
    "## select features"
   ]
  },
  {
   "cell_type": "code",
   "execution_count": 41,
   "id": "5c2ca334",
   "metadata": {
    "ExecuteTime": {
     "end_time": "2023-01-09T10:46:16.922599Z",
     "start_time": "2023-01-09T10:46:16.919015Z"
    }
   },
   "outputs": [],
   "source": [
    "#choose voc_type if you want to normalize by weight or not\n",
    "\n",
    "features = ['duration', \n",
    "            'dfslope', \n",
    "            'time.median', \n",
    "            'time.IQR', \n",
    "            'time.Q25', \n",
    "            'time.Q75', \n",
    "            'meanfreq', \n",
    "            'meandom', \n",
    "            'freq.IQR', \n",
    "            'freq.Q25', \n",
    "            'freq.Q75', \n",
    "            'freq.median', \n",
    "            'sp.ent', \n",
    "            'time.ent']\n",
    "\n",
    "voc_ds_df = ds_df.loc[ds_df['human_label'] == voc_type]\n",
    "df = voc_ds_df[features]\n",
    "    "
   ]
  },
  {
   "cell_type": "markdown",
   "id": "ff72943d",
   "metadata": {},
   "source": [
    "## check for missing and duplicate data"
   ]
  },
  {
   "cell_type": "code",
   "execution_count": 42,
   "id": "909ca9d3",
   "metadata": {},
   "outputs": [
    {
     "name": "stdout",
     "output_type": "stream",
     "text": [
      "No missing data\n",
      "No duplicate data\n"
     ]
    }
   ],
   "source": [
    "if df.isnull().values.any() == True:\n",
    "    print('There are', df.isnull().sum().sum(), 'missing data')\n",
    "    #if there are missing data, replace them by the mean of the rest of the data from the column they come from \n",
    "    #all data are numeric in the current features data set, but if ever there are categorical features these should be excluded here\n",
    "\n",
    "    from sklearn.impute import SimpleImputer\n",
    "    imputer = SimpleImputer(missing_values = np.nan, strategy = 'mean')\n",
    "    imputer.fit(df)\n",
    "    df = imputer.transform(df)\n",
    "    print('imputed missing data using SimpleImputer...')\n",
    "    \n",
    "else: \n",
    "    print('No missing data')\n",
    "    \n",
    "assert voc_ds_df.duplicated(subset=['source_file']).sum() == 0\n",
    "print('No duplicate data')"
   ]
  },
  {
   "cell_type": "markdown",
   "id": "b53845a0",
   "metadata": {},
   "source": [
    "## choose the model type and split the data"
   ]
  },
  {
   "cell_type": "code",
   "execution_count": 43,
   "id": "d03de8d2",
   "metadata": {},
   "outputs": [
    {
     "name": "stdout",
     "output_type": "stream",
     "text": [
      "splitting the data...\n",
      "done.\n"
     ]
    }
   ],
   "source": [
    "#Split the test data from the train data - do this before scaling! Scaling before splitting \n",
    "#will result in information leakage between train and test data sets\n",
    "\n",
    "model_type = 'random_forest'\n",
    "assert model_type in ['random_forest']\n",
    "\n",
    "#Typical split is 80% train 20% test\n",
    "random_state = 123456\n",
    "test_size = 0.2\n",
    "\n",
    "#import packages\n",
    "import numpy as np\n",
    "from sklearn.model_selection import train_test_split\n",
    "from sklearn.preprocessing import StandardScaler\n",
    "\n",
    "#choose the data and the label and convert to numpy array\n",
    "target = 'species'\n",
    "X = np.array(df)\n",
    "y = np.array(voc_ds_df[target])\n",
    "\n",
    "#split the data\n",
    "print('splitting the data...')\n",
    "X_train, X_test, y_train, y_test = train_test_split(X, y, test_size = test_size, random_state = random_state)\n",
    "\n",
    "print('done.')"
   ]
  },
  {
   "cell_type": "markdown",
   "id": "0e14d6fc",
   "metadata": {},
   "source": [
    "## train"
   ]
  },
  {
   "cell_type": "code",
   "execution_count": 45,
   "id": "8d4f96f4",
   "metadata": {},
   "outputs": [
    {
     "name": "stdout",
     "output_type": "stream",
     "text": [
      "0.545703125\n"
     ]
    }
   ],
   "source": [
    "random_state = 123456\n",
    "if model_type == 'random_forest':\n",
    "    \n",
    "    n_estimators = 500\n",
    "    criterion = 'entropy'\n",
    "    \n",
    "    RF_model = RandomForestClassifier(n_estimators = n_estimators, \n",
    "                                      criterion = 'entropy', \n",
    "                                      random_state = random_state, \n",
    "                                      bootstrap = True,\n",
    "                                      oob_score=True)\n",
    "    RF_model.fit(X_train, y_train)\n",
    "\n",
    "    print(RF_model.oob_score_)\n",
    "\n",
    "    #RF_scores = cross_val_score(estimator = RF_model, X = X_train, y = y_train, cv=10) #10 is the most common number of folds\n",
    "    #print(\"%0.2f accuracy with a standard deviation of %0.2f\" % (RF_scores.mean(), RF_scores.std()))\n",
    "        "
   ]
  },
  {
   "cell_type": "markdown",
   "id": "b5b3a891",
   "metadata": {},
   "source": [
    "## evaluate"
   ]
  },
  {
   "cell_type": "code",
   "execution_count": 46,
   "id": "9b7e7f9a",
   "metadata": {},
   "outputs": [
    {
     "data": {
      "image/png": "[encoded data removed]",
      "text/plain": [
       "<Figure size 720x720 with 2 Axes>"
      ]
     },
     "metadata": {},
     "output_type": "display_data"
    }
   ],
   "source": [
    "\n",
    "save = False\n",
    "\n",
    "###################################################################################################################\n",
    "\n",
    "#Evaluate the model on held out data\n",
    "from sklearn.metrics import classification_report, confusion_matrix, plot_confusion_matrix, accuracy_score\n",
    "import matplotlib as mpl\n",
    "\n",
    "#choose the model to evaluate\n",
    "model = RF_model\n",
    "\n",
    "y_pred = model.predict(X_test)\n",
    "labels = ['BK', 'NB', 'SW', 'BW', 'PO', 'LO', 'GO', 'LL']\n",
    "cm = confusion_matrix(y_test,y_pred, labels = labels)\n",
    "fig = plt.figure(figsize=[10,10])\n",
    "\n",
    "#normalize by row sum\n",
    "cm_df = pd.DataFrame(cm, columns=labels, index=labels)\n",
    "cm_df = cm_df.div(cm_df.sum(axis=1), axis=0)\n",
    "\n",
    "sns.set(font_scale=1.4) # for label size\n",
    "sns.heatmap(cm_df, \n",
    "            annot=True, \n",
    "            annot_kws={\"size\": 9}, \n",
    "            cmap='viridis', \n",
    "            xticklabels=True, \n",
    "            yticklabels=True, \n",
    "            vmin=0, \n",
    "            vmax=1, \n",
    "            square=True) # font size\n",
    "\n",
    "report = classification_report(y_test, y_pred, output_dict=True)\n",
    "\n",
    "if save:\n",
    "    plt.savefig('/n/hoekstra_lab_tier1/Users/njourjine/manuscript/figures/figure_2/'+voc_type+'_RF_1000_trees_20221012.jpeg', dpi=600)\n",
    "    plt.savefig('/n/hoekstra_lab_tier1/Users/njourjine/manuscript/figures/figure_2/'+voc_type+'_RF_1000_trees_20221012.pdf')\n"
   ]
  },
  {
   "cell_type": "markdown",
   "id": "0e6444fb",
   "metadata": {},
   "source": [
    "## save the model"
   ]
  },
  {
   "cell_type": "code",
   "execution_count": 49,
   "id": "5faca325",
   "metadata": {},
   "outputs": [
    {
     "name": "stdout",
     "output_type": "stream",
     "text": [
      "made a directory:\n",
      "\t /n/hoekstra_lab_tier1/Users/njourjine/manuscript/models/random_forest/species_classifiers/20230116_094413/\n",
      "making a new params file...\n",
      "saved the params file to:\n",
      " /n/hoekstra_lab_tier1/Users/njourjine/manuscript/models/random_forest/species_classifiers/20230116_094413/random_forest_20230116_094413_species_params_cry\n",
      "saved model to:\n",
      "\t /n/hoekstra_lab_tier1/Users/njourjine/manuscript/models/random_forest/species_classifiers/20230116_094413/random_forest_20230116_094413_species_model_cry.pkl\n",
      "done.\n"
     ]
    }
   ],
   "source": [
    "# write model params\n",
    "\n",
    "training_df = voc_ds_df\n",
    "if model_type == 'random_forest':\n",
    "    \n",
    "    model_params = {'model_type':model_type,\n",
    "                    'feature_set':list(base_features+extra_features),\n",
    "                    'targets': list(training_df['species'].unique()),\n",
    "                    'test_size':test_size,\n",
    "                    'number_training_cries':len(training_df.loc[training_df['human_label']=='cry']),\n",
    "                    'number_training_whistles':len(training_df.loc[training_df['human_label']=='whistle']),\n",
    "                    'number_training_nonvocal':len(training_df.loc[training_df['human_label']=='scratch']),\n",
    "                    'n_estimators':n_estimators,\n",
    "                    'criterion':criterion,\n",
    "                    'random_state':random_state}         \n",
    "    \n",
    "    if model_params['targets'] == ['cry', 'whistle', 'scratch']:\n",
    "        target_dir = 'voc_type_classifiers'\n",
    "        models_root = '/n/hoekstra_lab_tier1/Users/njourjine/manuscript/models/random_forest/'\n",
    "        iteration = parameters.get_date_time()\n",
    "        params_save_name = ('_').join([model_type,iteration,'voc_type_params'])\n",
    "        params_save_dir = os.path.join(models_root,target_dir,iteration)+'/'\n",
    "\n",
    "        if iteration not in os.listdir(os.path.join(models_root,target_dir)):\n",
    "            os.mkdir(params_save_dir)\n",
    "            print('made a directory:\\n\\t', params_save_dir)\n",
    "\n",
    "        #save the parameters\n",
    "        parameters.save_parameters(params = model_params,\n",
    "                                   save_dir=params_save_dir, \n",
    "                                   save_name=params_save_name)\n",
    "\n",
    "        #save the model\n",
    "        model_save_name = ('_').join([model_type,iteration,'voc_type_model'])                               \n",
    "        pickle.dump(RF_model, open(os.path.join(params_save_dir,model_save_name)+'.pkl', 'wb'))\n",
    "        assert os.path.exists(os.path.join(params_save_dir,model_save_name)+'.pkl')\n",
    "        print('saved model to:\\n\\t', os.path.join(params_save_dir,model_save_name)+'.pkl')\n",
    "        print('done.')\n",
    "\n",
    "    elif 'BW' in model_params['targets']:\n",
    "        target_dir = 'species_classifiers'\n",
    "        models_root = '/n/hoekstra_lab_tier1/Users/njourjine/manuscript/models/random_forest/'\n",
    "        iteration = parameters.get_date_time()\n",
    "        params_save_name = ('_').join([model_type,iteration,'species_params', voc_type])\n",
    "        params_save_dir = os.path.join(models_root,target_dir,iteration)+'/'\n",
    "\n",
    "        if iteration not in os.listdir(os.path.join(models_root,target_dir)):\n",
    "            os.mkdir(params_save_dir)\n",
    "            print('made a directory:\\n\\t', params_save_dir)\n",
    "\n",
    "        #save the parameters\n",
    "        parameters.save_parameters(params = model_params,\n",
    "                                   save_dir=params_save_dir, \n",
    "                                   save_name=params_save_name)\n",
    "\n",
    "        #save the model\n",
    "        model_save_name = ('_').join([model_type,iteration,'species_model', voc_type])                               \n",
    "        pickle.dump(RF_model, open(os.path.join(params_save_dir,model_save_name)+'.pkl', 'wb'))\n",
    "        assert os.path.exists(os.path.join(params_save_dir,model_save_name)+'.pkl')\n",
    "        print('saved model to:\\n\\t', os.path.join(params_save_dir,model_save_name)+'.pkl')\n",
    "        print('done.')\n"
   ]
  },
  {
   "cell_type": "markdown",
   "id": "c6a8fb36",
   "metadata": {},
   "source": [
    "# Train multiple models on varying amounts of training examples"
   ]
  },
  {
   "cell_type": "code",
   "execution_count": 27,
   "id": "793ff4be",
   "metadata": {},
   "outputs": [
    {
     "name": "stdout",
     "output_type": "stream",
     "text": [
      "cry\n",
      "training random forest on 50 vocalizations.\n",
      "\tsampling data...\n",
      "\ttraining model...\n",
      "\tevaluating model...\n",
      "training random forest on 200 vocalizations.\n",
      "\tsampling data...\n",
      "\ttraining model...\n",
      "\tevaluating model...\n",
      "training random forest on 400 vocalizations.\n",
      "\tsampling data...\n",
      "\ttraining model...\n",
      "\tevaluating model...\n",
      "training random forest on 600 vocalizations.\n",
      "\tsampling data...\n",
      "\ttraining model...\n",
      "\tevaluating model...\n",
      "training random forest on 800 vocalizations.\n",
      "\tsampling data...\n",
      "\ttraining model...\n",
      "\tevaluating model...\n",
      "training random forest on 1000 vocalizations.\n",
      "\tsampling data...\n",
      "\ttraining model...\n",
      "\tevaluating model...\n",
      "training random forest on 1200 vocalizations.\n",
      "\tsampling data...\n",
      "\ttraining model...\n",
      "\tevaluating model...\n",
      "training random forest on 1400 vocalizations.\n",
      "\tsampling data...\n",
      "\ttraining model...\n",
      "\tevaluating model...\n",
      "training random forest on 1600 vocalizations.\n",
      "\tsampling data...\n",
      "\ttraining model...\n",
      "\tevaluating model...\n",
      "training random forest on 1800 vocalizations.\n",
      "\tsampling data...\n",
      "\ttraining model...\n",
      "\tevaluating model...\n",
      "training random forest on 2000 vocalizations.\n",
      "\tsampling data...\n",
      "\ttraining model...\n",
      "\tevaluating model...\n",
      "done.\n",
      "whistle\n",
      "training random forest on 50 vocalizations.\n",
      "\tsampling data...\n",
      "\ttraining model...\n",
      "\tevaluating model...\n",
      "training random forest on 200 vocalizations.\n",
      "\tsampling data...\n",
      "\ttraining model...\n",
      "\tevaluating model...\n",
      "training random forest on 400 vocalizations.\n",
      "\tsampling data...\n",
      "\ttraining model...\n",
      "\tevaluating model...\n",
      "training random forest on 600 vocalizations.\n",
      "\tsampling data...\n",
      "\ttraining model...\n",
      "\tevaluating model...\n",
      "training random forest on 800 vocalizations.\n",
      "\tsampling data...\n",
      "\ttraining model...\n",
      "\tevaluating model...\n",
      "training random forest on 1000 vocalizations.\n",
      "\tsampling data...\n",
      "\ttraining model...\n",
      "\tevaluating model...\n",
      "training random forest on 1200 vocalizations.\n",
      "\tsampling data...\n",
      "\ttraining model...\n",
      "\tevaluating model...\n",
      "training random forest on 1400 vocalizations.\n",
      "\tsampling data...\n",
      "\ttraining model...\n",
      "\tevaluating model...\n",
      "training random forest on 1600 vocalizations.\n",
      "\tsampling data...\n",
      "\ttraining model...\n",
      "\tevaluating model...\n",
      "training random forest on 1800 vocalizations.\n",
      "\tsampling data...\n",
      "\ttraining model...\n",
      "\tevaluating model...\n",
      "training random forest on 2000 vocalizations.\n",
      "\tsampling data...\n",
      "\ttraining model...\n",
      "\tevaluating model...\n",
      "done.\n",
      "done.\n"
     ]
    }
   ],
   "source": [
    "#evaluate machine learning models trained on varying amounts of data\n",
    "\n",
    "\n",
    "features = ['duration', \n",
    "            'dfslope', \n",
    "             'time.median', \n",
    "             'time.IQR', \n",
    "             'time.Q25', \n",
    "             'time.Q75', \n",
    "              'meanfreq', \n",
    "              'meandom', \n",
    "              'freq.IQR', \n",
    "              'freq.Q25', \n",
    "              'freq.Q75', \n",
    "              'freq.median', \n",
    "              'sp.ent', \n",
    "              'time.ent']\n",
    "\n",
    "species_list = ['BW', 'BK', 'NB', 'SW', 'PO', 'LO', 'GO', 'LL']\n",
    "sample_sizes = [50, 200, 400, 600, 800, 1000, 1200, 1400, 1600, 1800, 2000]\n",
    "\n",
    "print('cry')\n",
    "cry_prediction_df = machinelearning.get_metric_by_sample_size(\n",
    "                                                              voc_type = 'cry', \n",
    "                                                              voc_df = all_annotations, \n",
    "                                                              sample_sizes = sample_sizes,\n",
    "                                                              features = features, \n",
    "                                                              random_state = 123456, \n",
    "                                                              test_size = 0.2, \n",
    "                                                              target ='species', \n",
    "                                                              n_estimators = 100)\n",
    "print('whistle')\n",
    "USV_prediction_df = machinelearning.get_metric_by_sample_size(\n",
    "                                                              voc_type = 'whistle',\n",
    "                                                              voc_df = all_annotations, \n",
    "                                                              sample_sizes = sample_sizes,\n",
    "                                                              features = features, \n",
    "                                                              random_state = 123456, \n",
    "                                                              test_size = 0.2, \n",
    "                                                              target ='species', \n",
    "                                                              n_estimators = 100)\n",
    "\n",
    "evaluation_df = pd.concat([cry_prediction_df, USV_prediction_df])\n",
    "\n",
    "print('done.')"
   ]
  },
  {
   "cell_type": "markdown",
   "id": "60f422cd",
   "metadata": {},
   "source": [
    "## plot colored by species"
   ]
  },
  {
   "cell_type": "code",
   "execution_count": 35,
   "id": "62a6144a",
   "metadata": {},
   "outputs": [
    {
     "data": {
      "image/png": "[encoded data removed]",
      "text/plain": [
       "<Figure size 288x144 with 2 Axes>"
      ]
     },
     "metadata": {},
     "output_type": "display_data"
    }
   ],
   "source": [
    "\n",
    "\n",
    "save=False\n",
    "\n",
    "\n",
    "############################################################################################################\n",
    "\n",
    "save_dir = '/n/hoekstra_lab_tier1/Users/njourjine/manuscript/figures/figure_2/'\n",
    "version = '20221012_v1'\n",
    "\n",
    "\n",
    "\n",
    "############################################################################################################\n",
    "\n",
    "ytick_length = 2\n",
    "ytick_pad = 0.5\n",
    "fontsize=9\n",
    "\n",
    "sns.set_style(\"whitegrid\", {'axes.grid' : False})\n",
    "species_color_dict = {'BW':'darkblue',\n",
    "              'NB': 'dodgerblue',\n",
    "              'BK': 'steelblue',\n",
    "              'SW': 'blue',\n",
    "              'PO': 'orange',\n",
    "              'LO': 'goldenrod',\n",
    "              'GO': 'green',\n",
    "              'LL': 'forestgreen',\n",
    "              'MU': 'mediumspringgreen', \n",
    "              'MZ': 'turquoise'}\n",
    "\n",
    "fig, ax = plt.subplots(ncols=2, \n",
    "                       nrows=1, \n",
    "                       constrained_layout=True, \n",
    "                       sharey=False, figsize = [4,2])\n",
    "\n",
    "\n",
    "evaluation_df = evaluation_df.loc[evaluation_df['species'].isin(species_list)]\n",
    "evaluation_df = evaluation_df.reset_index(drop=True)\n",
    "metric = 'f1-score'\n",
    "\n",
    "sns.stripplot(x='sample_size', \n",
    "                     y=metric, \n",
    "                     data=evaluation_df.loc[evaluation_df['voc_type']=='cry'],\n",
    "                     hue='species', \n",
    "                     palette=species_color_dict, \n",
    "                     ax=ax[0], alpha=.75, s=5)\n",
    "\n",
    "sns.stripplot(x='sample_size', \n",
    "                     y=metric, \n",
    "                     data=evaluation_df.loc[evaluation_df['voc_type']=='whistle'],\n",
    "                     hue='species', \n",
    "                     palette=species_color_dict, \n",
    "                     ax=ax[1], alpha=.75, s=5)\n",
    "\n",
    "\n",
    "sns.boxplot(x='sample_size', \n",
    "                     y=metric, \n",
    "                     data=evaluation_df.loc[evaluation_df['voc_type']=='cry'], \n",
    "                whis=1.5, \n",
    "                showfliers = False, \n",
    "                flierprops={\"marker\": \"\"},\n",
    "                medianprops={\"color\": \"black\"},\n",
    "                boxprops={\"linewidth\": .1, \"color\":'black', 'alpha':0},\n",
    "                whiskerprops={\"linewidth\": .1, \"color\":'black', 'alpha':0},\n",
    "                width = .5, \n",
    "                showcaps=False,\n",
    "                ax=ax[0])\n",
    "\n",
    "sns.boxplot(x='sample_size', \n",
    "                     y=metric, \n",
    "                     data=evaluation_df.loc[evaluation_df['voc_type']=='whistle'], \n",
    "                whis=1.5, \n",
    "                showfliers = False, \n",
    "                flierprops={\"marker\": \"\"},\n",
    "                medianprops={\"color\": \"black\"},\n",
    "                boxprops={\"linewidth\": .1, \"color\":'black', 'alpha':0},\n",
    "                whiskerprops={\"linewidth\": .1, \"color\":'black', 'alpha':0},\n",
    "                width = .5, \n",
    "                showcaps=False,\n",
    "                ax=ax[1])\n",
    "\n",
    "for i in [0,1]:\n",
    "    ax[i].set_ylabel('')\n",
    "    ax[i].set_xlabel('')\n",
    "    ax[i].set_ylim([0,1])\n",
    "    ax[i].legend([],[], frameon=False)\n",
    "    \n",
    "    ax[i].xaxis.set_tick_params(width=.5, rotation = 90, length = ytick_length, pad = ytick_pad)\n",
    "    ax[i].yaxis.set_tick_params(width=.5, rotation = 0, length = ytick_length, pad = ytick_pad)\n",
    "    \n",
    "    ax[i].set_yticks([0,.2, .4, .6, .8, 1])\n",
    "    ax[i].set_ylim([0,1])\n",
    "    ax[i].axhline(y=(1/8), linestyle= 'dashed', color='black', linewidth=0.5)\n",
    "\n",
    "\n",
    "    for axis in ['top','bottom','left','right']:\n",
    "            ax[i].spines[axis].set_linewidth(.5)\n",
    "    for label in (ax[i].get_yticklabels() + ax[i].get_xticklabels()):\n",
    "        label.set_fontname('Arial')\n",
    "        label.set_fontsize(fontsize)\n",
    "\n",
    "sns.despine()\n",
    "\n",
    "if save:\n",
    "    save_name = ('_').join(['f1-scores_by_sample_size', version])\n",
    "    plt.savefig(os.path.join(save_dir, save_name)+'.jpeg', dpi=600)\n",
    "    plt.savefig(os.path.join(save_dir, save_name)+'.svg')\n",
    "    "
   ]
  },
  {
   "cell_type": "markdown",
   "id": "d1b7de08",
   "metadata": {},
   "source": [
    "## plot colored by species"
   ]
  },
  {
   "cell_type": "code",
   "execution_count": 36,
   "id": "be0e1319",
   "metadata": {},
   "outputs": [
    {
     "data": {
      "image/png": "[encoded data removed]",
      "text/plain": [
       "<Figure size 288x144 with 1 Axes>"
      ]
     },
     "metadata": {},
     "output_type": "display_data"
    }
   ],
   "source": [
    "\n",
    "\n",
    "save=False\n",
    "\n",
    "\n",
    "############################################################################################################\n",
    "\n",
    "save_dir = '/n/hoekstra_lab_tier1/Users/njourjine/manuscript/figures/figure_2/'\n",
    "version = '20221012_v1'\n",
    "metric = 'f1-score'\n",
    "\n",
    "############################################################################################################\n",
    "\n",
    "ytick_length = 2\n",
    "ytick_pad = 0.5\n",
    "fontsize=9\n",
    "\n",
    "voc_name_color_dict = {'cry': 'deeppink', \n",
    "               'whistle': 'thistle', \n",
    "               'nan':'black'}\n",
    "\n",
    "\n",
    "sns.set_style(\"whitegrid\", {'axes.grid' : False})\n",
    "species_color_dict = {'BW':'darkblue',\n",
    "              'NB': 'dodgerblue',\n",
    "              'BK': 'steelblue',\n",
    "              'SW': 'blue',\n",
    "              'PO': 'orange',\n",
    "              'LO': 'goldenrod',\n",
    "              'GO': 'green',\n",
    "              'LL': 'forestgreen',\n",
    "              'MU': 'mediumspringgreen', \n",
    "              'MZ': 'turquoise'}\n",
    "\n",
    "fig, ax = plt.subplots(ncols=1, \n",
    "                       nrows=1, \n",
    "                       constrained_layout=True, \n",
    "                       sharey=False, figsize = [4,2])\n",
    "\n",
    "\n",
    "model_df = evaluation_df.loc[evaluation_df['species'].isin(species_list)]\n",
    "model_df = evaluation_df.reset_index(drop=True)\n",
    "\n",
    "\n",
    "sns.stripplot(x='sample_size', \n",
    "                     y=metric, \n",
    "                     data=evaluation_df,\n",
    "                     jitter=False,\n",
    "                     dodge=True,\n",
    "                     hue='voc_type', \n",
    "                     palette=voc_name_color_dict, \n",
    "                     ax=ax, alpha=.75, s=5)\n",
    "\n",
    "sns.boxplot(x='sample_size', \n",
    "                     y=metric, \n",
    "                     data=evaluation_df, \n",
    "                     hue='voc_type',\n",
    "                dodge=True,\n",
    "                whis=1.5, \n",
    "                showfliers = False, \n",
    "                flierprops={\"marker\": \"\"},\n",
    "                medianprops={\"color\": \"black\"},\n",
    "                boxprops={\"linewidth\": .1, \"color\":'black', 'alpha':0},\n",
    "                whiskerprops={\"linewidth\": .1, \"color\":'black', 'alpha':0},\n",
    "                width = .5, \n",
    "                showcaps=False,\n",
    "                ax=ax)\n",
    "\n",
    "\n",
    "\n",
    "\n",
    "ax.set_ylabel('')\n",
    "ax.set_xlabel('')\n",
    "ax.set_ylim([0,1])\n",
    "ax.legend([],[], frameon=False)\n",
    "\n",
    "ax.xaxis.set_tick_params(width=.5, rotation = 90, length = ytick_length, pad = ytick_pad)\n",
    "ax.yaxis.set_tick_params(width=.5, rotation = 0, length = ytick_length, pad = ytick_pad)\n",
    "\n",
    "ax.set_yticks([0,.2, .4, .6, .8, 1])\n",
    "ax.set_ylim([0,1])\n",
    "ax.axhline(y=(1/8), linestyle= 'dashed', color='black', linewidth=0.5)\n",
    "\n",
    "\n",
    "for axis in ['top','bottom','left','right']:\n",
    "        ax.spines[axis].set_linewidth(.5)\n",
    "for label in (ax.get_yticklabels() + ax.get_xticklabels()):\n",
    "    label.set_fontname('Arial')\n",
    "    label.set_fontsize(fontsize)\n",
    "\n",
    "sns.despine()\n",
    "\n",
    "if save:\n",
    "    save_name = ('_').join(['precision_by_sample_size', version])\n",
    "    plt.savefig(os.path.join(save_dir, save_name)+'.jpeg', dpi=600)\n",
    "    plt.savefig(os.path.join(save_dir, save_name)+'.svg')\n",
    "    evaluation_df.to_csv(os.path.join(save_dir, 'training_set_comparison_evaluation.csv'), index=False)\n",
    "    importances_df.to_csv(os.path.join(save_dir, 'training_set_comparison_importances.csv'), index=False)\n",
    "    "
   ]
  }
 ],
 "metadata": {
  "kernelspec": {
   "display_name": "manuscript",
   "language": "python",
   "name": "manuscript"
  },
  "language_info": {
   "codemirror_mode": {
    "name": "ipython",
    "version": 3
   },
   "file_extension": ".py",
   "mimetype": "text/x-python",
   "name": "python",
   "nbconvert_exporter": "python",
   "pygments_lexer": "ipython3",
   "version": "3.7.3"
  },
  "toc": {
   "base_numbering": 1,
   "nav_menu": {},
   "number_sections": true,
   "sideBar": true,
   "skip_h1_title": false,
   "title_cell": "Table of Contents",
   "title_sidebar": "Contents",
   "toc_cell": false,
   "toc_position": {},
   "toc_section_display": true,
   "toc_window_display": false
  },
  "varInspector": {
   "cols": {
    "lenName": 16,
    "lenType": 16,
    "lenVar": 40
   },
   "kernels_config": {
    "python": {
     "delete_cmd_postfix": "",
     "delete_cmd_prefix": "del ",
     "library": "var_list.py",
     "varRefreshCmd": "print(var_dic_list())"
    },
    "r": {
     "delete_cmd_postfix": ") ",
     "delete_cmd_prefix": "rm(",
     "library": "var_list.r",
     "varRefreshCmd": "cat(var_dic_list()) "
    }
   },
   "types_to_exclude": [
    "module",
    "function",
    "builtin_function_or_method",
    "instance",
    "_Feature"
   ],
   "window_display": false
  }
 },
 "nbformat": 4,
 "nbformat_minor": 5
}
