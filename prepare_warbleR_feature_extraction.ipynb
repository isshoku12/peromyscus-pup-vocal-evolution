{
 "cells": [
  {
   "cell_type": "code",
   "execution_count": null,
   "id": "5607072e",
   "metadata": {},
   "outputs": [],
   "source": [
    "#the purpose of this notebook is to prepare directories and write job scripts for feature extraction using warbleR"
   ]
  },
  {
   "cell_type": "markdown",
   "id": "66039597",
   "metadata": {},
   "source": [
    "# preliminaries"
   ]
  },
  {
   "cell_type": "code",
   "execution_count": 80,
   "id": "60e10979",
   "metadata": {},
   "outputs": [],
   "source": [
    "%run '/n/hoekstra_lab_tier1/Users/njourjine/manuscript/notebooks/00_manuscript/make_warbleR_extract_jobs.py'\n",
    "features_root = '/n/hoekstra_lab_tier1/Users/njourjine/manuscript/features/acoustic_features/'\n",
    "clips_root = '/n/hoekstra_lab_tier1/Users/njourjine/manuscript/audio/clips/'\n",
    "scripts_root = '/n/hoekstra_lab_tier1/Users/njourjine/manuscript/features/acoustic_features/scripts/'"
   ]
  },
  {
   "cell_type": "markdown",
   "id": "2f1e8888",
   "metadata": {},
   "source": [
    "# choose dataset and segments type"
   ]
  },
  {
   "cell_type": "code",
   "execution_count": 81,
   "id": "79e933bb",
   "metadata": {},
   "outputs": [
    {
     "name": "stdout",
     "output_type": "stream",
     "text": [
      "save path:\n",
      "\t /n/hoekstra_lab_tier1/Users/njourjine/manuscript/features/acoustic_features/amplitude_segmented/bw_po_f2\n",
      "wav path:\n",
      "\t /n/hoekstra_lab_tier1/Users/njourjine/manuscript/audio/clips/amplitude_segmented/bw_po_f2\n",
      "scripts path:\n",
      "\t /n/hoekstra_lab_tier1/Users/njourjine/manuscript/features/acoustic_features/scripts/amplitude_segmented/bw_po_f2\n"
     ]
    }
   ],
   "source": [
    "#choose the dataset and segmenting type - this is the only thing you need to change to write scripts for a new dataset\n",
    "dataset = 'bw_po_f2'\n",
    "segments_type = 'amplitude_segmented'\n",
    "assert dataset in ['bw_po_cf', 'bw_po_f2', 'bw_po_f1']\n",
    "assert segments_type in ['amplitude_segmented', 'das']\n",
    "\n",
    "#set the path to save features and the path to the clips from which features will be calculated\n",
    "save_root = os.path.join(features_root, segments_type, dataset)\n",
    "wav_root = os.path.join(clips_root, segments_type, dataset)\n",
    "script_dir = os.path.join(scripts_root, segments_type, dataset)\n",
    "\n",
    "assert os.path.exists(save_root)\n",
    "assert os.path.exists(wav_root)\n",
    "assert os.path.exists(scripts_root)\n",
    "\n",
    "print('save path:\\n\\t', save_root)\n",
    "print('wav path:\\n\\t', wav_root)\n",
    "print('scripts path:\\n\\t', script_dir)"
   ]
  },
  {
   "cell_type": "markdown",
   "id": "493a38d6",
   "metadata": {},
   "source": [
    "# write the .sbatch files"
   ]
  },
  {
   "cell_type": "code",
   "execution_count": 82,
   "id": "d78dc1aa",
   "metadata": {},
   "outputs": [
    {
     "name": "stdout",
     "output_type": "stream",
     "text": [
      "wrote job scripts to:\n",
      "\t /n/hoekstra_lab_tier1/Users/njourjine/manuscript/features/acoustic_features/scripts/amplitude_segmented/bw_po_f2\n"
     ]
    }
   ],
   "source": [
    "write_warbleR_job_scripts(dataset = dataset, \n",
    "                          save_root = save_root, \n",
    "                          wav_root = wav_root, \n",
    "                          script_dir = script_dir)"
   ]
  },
  {
   "cell_type": "markdown",
   "id": "167c6dc2",
   "metadata": {},
   "source": [
    "# now go to the directory listed above and run the following command"
   ]
  },
  {
   "cell_type": "code",
   "execution_count": 79,
   "id": "5ff1d906",
   "metadata": {},
   "outputs": [
    {
     "data": {
      "text/plain": [
       "'sh warbleR_extract_parent.sh'"
      ]
     },
     "execution_count": 79,
     "metadata": {},
     "output_type": "execute_result"
    }
   ],
   "source": [
    "#of course, check that the files look as you expect them to before running it\n",
    "'sh warbleR_extract_parent.sh'"
   ]
  },
  {
   "cell_type": "code",
   "execution_count": null,
   "id": "114e43d6",
   "metadata": {},
   "outputs": [],
   "source": []
  }
 ],
 "metadata": {
  "kernelspec": {
   "display_name": "manuscript",
   "language": "python",
   "name": "manuscript"
  },
  "language_info": {
   "codemirror_mode": {
    "name": "ipython",
    "version": 3
   },
   "file_extension": ".py",
   "mimetype": "text/x-python",
   "name": "python",
   "nbconvert_exporter": "python",
   "pygments_lexer": "ipython3",
   "version": "3.7.3"
  },
  "toc": {
   "base_numbering": 1,
   "nav_menu": {},
   "number_sections": true,
   "sideBar": true,
   "skip_h1_title": false,
   "title_cell": "Table of Contents",
   "title_sidebar": "Contents",
   "toc_cell": false,
   "toc_position": {},
   "toc_section_display": true,
   "toc_window_display": false
  }
 },
 "nbformat": 4,
 "nbformat_minor": 5
}
