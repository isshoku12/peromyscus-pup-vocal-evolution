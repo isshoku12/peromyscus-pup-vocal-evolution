{
 "cells": [
  {
   "cell_type": "code",
   "execution_count": 2,
   "id": "b20737e4",
   "metadata": {},
   "outputs": [],
   "source": [
    "# the purpose of this notebook is to train either SVM or Random Forest models on warbleR features\n",
    "# of vocalizations annotated in the notebook annotations_from_umap.ipynb"
   ]
  },
  {
   "cell_type": "markdown",
   "id": "fff14fed",
   "metadata": {},
   "source": [
    "# preliminaries"
   ]
  },
  {
   "cell_type": "markdown",
   "id": "32899478",
   "metadata": {},
   "source": [
    "## import modules"
   ]
  },
  {
   "cell_type": "code",
   "execution_count": 17,
   "id": "b07e3abe",
   "metadata": {},
   "outputs": [
    {
     "name": "stdout",
     "output_type": "stream",
     "text": [
      "The autoreload extension is already loaded. To reload it, use:\n",
      "  %reload_ext autoreload\n"
     ]
    }
   ],
   "source": [
    "%matplotlib inline\n",
    "%load_ext autoreload\n",
    "%autoreload 2\n",
    "\n",
    "#file system\n",
    "import os\n",
    "import glob\n",
    "\n",
    "#data handling\n",
    "import numpy as np\n",
    "import pandas as pd\n",
    "import pickle\n",
    "\n",
    "#plotting\n",
    "import seaborn as sns \n",
    "import matplotlib as mpl\n",
    "import matplotlib.pyplot as plt\n",
    "\n",
    "#machine learning\n",
    "from sklearn.svm import SVC\n",
    "from sklearn.impute import SimpleImputer\n",
    "from sklearn.preprocessing import StandardScaler\n",
    "from sklearn.ensemble import RandomForestClassifier\n",
    "from sklearn.model_selection import train_test_split, cross_val_score\n",
    "from sklearn.metrics import classification_report, confusion_matrix, accuracy_score\n",
    "\n",
    "# custom modules\n",
    "from src.spectrogramming import *\n",
    "from src.segmentation import *\n",
    "from src import parameters, machinelearning"
   ]
  },
  {
   "cell_type": "markdown",
   "id": "05a5c444",
   "metadata": {},
   "source": [
    "## get path variables"
   ]
  },
  {
   "cell_type": "code",
   "execution_count": 3,
   "id": "aa21e1a4",
   "metadata": {},
   "outputs": [],
   "source": [
    "#TODO put this in the paths.py file\n",
    "\n",
    "#root directory for the warbleR features for each species\n",
    "amplitude_acoustic_features = '/n/hoekstra_lab_tier1/Users/njourjine/manuscript/features/acoustic_features/amplitude_segmented/development/20220913_063001/'\n",
    "\n",
    "#root directory for the amplitude segmented developmental time course warbleR features\n",
    "segments_root = '/n/hoekstra_lab_tier1/Users/njourjine/manuscript/features/acoustic_features/amplitude_segmented/development/20220913_063001/'\n",
    "\n",
    "#root directory for the annotated vocalizations for each species\n",
    "annotations_root = '/n/hoekstra_lab_tier1/Users/njourjine/manuscript/models/das/annotations_from_umap/'\n",
    "\n",
    "#path to all warbleR features\n",
    "warbleR_features = '/n/hoekstra_lab_tier1/Users/njourjine/manuscript/features/acoustic_features/amplitude_segmented/20220913_063001/'\n",
    "\n",
    "#annotated scratches from March 2022\n",
    "annotations_20220321 = '/n/hoekstra_lab_tier1/Users/njourjine/manuscript/audio/annotated/for_ML_models/annotations_20220321/warbleR_stats/ground_truth_with_ccs.csv'\n"
   ]
  },
  {
   "cell_type": "markdown",
   "id": "916aebf9",
   "metadata": {},
   "source": [
    "## choose features"
   ]
  },
  {
   "cell_type": "code",
   "execution_count": 4,
   "id": "986e6514",
   "metadata": {},
   "outputs": [],
   "source": [
    "# choose the features (split into 2 groups in case you want to train on just summary statistics\n",
    "# (base_features) or on additional features too\n",
    "\n",
    "#summary statistics of distributions of vocalization in time and frequency domain\n",
    "base_features = [ 'duration',\n",
    "                 'time.median', \n",
    "                 'time.Q25', \n",
    "                 'time.Q75', \n",
    "                 'time.IQR', \n",
    "                 'meanfreq', \n",
    "                 'freq.median', \n",
    "                 'freq.Q25', \n",
    "                 'freq.Q75', \n",
    "                 'freq.IQR', ]\n",
    "\n",
    "#additional features calculated by warbleR\n",
    "extra_features = ['meanpeakf', \n",
    "                  'dfslope', \n",
    "                  'enddom', \n",
    "                  'startdom', \n",
    "                  'modindx', \n",
    "                  'dfrange', \n",
    "                  'sfm', \n",
    "                  'entropy',  \n",
    "                  'sp.ent', \n",
    "                  'time.ent', \n",
    "                  'sd',                  \n",
    "                  'meandom', \n",
    "                  'mindom', \n",
    "                  'maxdom', \n",
    "                  'skew', \n",
    "                  'kurt']\n"
   ]
  },
  {
   "cell_type": "markdown",
   "id": "eef5de7f",
   "metadata": {},
   "source": [
    "# Get the hand annotated vocalizations"
   ]
  },
  {
   "cell_type": "code",
   "execution_count": 5,
   "id": "c4a69ef6",
   "metadata": {},
   "outputs": [],
   "source": [
    "#aggregate and clean feature csvs if you need to\n",
    "\n",
    "#get the features\n",
    "to_combine = []\n",
    "\n",
    "for i in [i for i in os.listdir(amplitude_acoustic_features) if 'warbler_features.csv' in i and 'all' not in i]:\n",
    "    temp = pd.read_csv(amplitude_acoustic_features+i)\n",
    "    to_combine.append(temp)\n",
    "warbleR_features = pd.concat(to_combine)\n",
    "\n",
    "#drop Mus and add useful info\n",
    "warbleR_features['species'] = [i.split('_')[0] for i in warbleR_features['source_file']]\n",
    "warbleR_features = warbleR_features.loc[~warbleR_features['species'].isin(['MU', 'MZ'])]\n",
    "\n",
    "#TODO figure out why this is in here (5 rows) ad remove it from whichever directory its contaminating\n",
    "warbleR_features = warbleR_features.loc[warbleR_features['source_file'] != 'BW_hdbscan_label0_withspace.wav.wav']\n"
   ]
  },
  {
   "cell_type": "code",
   "execution_count": 6,
   "id": "43d26fc0",
   "metadata": {},
   "outputs": [],
   "source": [
    "# #TO DO delete this\n",
    "# # or load\n",
    "\n",
    "# #directory with all the features, one per dataset subdirectory\n",
    "# features_root = '/n/hoekstra_lab_tier1/Users/njourjine/manuscript/features/acoustic_features/amplitude_segmented'\n",
    "\n",
    "# #paths for the directory containing warbleR features for each dataset\n",
    "# development_features_dir = os.path.join(features_root, 'development','20220913_063001')\n",
    "# all_features_path = 'all_species_warbler_features_labeled.csv'\n",
    "\n",
    "# #all features with columns for weight normalization\n",
    "# warbleR_features_small = pd.read_csv(os.path.join(development_features_dir, all_features_path))"
   ]
  },
  {
   "cell_type": "markdown",
   "id": "b9ce0832",
   "metadata": {},
   "source": [
    "## collect the annotated files and their labels"
   ]
  },
  {
   "cell_type": "code",
   "execution_count": 7,
   "id": "0210a784",
   "metadata": {},
   "outputs": [
    {
     "name": "stdout",
     "output_type": "stream",
     "text": [
      "BW\n",
      "BK\n",
      "NB\n",
      "SW\n",
      "PO\n",
      "LO\n",
      "GO\n",
      "LL\n",
      "combining files...\n",
      "done.\n"
     ]
    }
   ],
   "source": [
    "#these are the vocalizations annoatted with Annotate from UMAP.ipynb\n",
    "\n",
    "species_list = ['BW', 'BK', 'NB', 'SW', 'PO', 'LO', 'GO', 'LL']\n",
    "annotated_files = []\n",
    "\n",
    "for species in species_list:\n",
    "    print(species)\n",
    "    \n",
    "    #get the label_0 files\n",
    "    label_0_voc_path = os.path.join(annotations_root,species,'annotations','hdbscan_label_0',species+'_hdbscan_label0_all.feather')\n",
    "    \n",
    "    #load the data\n",
    "    label_0_voc_df = pd.read_feather(label_0_voc_path)\n",
    "    \n",
    "    #drop the spectrogram pixels and append\n",
    "    label_0_voc_df = label_0_voc_df[['source_file', 'umap1', 'umap2', 'hdbscan_label', 'human_label']]\n",
    "    annotated_files.append(label_0_voc_df)\n",
    "\n",
    "    #get the label_1 files \n",
    "    label_1_voc_path = os.path.join(annotations_root,species,'annotations','hdbscan_label_1',species+'_hdbscan_label1_all.feather')\n",
    "    \n",
    "    #load the data\n",
    "    label_1_voc_df = pd.read_feather(label_1_voc_path)\n",
    "    \n",
    "    #drop the spectrogram pixels and append\n",
    "    label_1_voc_df = label_1_voc_df[['source_file', 'umap1', 'umap2', 'hdbscan_label', 'human_label']]\n",
    "    annotated_files.append(label_1_voc_df)\n",
    "\n",
    "print('combining files...')\n",
    "all_combined = pd.concat(annotated_files)\n",
    "all_combined['species'] = [i.split('_')[0] for i in all_combined['source_file']]\n",
    "all_combined = all_combined.loc[~all_combined['human_label'].isin(['scratch', 'none'])]\n",
    "all_combined = all_combined.reset_index(drop=True)\n",
    "\n",
    "print('done.')\n",
    "    "
   ]
  },
  {
   "cell_type": "code",
   "execution_count": 8,
   "id": "6c36cb8c",
   "metadata": {},
   "outputs": [],
   "source": [
    "#get the warbleR features for these labeled vocalizations\n",
    "warbleR_features = warbleR_features.drop(columns=['species'])\n",
    "labeled_warbleR_features = all_combined.merge(warbleR_features, on='source_file')"
   ]
  },
  {
   "cell_type": "code",
   "execution_count": 9,
   "id": "3c218e00",
   "metadata": {},
   "outputs": [
    {
     "name": "stdout",
     "output_type": "stream",
     "text": [
      "labels:\n",
      "['whistle' 'cry']\n"
     ]
    }
   ],
   "source": [
    "#combine with current voc annotations\n",
    "#assert sorted(labeled_warbleR_features.columns) == sorted(nonvocal_df.columns) #this will not be true if you are using weight normalized features\n",
    "#all_annotations = pd.concat([labeled_warbleR_features,nonvocal_df])\n",
    "\n",
    "all_annotations = labeled_warbleR_features.reset_index(drop=True)\n",
    "print('labels:')\n",
    "print(all_annotations['human_label'].unique())"
   ]
  },
  {
   "cell_type": "code",
   "execution_count": 10,
   "id": "1af993ab",
   "metadata": {},
   "outputs": [
    {
     "name": "stdout",
     "output_type": "stream",
     "text": [
      "dropping 110 vocs because they come from bad recordings...\n",
      "done.\n"
     ]
    }
   ],
   "source": [
    "#make sure there are no pups with recording artefacts in the hand annotated data\n",
    "\n",
    "#bad pups are those with a lot fo artefacts (big vertical lines) identified during annotations for das\n",
    "bad_pups = ['NB_28306x26626_ltr1_pup4_ch5_5000_m_334_300_fr0_p11_2021-10-04_10-04-13',\n",
    "            'SW_29542x30031_ltr1_pup7_ch8_1600_m_348_263_fr0_p1_2022-01-05_10-54-58',\n",
    "            'BK_26464x25680_ltr4_pup7_ch8_4500_f_355_318_fr0_p7_2021-11-24_09-42-41',\n",
    "            'BK_26464x25680_ltr3_pup4_ch5_5100_m_351_326_fr0_p7_2021-10-31_11-18-39',\n",
    "            'GO_24860x23748_ltr2_pup4_ch5_4700_m_324_292_fr0_p9_2021-10-02_12-35-01',\n",
    "            'GO_23883x23084_ltr2_pup4_ch6_6100_f_329_304_fr0_p11_2019-12-03_10-35-37']\n",
    "\n",
    "#drop them\n",
    "all_annotations['pup'] = [i.split('_clip')[0] for i in all_annotations['source_file']]\n",
    "print('dropping', len(all_annotations.loc[all_annotations['pup'].isin(bad_pups)]), 'vocs because they come from bad recordings...')\n",
    "all_annotations = all_annotations.loc[~all_annotations['pup'].isin(bad_pups)]\n",
    "assert len(all_annotations.loc[all_annotations['pup'].isin(bad_pups)]) == 0\n",
    "print('done.')\n"
   ]
  },
  {
   "cell_type": "code",
   "execution_count": 11,
   "id": "1642d6f4",
   "metadata": {},
   "outputs": [
    {
     "name": "stdout",
     "output_type": "stream",
     "text": [
      "total label counts:\n",
      "\t\n",
      "cry: 18715\n",
      "whistle: 39460\n",
      "scratch: 0\n",
      "\n",
      "\n",
      "BW\n",
      "\tcry: 2367\n",
      "\twhistle: 6865\n",
      "\tscratch: 0\n",
      "\ttotal: 9232\n",
      "BK\n",
      "\tcry: 2597\n",
      "\twhistle: 5287\n",
      "\tscratch: 0\n",
      "\ttotal: 7884\n",
      "NB\n",
      "\tcry: 2271\n",
      "\twhistle: 4916\n",
      "\tscratch: 0\n",
      "\ttotal: 7187\n",
      "SW\n",
      "\tcry: 2412\n",
      "\twhistle: 4304\n",
      "\tscratch: 0\n",
      "\ttotal: 6716\n",
      "PO\n",
      "\tcry: 2599\n",
      "\twhistle: 3065\n",
      "\tscratch: 0\n",
      "\ttotal: 5664\n",
      "LO\n",
      "\tcry: 2038\n",
      "\twhistle: 2339\n",
      "\tscratch: 0\n",
      "\ttotal: 4377\n",
      "GO\n",
      "\tcry: 2339\n",
      "\twhistle: 6660\n",
      "\tscratch: 0\n",
      "\ttotal: 8999\n",
      "LL\n",
      "\tcry: 2092\n",
      "\twhistle: 6024\n",
      "\tscratch: 0\n",
      "\ttotal: 8116\n"
     ]
    }
   ],
   "source": [
    "#print the number of annotations for each species and label\n",
    "print('total label counts:\\n\\t')\n",
    "print('cry:', len(all_annotations.loc[all_annotations['human_label'] == 'cry']))\n",
    "print('whistle:', len(all_annotations.loc[all_annotations['human_label'] == 'whistle']))\n",
    "print('scratch:', len(all_annotations.loc[all_annotations['human_label'] == 'scratch']))\n",
    "\n",
    "print('\\n')\n",
    "for species in species_list:\n",
    "    print(species)\n",
    "    print('\\tcry:', len(all_annotations.loc[all_annotations['human_label'] == 'cry'].loc[all_annotations['species'] == species]))\n",
    "    print('\\twhistle:', len(all_annotations.loc[all_annotations['human_label'] == 'whistle'].loc[all_annotations['species'] == species]))\n",
    "    print('\\tscratch:', len(all_annotations.loc[all_annotations['human_label'] == 'scratch'].loc[all_annotations['species'] == species]))\n",
    "    print('\\ttotal:', len(all_annotations.loc[all_annotations['human_label'] == 'cry'].loc[all_annotations['species'] == species])+len(all_annotations.loc[all_annotations['human_label'] == 'whistle'].loc[all_annotations['species'] == species]))\n",
    "    "
   ]
  },
  {
   "cell_type": "markdown",
   "id": "1a09289e",
   "metadata": {},
   "source": [
    "# Train a model to predict vocalization type (cry, USV, or nonvocal)"
   ]
  },
  {
   "cell_type": "markdown",
   "id": "cdc160f7",
   "metadata": {},
   "source": [
    "## downsamlpe"
   ]
  },
  {
   "cell_type": "code",
   "execution_count": 14,
   "id": "4d600474",
   "metadata": {},
   "outputs": [
    {
     "name": "stdout",
     "output_type": "stream",
     "text": [
      "BW\n",
      "BK\n",
      "NB\n",
      "SW\n",
      "PO\n",
      "LO\n",
      "GO\n",
      "LL\n",
      "done.\n"
     ]
    }
   ],
   "source": [
    "seed = 123456\n",
    "num_to_sampled = 2000\n",
    "downsampled_list = []\n",
    "\n",
    "for species in species_list:\n",
    "    \n",
    "    print(species)\n",
    "\n",
    "    #get the voc types for this label\n",
    "    temp_cry = all_annotations.loc[all_annotations['species'] == species].loc[all_annotations['human_label'] == 'cry']\n",
    "    temp_whistle = all_annotations.loc[all_annotations['species'] == species].loc[all_annotations['human_label'] == 'whistle']\n",
    "   \n",
    "    #sample\n",
    "    temp_cry = temp_cry.sample(n=num_to_sampled, random_state = seed)\n",
    "    temp_whistle = temp_whistle.sample(n=num_to_sampled, random_state = seed)\n",
    "    \n",
    "    #reasemble\n",
    "    downsampled_species = pd.concat([temp_cry, temp_whistle])\n",
    "\n",
    "    #update downsampled_list\n",
    "    downsampled_list.append(downsampled_species)\n",
    "    \n",
    "#assemble all the species\n",
    "ds_df = pd.concat(downsampled_list)\n",
    "\n",
    "print('done.')"
   ]
  },
  {
   "cell_type": "code",
   "execution_count": 15,
   "id": "cc017521",
   "metadata": {},
   "outputs": [
    {
     "name": "stderr",
     "output_type": "stream",
     "text": [
      "/n/home10/jourjine/.conda/envs/manuscript/lib/python3.7/site-packages/ipykernel_launcher.py:5: SettingWithCopyWarning: \n",
      "A value is trying to be set on a copy of a slice from a DataFrame.\n",
      "Try using .loc[row_indexer,col_indexer] = value instead\n",
      "\n",
      "See the caveats in the documentation: https://pandas.pydata.org/pandas-docs/stable/user_guide/indexing.html#returning-a-view-versus-a-copy\n",
      "  \"\"\"\n"
     ]
    }
   ],
   "source": [
    "#get annotated scratch sounds\n",
    "nonvocal_df = pd.read_csv(annotations_20220321)\n",
    "nonvocal_df['human_label'] = [i.split('_')[0] for i in nonvocal_df['source_file']]\n",
    "nonvocal_df_scratch = nonvocal_df.loc[nonvocal_df['human_label'] == 'scratch']\n",
    "nonvocal_df_scratch['species'] = [i.split('_')[1] for i in nonvocal_df_scratch['source_file']]\n",
    "nonvocal_df_scratch = nonvocal_df_scratch[base_features+extra_features+['source_file','species', 'human_label']]"
   ]
  },
  {
   "cell_type": "code",
   "execution_count": 16,
   "id": "c89ee57c",
   "metadata": {},
   "outputs": [
    {
     "data": {
      "text/plain": [
       "Index(['source_file', 'umap1', 'umap2', 'hdbscan_label', 'human_label',\n",
       "       'species', 'duration', 'meanfreq', 'sd', 'freq.median', 'freq.Q25',\n",
       "       'freq.Q75', 'freq.IQR', 'time.median', 'time.Q25', 'time.Q75',\n",
       "       'time.IQR', 'skew', 'kurt', 'sp.ent', 'time.ent', 'entropy', 'sfm',\n",
       "       'meandom', 'mindom', 'maxdom', 'dfrange', 'modindx', 'startdom',\n",
       "       'enddom', 'dfslope', 'meanpeakf', 'pup'],\n",
       "      dtype='object')"
      ]
     },
     "execution_count": 16,
     "metadata": {},
     "output_type": "execute_result"
    }
   ],
   "source": [
    "ds_df.columns"
   ]
  },
  {
   "cell_type": "code",
   "execution_count": 17,
   "id": "3bee58db",
   "metadata": {},
   "outputs": [],
   "source": [
    "ds_df = ds_df.drop(columns = ['umap1', 'umap2', 'hdbscan_label', 'pup'])"
   ]
  },
  {
   "cell_type": "code",
   "execution_count": 18,
   "id": "f2b9dd60",
   "metadata": {},
   "outputs": [],
   "source": [
    "assert sorted(nonvocal_df_scratch.columns) == sorted(ds_df.columns)"
   ]
  },
  {
   "cell_type": "code",
   "execution_count": 19,
   "id": "e4c8b38f",
   "metadata": {},
   "outputs": [],
   "source": [
    "#add the human labeled non_vocal sounds (\"scratch\")\n",
    "ds_df = pd.concat([ds_df, nonvocal_df_scratch])"
   ]
  },
  {
   "cell_type": "code",
   "execution_count": 20,
   "id": "c6def37c",
   "metadata": {},
   "outputs": [],
   "source": [
    "ds_df = ds_df.dropna(subset=['human_label'])"
   ]
  },
  {
   "cell_type": "code",
   "execution_count": 21,
   "id": "59b7a5de",
   "metadata": {},
   "outputs": [
    {
     "name": "stdout",
     "output_type": "stream",
     "text": [
      "annotations by species:\n",
      "\n",
      "BW : 4317\n",
      "BK : 4022\n",
      "NB : 4047\n",
      "SW : 4012\n",
      "PO : 4213\n",
      "LO : 4061\n",
      "GO : 4308\n",
      "LL : 4254\n"
     ]
    }
   ],
   "source": [
    "print('annotations by species:\\n')\n",
    "for i in species_list:\n",
    "    print(i,':', len(ds_df.loc[ds_df['species'] == i]))"
   ]
  },
  {
   "cell_type": "code",
   "execution_count": 22,
   "id": "bec4db49",
   "metadata": {},
   "outputs": [
    {
     "name": "stdout",
     "output_type": "stream",
     "text": [
      "annotations by label:\n",
      "\n",
      "cry: 16000\n",
      "whistle: 16000\n",
      "scratch: 1242\n"
     ]
    }
   ],
   "source": [
    "print('annotations by label:\\n')\n",
    "print('cry:', len(ds_df.loc[ds_df['human_label'] == 'cry']))\n",
    "print('whistle:', len(ds_df.loc[ds_df['human_label'] == 'whistle']))\n",
    "print('scratch:', len(ds_df.loc[ds_df['human_label'] == 'scratch']))"
   ]
  },
  {
   "cell_type": "code",
   "execution_count": 23,
   "id": "2c235c7d",
   "metadata": {},
   "outputs": [],
   "source": [
    "# check for duplicates\n",
    "assert ds_df.duplicated(subset=['source_file']).sum() == 0"
   ]
  },
  {
   "cell_type": "markdown",
   "id": "3874888c",
   "metadata": {},
   "source": [
    "## select the features"
   ]
  },
  {
   "cell_type": "code",
   "execution_count": 120,
   "id": "171569d3",
   "metadata": {},
   "outputs": [
    {
     "name": "stdout",
     "output_type": "stream",
     "text": [
      "['cry' 'whistle' 'scratch']\n"
     ]
    }
   ],
   "source": [
    "print(ds_df['human_label'].unique())\n",
    "df = ds_df[base_features+extra_features]"
   ]
  },
  {
   "cell_type": "markdown",
   "id": "6a6cd5c8",
   "metadata": {},
   "source": [
    "## check for missing data"
   ]
  },
  {
   "cell_type": "code",
   "execution_count": 121,
   "id": "9018c033",
   "metadata": {},
   "outputs": [
    {
     "name": "stdout",
     "output_type": "stream",
     "text": [
      "No missing data\n"
     ]
    }
   ],
   "source": [
    "if df.isnull().values.any() == True:\n",
    "    print('There are', df.isnull().sum().sum(), 'missing data')\n",
    "    #if there are missing data, replace them by the mean of the rest of the data from the column they come from \n",
    "    #all data are numeric in the current features data set, but if ever there are categorical features these should be excluded here\n",
    "\n",
    "    from sklearn.impute import SimpleImputer\n",
    "    imputer = SimpleImputer(missing_values = np.nan, strategy = 'mean')\n",
    "    imputer.fit(df)\n",
    "    df = imputer.transform(df)\n",
    "    print('imputed missing data using SimpleImputer...')\n",
    "    \n",
    "else: \n",
    "    print('No missing data')\n",
    "    \n"
   ]
  },
  {
   "cell_type": "markdown",
   "id": "ec6cdad2",
   "metadata": {},
   "source": [
    "## choose the model type and split the data"
   ]
  },
  {
   "cell_type": "code",
   "execution_count": 122,
   "id": "ce9277a3",
   "metadata": {},
   "outputs": [
    {
     "name": "stdout",
     "output_type": "stream",
     "text": [
      "splitting the data...\n",
      "done.\n"
     ]
    }
   ],
   "source": [
    "#Split the test data from the train data - do this before scaling! \n",
    "#Scaling before splitting will result in information leakage between train and test data sets\n",
    "\n",
    "random_state = 123456\n",
    "test_size = 0.2\n",
    "model_type = 'random_forest'\n",
    "assert model_type in ['random_forest', 'svm']\n",
    "\n",
    "#choose the data and the label and convert to numpy array\n",
    "\n",
    "X = np.array(df)\n",
    "y = np.array(ds_df['human_label'])\n",
    "\n",
    "#split the data\n",
    "print('splitting the data...')\n",
    "X_train, X_test, y_train, y_test = train_test_split(X, y, test_size = test_size, random_state = random_state)\n",
    "\n",
    "#transform and scale the data - don't do this for random forest\n",
    "if model_type == 'svm':\n",
    "    'scaling data for svm...'\n",
    "    sc = StandardScaler()\n",
    "    X_train = sc.fit_transform(X_train)\n",
    "    X_test = sc.transform(X_test)\n",
    "print('done.')"
   ]
  },
  {
   "cell_type": "markdown",
   "id": "869518fc",
   "metadata": {},
   "source": [
    "## train"
   ]
  },
  {
   "cell_type": "code",
   "execution_count": 123,
   "id": "eae2e8c6",
   "metadata": {},
   "outputs": [
    {
     "name": "stdout",
     "output_type": "stream",
     "text": [
      "out of box score: 0.995788365359305\n"
     ]
    }
   ],
   "source": [
    "from sklearn.ensemble import RandomForestClassifier\n",
    "from sklearn.model_selection import cross_val_score\n",
    "from sklearn.svm import SVC\n",
    "\n",
    "random_state = 123456\n",
    "if model_type == 'random_forest':\n",
    "    \n",
    "    n_estimators = 10000\n",
    "    criterion = 'entropy'\n",
    "    \n",
    "    RF_model = RandomForestClassifier(n_estimators = n_estimators, \n",
    "                                      criterion = 'entropy', \n",
    "                                      random_state = random_state, \n",
    "                                      oob_score=True)\n",
    "    RF_model.fit(X_train, y_train)\n",
    "\n",
    "    print('out of box score:', RF_model.oob_score_)\n",
    "    \n",
    "elif model_type == 'svm':\n",
    "    \n",
    "    kernel = 'rbf'\n",
    "\n",
    "    SVM_model = SVC(kernel=kernel, \n",
    "                    random_state = random_state)\n",
    "    SVM_model.fit(X_train, y_train)\n",
    "\n",
    "    SVM_scores = cross_val_score(estimator = SVM_model, X = X_train, y = y_train, cv=10) #10 is the most common number of folds\n",
    "    print(\"%0.2f accuracy with a standard deviation of %0.2f\" % (SVM_scores.mean(), SVM_scores.std()))\n",
    "    "
   ]
  },
  {
   "cell_type": "markdown",
   "id": "80ca22e1",
   "metadata": {},
   "source": [
    "## evaluate"
   ]
  },
  {
   "cell_type": "code",
   "execution_count": 126,
   "id": "a263ac09",
   "metadata": {},
   "outputs": [
    {
     "data": {
      "image/png": "[encoded data removed]",
      "text/plain": [
       "<Figure size 216x216 with 2 Axes>"
      ]
     },
     "metadata": {
      "needs_background": "light"
     },
     "output_type": "display_data"
    }
   ],
   "source": [
    "#Evaluate the model on held out data and plot a confusion matrix\n",
    "\n",
    "save = False\n",
    "\n",
    "###################################################################################################################\n",
    "\n",
    "#Evaluate the model on held out data\n",
    "#choose the model to evaluate\n",
    "# voc_type_model_path = '/n/hoekstra_lab_tier1/Users/njourjine/manuscript/models/random_forest/voc_type_classifiers/20220921_061801/random_forest_20220921_061801_model.pkl'\n",
    "# RF_model = pickle.load(open(voc_type_model_path, 'rb'))\n",
    "model = RF_model\n",
    "\n",
    "#set the colorbar range\n",
    "# vmin=0\n",
    "# vmax=1\n",
    "# ax1, _ = mpl.colorbar.make_axes(plt.gca(), shrink=0.5)\n",
    "# cbar = mpl.colorbar.ColorbarBase(ax1, cmap='viridis', norm=mpl.colors.Normalize(vmin=vmin, vmax=vmax))\n",
    "#pcm = ax.pcolormesh(x, y, Z, vmin=0, vmax=1., cmap='viridis')\n",
    "\n",
    "y_pred = model.predict(X_test)\n",
    "labels = ['cry', 'whistle', 'scratch']\n",
    "cm = confusion_matrix(y_test,y_pred, labels = labels)\n",
    "fig = plt.figure(figsize=[3,3])\n",
    "\n",
    "#normalize by row sum\n",
    "cm_df = pd.DataFrame(cm, columns=labels, index=labels)\n",
    "cm_df = cm_df.div(cm_df.sum(axis=1), axis=0)\n",
    "\n",
    "sns.set(font_scale=1.4) # for label size\n",
    "sns.heatmap(cm_df, \n",
    "            annot=True, \n",
    "            annot_kws={\"size\": 9}, \n",
    "            cmap='viridis', \n",
    "            xticklabels=True, \n",
    "            yticklabels=True, \n",
    "            vmin=0, \n",
    "            vmax=1, \n",
    "            square=True) # font size\n",
    "\n",
    "classification_report(y_test, y_pred, output_dict=True)\n",
    "\n",
    "if save:\n",
    "    plt.savefig('/n/hoekstra_lab_tier1/Users/njourjine/manuscript/figures/figure_2/panels/voctype_RF_20221015.jpeg', dpi=600)\n",
    "    plt.savefig('/n/hoekstra_lab_tier1/Users/njourjine/manuscript/figures/figure_2/panels/voctype_RF_20221015.svg') "
   ]
  },
  {
   "cell_type": "markdown",
   "id": "811aea6c",
   "metadata": {},
   "source": [
    "## save the model"
   ]
  },
  {
   "cell_type": "code",
   "execution_count": 130,
   "id": "a6d20d73",
   "metadata": {},
   "outputs": [
    {
     "name": "stdout",
     "output_type": "stream",
     "text": [
      "made a directory:\n",
      "\t /n/hoekstra_lab_tier1/Users/njourjine/manuscript/models/random_forest/voc_type_classifiers/20230116_084254/\n",
      "making a new params file...\n",
      "saved the params file to:\n",
      " /n/hoekstra_lab_tier1/Users/njourjine/manuscript/models/random_forest/voc_type_classifiers/20230116_084254/random_forest_20230116_084254_params\n",
      "saved model to:\n",
      "\t /n/hoekstra_lab_tier1/Users/njourjine/manuscript/models/random_forest/voc_type_classifiers/20230116_084254/random_forest_20230116_084254_voc_type_model.pkl\n",
      "done.\n"
     ]
    }
   ],
   "source": [
    "# write model params\n",
    "\n",
    "if model_type == 'random_forest':\n",
    "    \n",
    "    model_params = {'model_type':model_type,\n",
    "                    'feature_set':list(base_features+extra_features),\n",
    "                    'targets': list(ds_df['human_label'].unique()),\n",
    "                    'test_size':test_size,\n",
    "                    'number_training_cries':len(ds_df.loc[ds_df['human_label']=='cry']),\n",
    "                    'number_training_whistles':len(ds_df.loc[ds_df['human_label']=='whistle']),\n",
    "                    'number_training_nonvocal':len(ds_df.loc[ds_df['human_label']=='scratch']),\n",
    "                    'n_estimators':n_estimators,\n",
    "                    'criterion':criterion,\n",
    "                    'random_state':random_state}         \n",
    "    \n",
    "    if model_params['targets'] == ['cry', 'whistle', 'scratch']:\n",
    "        target_dir = 'voc_type_classifiers'\n",
    "        models_root = '/n/hoekstra_lab_tier1/Users/njourjine/manuscript/models/random_forest/'\n",
    "        iteration = parameters.get_date_time()\n",
    "        params_save_name = ('_').join([model_type,iteration,'params'])\n",
    "        params_save_dir = os.path.join(models_root,target_dir,iteration)+'/'\n",
    "\n",
    "        if iteration not in os.listdir(os.path.join(models_root,target_dir)):\n",
    "            os.mkdir(params_save_dir)\n",
    "            print('made a directory:\\n\\t', params_save_dir)\n",
    "\n",
    "        #save the parameters\n",
    "        parameters.save_parameters(params = model_params,\n",
    "                                   save_dir=params_save_dir, \n",
    "                                   save_name=params_save_name)\n",
    "\n",
    "        #save the model\n",
    "        model_save_name = ('_').join([model_type,iteration,'voc_type_model'])                               \n",
    "        pickle.dump(RF_model, open(os.path.join(params_save_dir,model_save_name)+'.pkl', 'wb'))\n",
    "        assert os.path.exists(os.path.join(params_save_dir,model_save_name)+'.pkl')\n",
    "        print('saved model to:\\n\\t', os.path.join(params_save_dir,model_save_name)+'.pkl')\n",
    "        print('done.')\n",
    "\n",
    "    elif 'BW' in model_params['targets']:\n",
    "        target_dir = 'species_classifiers'\n",
    "        models_root = '/n/hoekstra_lab_tier1/Users/njourjine/manuscript/models/random_forest/'\n",
    "        iteration = get_date_time()\n",
    "        params_save_name = ('_').join([model_type,iteration,'params'])\n",
    "        params_save_dir = os.path.join(models_root,target_dir,iteration)+'/'\n",
    "\n",
    "        if iteration not in os.listdir(os.path.join(models_root,target_dir)):\n",
    "            os.mkdir(params_save_dir)\n",
    "            print('made a directory:\\n\\t', params_save_dir)\n",
    "\n",
    "        #save the parameters\n",
    "        save_parameters(params = model_params,\n",
    "                        save_dir=params_save_dir, \n",
    "                        save_name=params_save_name)\n",
    "\n",
    "        #save the model\n",
    "        model_save_name = ('_').join([model_type,iteration,'model'])                               \n",
    "        pickle.dump(RF_model, open(os.path.join(params_save_dir,model_save_name)+'.pkl', 'wb'))\n",
    "        assert os.path.exists(os.path.join(params_save_dir,model_save_name)+'.pkl')\n",
    "        print('saved model to:\\n\\t', os.path.join(params_save_dir,model_save_name)+'.pkl')\n",
    "        print('done.')\n"
   ]
  },
  {
   "cell_type": "markdown",
   "id": "62f2670e",
   "metadata": {},
   "source": [
    "# Train a model to predict species from vocalization type (cry or USV)"
   ]
  },
  {
   "cell_type": "markdown",
   "id": "287d6fda",
   "metadata": {},
   "source": [
    "## summary of annotated vocalizations"
   ]
  },
  {
   "cell_type": "code",
   "execution_count": 24,
   "id": "1e66befc",
   "metadata": {},
   "outputs": [
    {
     "name": "stdout",
     "output_type": "stream",
     "text": [
      "total label counts:\n",
      "\t\n",
      "cry: 18715\n",
      "whistle: 39460\n",
      "scratch: 0\n",
      "\n",
      "\n",
      "BW\n",
      "\tcry: 2367\n",
      "\twhistle: 6865\n",
      "\tscratch: 0\n",
      "BK\n",
      "\tcry: 2597\n",
      "\twhistle: 5287\n",
      "\tscratch: 0\n",
      "NB\n",
      "\tcry: 2271\n",
      "\twhistle: 4916\n",
      "\tscratch: 0\n",
      "SW\n",
      "\tcry: 2412\n",
      "\twhistle: 4304\n",
      "\tscratch: 0\n",
      "PO\n",
      "\tcry: 2599\n",
      "\twhistle: 3065\n",
      "\tscratch: 0\n",
      "LO\n",
      "\tcry: 2038\n",
      "\twhistle: 2339\n",
      "\tscratch: 0\n",
      "GO\n",
      "\tcry: 2339\n",
      "\twhistle: 6660\n",
      "\tscratch: 0\n",
      "LL\n",
      "\tcry: 2092\n",
      "\twhistle: 6024\n",
      "\tscratch: 0\n"
     ]
    }
   ],
   "source": [
    "#print the number of annotations for each species and label\n",
    "print('total label counts:\\n\\t')\n",
    "print('cry:', len(all_annotations.loc[all_annotations['human_label'] == 'cry']))\n",
    "print('whistle:', len(all_annotations.loc[all_annotations['human_label'] == 'whistle']))\n",
    "print('scratch:', len(all_annotations.loc[all_annotations['human_label'] == 'scratch']))\n",
    "\n",
    "print('\\n')\n",
    "for species in species_list:\n",
    "    print(species)\n",
    "    print('\\tcry:', len(all_annotations.loc[all_annotations['human_label'] == 'cry'].loc[all_annotations['species'] == species]))\n",
    "    print('\\twhistle:', len(all_annotations.loc[all_annotations['human_label'] == 'whistle'].loc[all_annotations['species'] == species]))\n",
    "    print('\\tscratch:', len(all_annotations.loc[all_annotations['human_label'] == 'scratch'].loc[all_annotations['species'] == species]))\n",
    "          "
   ]
  },
  {
   "cell_type": "markdown",
   "id": "4470ce52",
   "metadata": {},
   "source": [
    "## downsample"
   ]
  },
  {
   "cell_type": "code",
   "execution_count": 25,
   "id": "a7d21367",
   "metadata": {},
   "outputs": [
    {
     "name": "stdout",
     "output_type": "stream",
     "text": [
      "annotations by species:\n",
      "\n",
      "BW : 2000\n",
      "BK : 2000\n",
      "NB : 2000\n",
      "SW : 2000\n",
      "PO : 2000\n",
      "LO : 2000\n",
      "GO : 2000\n",
      "LL : 2000\n",
      "annotations by label:\n",
      "\n",
      "cry: 16000\n",
      "whistle: 0\n",
      "scratch: 0\n"
     ]
    }
   ],
   "source": [
    "seed = 123456\n",
    "num_to_sample = 2000\n",
    "\n",
    "downsampled_list = []\n",
    "\n",
    "for species in species_list:\n",
    "\n",
    "    #get the voc types for this label\n",
    "    temp_cry = all_annotations.loc[all_annotations['species'] == species].loc[all_annotations['human_label'] == 'cry']\n",
    "    #temp_whistle = all_annotations.loc[all_annotations['species'] == species].loc[all_annotations['human_label'] == 'whistle']\n",
    "   \n",
    "    #sample\n",
    "    temp_cry = temp_cry.sample(n=num_to_sample, random_state = seed)\n",
    "    #temp_whistle = temp_whistle.sample(n=num_to_sample, random_state = seed)\n",
    "    \n",
    "    #reasemble\n",
    "    #downsampled_species = pd.concat([temp_cry, temp_whistle])\n",
    "    downsampled_species = temp_cry\n",
    "    #update downsampled_list\n",
    "    downsampled_list.append(downsampled_species)\n",
    "    \n",
    "#assemble all the species\n",
    "ds_df = pd.concat(downsampled_list)\n",
    "ds_df = ds_df.reset_index(drop=True)\n",
    "\n",
    "#show some useful info\n",
    "print('annotations by species:\\n')\n",
    "for i in species_list:\n",
    "    print(i,':', len(ds_df.loc[ds_df['species'] == i]))\n",
    "    \n",
    "print('annotations by label:\\n')\n",
    "print('cry:', len(ds_df.loc[ds_df['human_label'] == 'cry']))\n",
    "print('whistle:', len(ds_df.loc[ds_df['human_label'] == 'whistle']))\n",
    "print('scratch:', len(ds_df.loc[ds_df['human_label'] == 'scratch']))\n",
    "\n"
   ]
  },
  {
   "cell_type": "code",
   "execution_count": 26,
   "id": "58476306",
   "metadata": {},
   "outputs": [
    {
     "name": "stdout",
     "output_type": "stream",
     "text": [
      "annotations by species:\n",
      "\n",
      "BW : 2000\n",
      "BK : 2000\n",
      "NB : 2000\n",
      "SW : 2000\n",
      "PO : 2000\n",
      "LO : 2000\n",
      "GO : 2000\n",
      "LL : 2000\n",
      "annotations by label:\n",
      "\n",
      "cry: 16000\n",
      "whistle: 0\n",
      "scratch: 0\n"
     ]
    }
   ],
   "source": [
    "#show some useful info\n",
    "print('annotations by species:\\n')\n",
    "for i in species_list:\n",
    "    print(i,':', len(ds_df.loc[ds_df['species'] == i]))\n",
    "    \n",
    "print('annotations by label:\\n')\n",
    "print('cry:', len(ds_df.loc[ds_df['human_label'] == 'cry']))\n",
    "print('whistle:', len(ds_df.loc[ds_df['human_label'] == 'whistle']))\n",
    "print('scratch:', len(ds_df.loc[ds_df['human_label'] == 'scratch']))"
   ]
  },
  {
   "cell_type": "markdown",
   "id": "8765c590",
   "metadata": {},
   "source": [
    "## train the model to predict species from a specific vocalization type"
   ]
  },
  {
   "cell_type": "markdown",
   "id": "9d928f2d",
   "metadata": {},
   "source": [
    "## select features"
   ]
  },
  {
   "cell_type": "code",
   "execution_count": 27,
   "id": "23fd1820",
   "metadata": {
    "ExecuteTime": {
     "end_time": "2023-01-09T10:46:16.922599Z",
     "start_time": "2023-01-09T10:46:16.919015Z"
    }
   },
   "outputs": [],
   "source": [
    "#choose voc_type if you want to normalize by weight or not\n",
    "voc_type = 'cry'\n",
    "features = ['duration', \n",
    "            'dfslope', \n",
    "            'time.median', \n",
    "            'time.IQR', \n",
    "            'time.Q25', \n",
    "            'time.Q75', \n",
    "            'meanfreq', \n",
    "            'meandom', \n",
    "            'freq.IQR', \n",
    "            'freq.Q25', \n",
    "            'freq.Q75', \n",
    "            'freq.median', \n",
    "            'sp.ent', \n",
    "            'time.ent']\n",
    "\n",
    "voc_ds_df = ds_df.loc[ds_df['human_label'] == voc_type]\n",
    "df = voc_ds_df[features]\n",
    "    "
   ]
  },
  {
   "cell_type": "markdown",
   "id": "a21454e7",
   "metadata": {},
   "source": [
    "## check for missing and duplicate data"
   ]
  },
  {
   "cell_type": "code",
   "execution_count": 28,
   "id": "77c64960",
   "metadata": {},
   "outputs": [
    {
     "name": "stdout",
     "output_type": "stream",
     "text": [
      "No missing data\n",
      "No duplicate data\n"
     ]
    }
   ],
   "source": [
    "if df.isnull().values.any() == True:\n",
    "    print('There are', df.isnull().sum().sum(), 'missing data')\n",
    "    #if there are missing data, replace them by the mean of the rest of the data from the column they come from \n",
    "    #all data are numeric in the current features data set, but if ever there are categorical features these should be excluded here\n",
    "\n",
    "    from sklearn.impute import SimpleImputer\n",
    "    imputer = SimpleImputer(missing_values = np.nan, strategy = 'mean')\n",
    "    imputer.fit(df)\n",
    "    df = imputer.transform(df)\n",
    "    print('imputed missing data using SimpleImputer...')\n",
    "    \n",
    "else: \n",
    "    print('No missing data')\n",
    "    \n",
    "assert voc_ds_df.duplicated(subset=['source_file']).sum() == 0\n",
    "print('No duplicate data')"
   ]
  },
  {
   "cell_type": "markdown",
   "id": "94e0c39a",
   "metadata": {},
   "source": [
    "## choose the model type and split the data"
   ]
  },
  {
   "cell_type": "code",
   "execution_count": 29,
   "id": "76966696",
   "metadata": {},
   "outputs": [
    {
     "name": "stdout",
     "output_type": "stream",
     "text": [
      "splitting the data...\n",
      "done.\n"
     ]
    }
   ],
   "source": [
    "#Split the test data from the train data - do this before scaling! Scaling before splitting \n",
    "#will result in information leakage between train and test data sets\n",
    "\n",
    "model_type = 'random_forest'\n",
    "assert model_type in ['random_forest', 'svm']\n",
    "\n",
    "#Typical split is 80% train 20% test\n",
    "random_state = 123456\n",
    "test_size = 0.2\n",
    "\n",
    "#import packages\n",
    "import numpy as np\n",
    "from sklearn.model_selection import train_test_split\n",
    "from sklearn.preprocessing import StandardScaler\n",
    "\n",
    "#choose the data and the label and convert to numpy array\n",
    "target = 'species'\n",
    "X = np.array(df)\n",
    "y = np.array(voc_ds_df[target])\n",
    "\n",
    "#split the data\n",
    "print('splitting the data...')\n",
    "X_train, X_test, y_train, y_test = train_test_split(X, y, test_size = test_size, random_state = random_state)\n",
    "\n",
    "#transform and scale the data - don't do this for random forest\n",
    "if model_type == 'svm':\n",
    "    'scaling data for svm...'\n",
    "    sc = StandardScaler()\n",
    "    X_train = sc.fit_transform(X_train)\n",
    "    X_test = sc.transform(X_test)\n",
    "print('done.')"
   ]
  },
  {
   "cell_type": "markdown",
   "id": "e28628ae",
   "metadata": {},
   "source": [
    "## train"
   ]
  },
  {
   "cell_type": "code",
   "execution_count": 145,
   "id": "28e9d488",
   "metadata": {},
   "outputs": [
    {
     "name": "stdout",
     "output_type": "stream",
     "text": [
      "0.545703125\n"
     ]
    }
   ],
   "source": [
    "\n",
    "\n",
    "random_state = 123456\n",
    "if model_type == 'random_forest':\n",
    "    \n",
    "    n_estimators = 500\n",
    "    criterion = 'entropy'\n",
    "    \n",
    "    RF_model = RandomForestClassifier(n_estimators = n_estimators, \n",
    "                                      criterion = 'entropy', \n",
    "                                      random_state = random_state, \n",
    "                                      bootstrap = True,\n",
    "                                      oob_score=True)\n",
    "    RF_model.fit(X_train, y_train)\n",
    "\n",
    "    print(RF_model.oob_score_)\n",
    "\n",
    "    #RF_scores = cross_val_score(estimator = RF_model, X = X_train, y = y_train, cv=10) #10 is the most common number of folds\n",
    "    #print(\"%0.2f accuracy with a standard deviation of %0.2f\" % (RF_scores.mean(), RF_scores.std()))\n",
    "    \n",
    "elif model_type == 'svm':\n",
    "    \n",
    "    kernel = 'rbf'\n",
    "\n",
    "    SVM_model = SVC(kernel=kernel, \n",
    "                    random_state = random_state)\n",
    "    SVM_model.fit(X_train, y_train)\n",
    "\n",
    "    SVM_scores = cross_val_score(estimator = SVM_model, X = X_train, y = y_train, cv=10) #10 is the most common number of folds\n",
    "    print(\"%0.2f accuracy with a standard deviation of %0.2f\" % (SVM_scores.mean(), SVM_scores.std()))\n",
    "    "
   ]
  },
  {
   "cell_type": "markdown",
   "id": "61eecdbc",
   "metadata": {},
   "source": [
    "## evaluate"
   ]
  },
  {
   "cell_type": "code",
   "execution_count": 147,
   "id": "dcf63139",
   "metadata": {},
   "outputs": [
    {
     "data": {
      "image/png": "[encoded data removed]",
      "text/plain": [
       "<Figure size 720x720 with 2 Axes>"
      ]
     },
     "metadata": {},
     "output_type": "display_data"
    }
   ],
   "source": [
    "\n",
    "save = False\n",
    "\n",
    "###################################################################################################################\n",
    "\n",
    "#Evaluate the model on held out data\n",
    "from sklearn.metrics import classification_report, confusion_matrix, plot_confusion_matrix, accuracy_score\n",
    "import matplotlib as mpl\n",
    "\n",
    "#choose the model to evaluate\n",
    "model = RF_model\n",
    "\n",
    "#set the colorbar range\n",
    "# vmin=0\n",
    "# vmax=1\n",
    "# ax1, _ = mpl.colorbar.make_axes(plt.gca(), shrink=0.5)\n",
    "# cbar = mpl.colorbar.ColorbarBase(ax1, cmap='viridis', norm=mpl.colors.Normalize(vmin=vmin, vmax=vmax))\n",
    "#pcm = ax.pcolormesh(x, y, Z, vmin=0, vmax=1., cmap='viridis')\n",
    "\n",
    "y_pred = model.predict(X_test)\n",
    "labels = ['BK', 'NB', 'SW', 'BW', 'PO', 'LO', 'GO', 'LL']\n",
    "cm = confusion_matrix(y_test,y_pred, labels = labels)\n",
    "fig = plt.figure(figsize=[10,10])\n",
    "\n",
    "#normalize by row sum\n",
    "cm_df = pd.DataFrame(cm, columns=labels, index=labels)\n",
    "cm_df = cm_df.div(cm_df.sum(axis=1), axis=0)\n",
    "\n",
    "sns.set(font_scale=1.4) # for label size\n",
    "sns.heatmap(cm_df, \n",
    "            annot=True, \n",
    "            annot_kws={\"size\": 9}, \n",
    "            cmap='viridis', \n",
    "            xticklabels=True, \n",
    "            yticklabels=True, \n",
    "            vmin=0, \n",
    "            vmax=1, \n",
    "            square=True) # font size\n",
    "\n",
    "report = classification_report(y_test, y_pred, output_dict=True)\n",
    "\n",
    "if save:\n",
    "    plt.savefig('/n/hoekstra_lab_tier1/Users/njourjine/manuscript/figures/figure_2/'+voc_type+'_RF_1000_trees_20221012.jpeg', dpi=600)\n",
    "    plt.savefig('/n/hoekstra_lab_tier1/Users/njourjine/manuscript/figures/figure_2/'+voc_type+'_RF_1000_trees_20221012.pdf')\n"
   ]
  },
  {
   "cell_type": "markdown",
   "id": "6580e499",
   "metadata": {},
   "source": [
    "## save the model"
   ]
  },
  {
   "cell_type": "code",
   "execution_count": 125,
   "id": "ac0db809",
   "metadata": {},
   "outputs": [
    {
     "name": "stdout",
     "output_type": "stream",
     "text": [
      "made a directory:\n",
      "\t /n/hoekstra_lab_tier1/Users/njourjine/manuscript/models/random_forest/species_classifiers/20221006_081440/\n",
      "making a new params file...\n",
      "saved the params file to:\n",
      " /n/hoekstra_lab_tier1/Users/njourjine/manuscript/models/random_forest/species_classifiers/20221006_081440/random_forest_20221006_081440_species_params_cry\n",
      "saved model to:\n",
      "\t /n/hoekstra_lab_tier1/Users/njourjine/manuscript/models/random_forest/species_classifiers/20221006_081440/random_forest_20221006_081440_species_model_cry.pkl\n",
      "done.\n"
     ]
    }
   ],
   "source": [
    "# write model params\n",
    "\n",
    "training_df = voc_ds_df\n",
    "if model_type == 'random_forest':\n",
    "    \n",
    "    model_params = {'model_type':model_type,\n",
    "                    'feature_set':list(base_features+extra_features),\n",
    "                    'targets': list(training_df['species'].unique()),\n",
    "                    'test_size':test_size,\n",
    "                    'number_training_cries':len(training_df.loc[training_df['human_label']=='cry']),\n",
    "                    'number_training_whistles':len(training_df.loc[training_df['human_label']=='whistle']),\n",
    "                    'number_training_nonvocal':len(training_df.loc[training_df['human_label']=='scratch']),\n",
    "                    'n_estimators':n_estimators,\n",
    "                    'criterion':criterion,\n",
    "                    'random_state':random_state}         \n",
    "    \n",
    "    if model_params['targets'] == ['cry', 'whistle', 'scratch']:\n",
    "        target_dir = 'voc_type_classifiers'\n",
    "        models_root = '/n/hoekstra_lab_tier1/Users/njourjine/manuscript/models/random_forest/'\n",
    "        iteration = get_date_time()\n",
    "        params_save_name = ('_').join([model_type,iteration,'voc_type_params'])\n",
    "        params_save_dir = os.path.join(models_root,target_dir,iteration)+'/'\n",
    "\n",
    "        if iteration not in os.listdir(os.path.join(models_root,target_dir)):\n",
    "            os.mkdir(params_save_dir)\n",
    "            print('made a directory:\\n\\t', params_save_dir)\n",
    "\n",
    "        #save the parameters\n",
    "        save_parameters(params = model_params,\n",
    "                        save_dir=params_save_dir, \n",
    "                        save_name=params_save_name)\n",
    "\n",
    "        #save the model\n",
    "        model_save_name = ('_').join([model_type,iteration,'voc_type_model'])                               \n",
    "        pickle.dump(RF_model, open(os.path.join(params_save_dir,model_save_name)+'.pkl', 'wb'))\n",
    "        assert os.path.exists(os.path.join(params_save_dir,model_save_name)+'.pkl')\n",
    "        print('saved model to:\\n\\t', os.path.join(params_save_dir,model_save_name)+'.pkl')\n",
    "        print('done.')\n",
    "\n",
    "    elif 'BW' in model_params['targets']:\n",
    "        target_dir = 'species_classifiers'\n",
    "        models_root = '/n/hoekstra_lab_tier1/Users/njourjine/manuscript/models/random_forest/'\n",
    "        iteration = get_date_time()\n",
    "        params_save_name = ('_').join([model_type,iteration,'species_params', voc_type])\n",
    "        params_save_dir = os.path.join(models_root,target_dir,iteration)+'/'\n",
    "\n",
    "        if iteration not in os.listdir(os.path.join(models_root,target_dir)):\n",
    "            os.mkdir(params_save_dir)\n",
    "            print('made a directory:\\n\\t', params_save_dir)\n",
    "\n",
    "        #save the parameters\n",
    "        save_parameters(params = model_params,\n",
    "                        save_dir=params_save_dir, \n",
    "                        save_name=params_save_name)\n",
    "\n",
    "        #save the model\n",
    "        model_save_name = ('_').join([model_type,iteration,'species_model', voc_type])                               \n",
    "        pickle.dump(RF_model, open(os.path.join(params_save_dir,model_save_name)+'.pkl', 'wb'))\n",
    "        assert os.path.exists(os.path.join(params_save_dir,model_save_name)+'.pkl')\n",
    "        print('saved model to:\\n\\t', os.path.join(params_save_dir,model_save_name)+'.pkl')\n",
    "        print('done.')\n"
   ]
  },
  {
   "cell_type": "markdown",
   "id": "7cbbb152",
   "metadata": {},
   "source": [
    "# Train multiple models on varying amounts of training examples"
   ]
  },
  {
   "cell_type": "code",
   "execution_count": 18,
   "id": "7bf20c39",
   "metadata": {},
   "outputs": [
    {
     "name": "stdout",
     "output_type": "stream",
     "text": [
      "cry\n",
      "training random forest on 50 vocalizations.\n",
      "\tsampling data...\n",
      "\ttraining model...\n"
     ]
    },
    {
     "ename": "NameError",
     "evalue": "name 'n_estimators' is not defined",
     "output_type": "error",
     "traceback": [
      "\u001b[0;31m---------------------------------------------------------------------------\u001b[0m",
      "\u001b[0;31mNameError\u001b[0m                                 Traceback (most recent call last)",
      "\u001b[0;32m/tmp/ipykernel_4967/2357876275.py\u001b[0m in \u001b[0;36m<module>\u001b[0;34m\u001b[0m\n\u001b[1;32m     29\u001b[0m                                                               \u001b[0mtest_size\u001b[0m \u001b[0;34m=\u001b[0m \u001b[0;36m0.2\u001b[0m\u001b[0;34m,\u001b[0m\u001b[0;34m\u001b[0m\u001b[0;34m\u001b[0m\u001b[0m\n\u001b[1;32m     30\u001b[0m                                                               \u001b[0mtarget\u001b[0m \u001b[0;34m=\u001b[0m\u001b[0;34m'species'\u001b[0m\u001b[0;34m,\u001b[0m\u001b[0;34m\u001b[0m\u001b[0;34m\u001b[0m\u001b[0m\n\u001b[0;32m---> 31\u001b[0;31m                                                               n_trees = 100)\n\u001b[0m\u001b[1;32m     32\u001b[0m \u001b[0mprint\u001b[0m\u001b[0;34m(\u001b[0m\u001b[0;34m'whistle'\u001b[0m\u001b[0;34m)\u001b[0m\u001b[0;34m\u001b[0m\u001b[0;34m\u001b[0m\u001b[0m\n\u001b[1;32m     33\u001b[0m USV_prediction_df = machinelearning.get_metric_by_sample_size(\n",
      "\u001b[0;32m/n/hoekstra_lab_tier1/Users/njourjine/public_repositories/peromyscus-pup-vocal-evolution/src/machinelearning.py\u001b[0m in \u001b[0;36mget_metric_by_sample_size\u001b[0;34m(voc_type, voc_df, sample_sizes, features, random_state, test_size, target, n_trees)\u001b[0m\n\u001b[1;32m     94\u001b[0m         \u001b[0;31m#train the model\u001b[0m\u001b[0;34m\u001b[0m\u001b[0;34m\u001b[0m\u001b[0;34m\u001b[0m\u001b[0m\n\u001b[1;32m     95\u001b[0m         \u001b[0mprint\u001b[0m\u001b[0;34m(\u001b[0m\u001b[0;34m'\\ttraining model...'\u001b[0m\u001b[0;34m)\u001b[0m\u001b[0;34m\u001b[0m\u001b[0;34m\u001b[0m\u001b[0m\n\u001b[0;32m---> 96\u001b[0;31m         model = RandomForestClassifier(n_estimators = n_estimators,  \n\u001b[0m\u001b[1;32m     97\u001b[0m                                           \u001b[0mrandom_state\u001b[0m \u001b[0;34m=\u001b[0m \u001b[0mrandom_state\u001b[0m\u001b[0;34m,\u001b[0m\u001b[0;34m\u001b[0m\u001b[0;34m\u001b[0m\u001b[0m\n\u001b[1;32m     98\u001b[0m                                           \u001b[0mbootstrap\u001b[0m \u001b[0;34m=\u001b[0m \u001b[0;32mTrue\u001b[0m\u001b[0;34m,\u001b[0m\u001b[0;34m\u001b[0m\u001b[0;34m\u001b[0m\u001b[0m\n",
      "\u001b[0;31mNameError\u001b[0m: name 'n_estimators' is not defined"
     ]
    }
   ],
   "source": [
    "#evaluate machine learning models trained on varying amounts of data\n",
    "\n",
    "\n",
    "features = ['duration', \n",
    "            'dfslope', \n",
    "             'time.median', \n",
    "             'time.IQR', \n",
    "             'time.Q25', \n",
    "             'time.Q75', \n",
    "              'meanfreq', \n",
    "              'meandom', \n",
    "              'freq.IQR', \n",
    "              'freq.Q25', \n",
    "              'freq.Q75', \n",
    "              'freq.median', \n",
    "              'sp.ent', \n",
    "              'time.ent']\n",
    "\n",
    "species_list = ['BW', 'BK', 'NB', 'SW', 'PO', 'LO', 'GO', 'LL']\n",
    "sample_sizes = [50, 200, 400, 600, 800, 1000, 1200, 1400, 1600, 1800, 2000]\n",
    "\n",
    "print('cry')\n",
    "cry_prediction_df = machinelearning.get_metric_by_sample_size(\n",
    "                                                              voc_type = 'cry', \n",
    "                                                              voc_df = all_annotations, \n",
    "                                                              sample_sizes = sample_sizes,\n",
    "                                                              features = features, \n",
    "                                                              random_state = 123456, \n",
    "                                                              test_size = 0.2, \n",
    "                                                              target ='species', \n",
    "                                                              n_trees = 100)\n",
    "print('whistle')\n",
    "USV_prediction_df = machinelearning.get_metric_by_sample_size(\n",
    "                                                              voc_type = 'whistle',\n",
    "                                                              voc_df = all_annotations, \n",
    "                                                              sample_sizes = sample_sizes,\n",
    "                                                              features = features, \n",
    "                                                              random_state = 123456, \n",
    "                                                              test_size = 0.2, \n",
    "                                                              target ='species', \n",
    "                                                              n_trees = 100)\n",
    "\n",
    "evaluation_df = pd.concat([cry_prediction_df, USV_prediction_df])\n",
    "\n",
    "print('done.')"
   ]
  },
  {
   "cell_type": "code",
   "execution_count": 283,
   "id": "e4bb33b0",
   "metadata": {},
   "outputs": [
    {
     "data": {
      "image/png": "[encoded data removed]",
      "text/plain": [
       "<Figure size 288x144 with 2 Axes>"
      ]
     },
     "metadata": {},
     "output_type": "display_data"
    }
   ],
   "source": [
    "\n",
    "\n",
    "save=False\n",
    "\n",
    "\n",
    "############################################################################################################\n",
    "\n",
    "save_dir = '/n/hoekstra_lab_tier1/Users/njourjine/manuscript/figures/figure_2/'\n",
    "version = '20221012_v1'\n",
    "\n",
    "\n",
    "\n",
    "############################################################################################################\n",
    "\n",
    "ytick_length = 2\n",
    "ytick_pad = 0.5\n",
    "fontsize=9\n",
    "\n",
    "sns.set_style(\"whitegrid\", {'axes.grid' : False})\n",
    "species_color_dict = {'BW':'darkblue',\n",
    "              'NB': 'dodgerblue',\n",
    "              'BK': 'steelblue',\n",
    "              'SW': 'blue',\n",
    "              'PO': 'orange',\n",
    "              'LO': 'goldenrod',\n",
    "              'GO': 'green',\n",
    "              'LL': 'forestgreen',\n",
    "              'MU': 'mediumspringgreen', \n",
    "              'MZ': 'turquoise'}\n",
    "\n",
    "fig, ax = plt.subplots(ncols=2, \n",
    "                       nrows=1, \n",
    "                       constrained_layout=True, \n",
    "                       sharey=False, figsize = [4,2])\n",
    "\n",
    "\n",
    "evaluation_df = evaluation_df.loc[evaluation_df['species'].isin(species_list)]\n",
    "evaluation_df = evaluation_df.reset_index(drop=True)\n",
    "metric = 'f1-score'\n",
    "\n",
    "sns.stripplot(x='sample_size', \n",
    "                     y=metric, \n",
    "                     data=evaluation_df.loc[evaluation_df['voc_type']=='cry'],\n",
    "                     hue='species', \n",
    "                     palette=species_color_dict, \n",
    "                     ax=ax[0], alpha=.75, s=5)\n",
    "\n",
    "sns.stripplot(x='sample_size', \n",
    "                     y=metric, \n",
    "                     data=evaluation_df.loc[evaluation_df['voc_type']=='whistle'],\n",
    "                     hue='species', \n",
    "                     palette=species_color_dict, \n",
    "                     ax=ax[1], alpha=.75, s=5)\n",
    "\n",
    "\n",
    "sns.boxplot(x='sample_size', \n",
    "                     y=metric, \n",
    "                     data=evaluation_df.loc[evaluation_df['voc_type']=='cry'], \n",
    "                whis=1.5, \n",
    "                showfliers = False, \n",
    "                flierprops={\"marker\": \"\"},\n",
    "                medianprops={\"color\": \"black\"},\n",
    "                boxprops={\"linewidth\": .1, \"color\":'black', 'alpha':0},\n",
    "                whiskerprops={\"linewidth\": .1, \"color\":'black', 'alpha':0},\n",
    "                width = .5, \n",
    "                showcaps=False,\n",
    "                ax=ax[0])\n",
    "\n",
    "sns.boxplot(x='sample_size', \n",
    "                     y=metric, \n",
    "                     data=evaluation_df.loc[evaluation_df['voc_type']=='whistle'], \n",
    "                whis=1.5, \n",
    "                showfliers = False, \n",
    "                flierprops={\"marker\": \"\"},\n",
    "                medianprops={\"color\": \"black\"},\n",
    "                boxprops={\"linewidth\": .1, \"color\":'black', 'alpha':0},\n",
    "                whiskerprops={\"linewidth\": .1, \"color\":'black', 'alpha':0},\n",
    "                width = .5, \n",
    "                showcaps=False,\n",
    "                ax=ax[1])\n",
    "\n",
    "for i in [0,1]:\n",
    "    ax[i].set_ylabel('')\n",
    "    ax[i].set_xlabel('')\n",
    "    ax[i].set_ylim([0,1])\n",
    "    ax[i].legend([],[], frameon=False)\n",
    "    \n",
    "    ax[i].xaxis.set_tick_params(width=.5, rotation = 90, length = ytick_length, pad = ytick_pad)\n",
    "    ax[i].yaxis.set_tick_params(width=.5, rotation = 0, length = ytick_length, pad = ytick_pad)\n",
    "    \n",
    "    ax[i].set_yticks([0,.2, .4, .6, .8, 1])\n",
    "    ax[i].set_ylim([0,1])\n",
    "    ax[i].axhline(y=(1/8), linestyle= 'dashed', color='black', linewidth=0.5)\n",
    "\n",
    "\n",
    "    for axis in ['top','bottom','left','right']:\n",
    "            ax[i].spines[axis].set_linewidth(.5)\n",
    "    for label in (ax[i].get_yticklabels() + ax[i].get_xticklabels()):\n",
    "        label.set_fontname('Arial')\n",
    "        label.set_fontsize(fontsize)\n",
    "\n",
    "sns.despine()\n",
    "\n",
    "if save:\n",
    "    save_name = ('_').join(['f1-scores_by_sample_size', version])\n",
    "    plt.savefig(os.path.join(save_dir, save_name)+'.jpeg', dpi=600)\n",
    "    plt.savefig(os.path.join(save_dir, save_name)+'.svg')\n",
    "    "
   ]
  },
  {
   "cell_type": "code",
   "execution_count": 391,
   "id": "40b82d70",
   "metadata": {},
   "outputs": [
    {
     "data": {
      "image/png": "[encoded data removed]",
      "text/plain": [
       "<Figure size 288x144 with 1 Axes>"
      ]
     },
     "metadata": {},
     "output_type": "display_data"
    }
   ],
   "source": [
    "\n",
    "\n",
    "save=False\n",
    "\n",
    "\n",
    "############################################################################################################\n",
    "\n",
    "save_dir = '/n/hoekstra_lab_tier1/Users/njourjine/manuscript/figures/figure_2/'\n",
    "version = '20221012_v1'\n",
    "\n",
    "\n",
    "############################################################################################################\n",
    "\n",
    "ytick_length = 2\n",
    "ytick_pad = 0.5\n",
    "fontsize=9\n",
    "\n",
    "voc_name_color_dict = {'cry': 'deeppink', \n",
    "               'whistle': 'thistle', \n",
    "               'nan':'black'}\n",
    "\n",
    "\n",
    "sns.set_style(\"whitegrid\", {'axes.grid' : False})\n",
    "species_color_dict = {'BW':'darkblue',\n",
    "              'NB': 'dodgerblue',\n",
    "              'BK': 'steelblue',\n",
    "              'SW': 'blue',\n",
    "              'PO': 'orange',\n",
    "              'LO': 'goldenrod',\n",
    "              'GO': 'green',\n",
    "              'LL': 'forestgreen',\n",
    "              'MU': 'mediumspringgreen', \n",
    "              'MZ': 'turquoise'}\n",
    "\n",
    "fig, ax = plt.subplots(ncols=1, \n",
    "                       nrows=1, \n",
    "                       constrained_layout=True, \n",
    "                       sharey=False, figsize = [4,2])\n",
    "\n",
    "\n",
    "model_df = evaluation_df.loc[model_df['species'].isin(species_list)]\n",
    "model_df = evaluation_df.reset_index(drop=True)\n",
    "metric = 'precision'\n",
    "\n",
    "sns.stripplot(x='sample_size', \n",
    "                     y=metric, \n",
    "                     data=evaluation_df,\n",
    "                     jitter=False,\n",
    "                     dodge=True,\n",
    "                     hue='voc_type', \n",
    "                     palette=voc_name_color_dict, \n",
    "                     ax=ax, alpha=.75, s=5)\n",
    "\n",
    "sns.boxplot(x='sample_size', \n",
    "                     y=metric, \n",
    "                     data=evaluation_df, \n",
    "                     hue='voc_type',\n",
    "                dodge=True,\n",
    "                whis=1.5, \n",
    "                showfliers = False, \n",
    "                flierprops={\"marker\": \"\"},\n",
    "                medianprops={\"color\": \"black\"},\n",
    "                boxprops={\"linewidth\": .1, \"color\":'black', 'alpha':0},\n",
    "                whiskerprops={\"linewidth\": .1, \"color\":'black', 'alpha':0},\n",
    "                width = .5, \n",
    "                showcaps=False,\n",
    "                ax=ax)\n",
    "\n",
    "\n",
    "\n",
    "\n",
    "ax.set_ylabel('')\n",
    "ax.set_xlabel('')\n",
    "ax.set_ylim([0,1])\n",
    "ax.legend([],[], frameon=False)\n",
    "\n",
    "ax.xaxis.set_tick_params(width=.5, rotation = 90, length = ytick_length, pad = ytick_pad)\n",
    "ax.yaxis.set_tick_params(width=.5, rotation = 0, length = ytick_length, pad = ytick_pad)\n",
    "\n",
    "ax.set_yticks([0,.2, .4, .6, .8, 1])\n",
    "ax.set_ylim([0,1])\n",
    "ax.axhline(y=(1/8), linestyle= 'dashed', color='black', linewidth=0.5)\n",
    "\n",
    "\n",
    "for axis in ['top','bottom','left','right']:\n",
    "        ax.spines[axis].set_linewidth(.5)\n",
    "for label in (ax.get_yticklabels() + ax.get_xticklabels()):\n",
    "    label.set_fontname('Arial')\n",
    "    label.set_fontsize(fontsize)\n",
    "\n",
    "sns.despine()\n",
    "\n",
    "if save:\n",
    "    save_name = ('_').join(['precision_by_sample_size', version])\n",
    "    plt.savefig(os.path.join(save_dir, save_name)+'.jpeg', dpi=600)\n",
    "    plt.savefig(os.path.join(save_dir, save_name)+'.svg')\n",
    "    evaluation_df.to_csv(os.path.join(save_dir, 'training_set_comparison_evaluation.csv'), index=False)\n",
    "    importances_df.to_csv(os.path.join(save_dir, 'training_set_comparison_importances.csv'), index=False)\n",
    "    "
   ]
  }
 ],
 "metadata": {
  "kernelspec": {
   "display_name": "manuscript",
   "language": "python",
   "name": "manuscript"
  },
  "language_info": {
   "codemirror_mode": {
    "name": "ipython",
    "version": 3
   },
   "file_extension": ".py",
   "mimetype": "text/x-python",
   "name": "python",
   "nbconvert_exporter": "python",
   "pygments_lexer": "ipython3",
   "version": "3.7.3"
  },
  "toc": {
   "base_numbering": 1,
   "nav_menu": {},
   "number_sections": true,
   "sideBar": true,
   "skip_h1_title": false,
   "title_cell": "Table of Contents",
   "title_sidebar": "Contents",
   "toc_cell": false,
   "toc_position": {},
   "toc_section_display": true,
   "toc_window_display": false
  },
  "varInspector": {
   "cols": {
    "lenName": 16,
    "lenType": 16,
    "lenVar": 40
   },
   "kernels_config": {
    "python": {
     "delete_cmd_postfix": "",
     "delete_cmd_prefix": "del ",
     "library": "var_list.py",
     "varRefreshCmd": "print(var_dic_list())"
    },
    "r": {
     "delete_cmd_postfix": ") ",
     "delete_cmd_prefix": "rm(",
     "library": "var_list.r",
     "varRefreshCmd": "cat(var_dic_list()) "
    }
   },
   "types_to_exclude": [
    "module",
    "function",
    "builtin_function_or_method",
    "instance",
    "_Feature"
   ],
   "window_display": false
  }
 },
 "nbformat": 4,
 "nbformat_minor": 5
}
