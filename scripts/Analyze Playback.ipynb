{
 "cells": [
  {
   "cell_type": "markdown",
   "metadata": {},
   "source": [
    "# preliminaries"
   ]
  },
  {
   "cell_type": "markdown",
   "metadata": {},
   "source": [
    "## load modules"
   ]
  },
  {
   "cell_type": "code",
   "execution_count": 1,
   "metadata": {
    "ExecuteTime": {
     "end_time": "2023-01-10T12:30:05.417849Z",
     "start_time": "2023-01-10T12:30:03.746266Z"
    }
   },
   "outputs": [],
   "source": [
    "%matplotlib inline\n",
    "%load_ext autoreload\n",
    "%autoreload 2\n",
    "\n",
    "#file system\n",
    "import os\n",
    "import glob\n",
    "\n",
    "#data \n",
    "import numpy as np\n",
    "import scipy as sp\n",
    "import pandas as pd\n",
    "from scipy import signal\n",
    "\n",
    "#plotting\n",
    "import seaborn as sns \n",
    "import matplotlib as mpl\n",
    "import matplotlib.pyplot as plt\n",
    "from matplotlib.pyplot import figure\n",
    "\n",
    "# custom modules\n",
    "import src.playback as beh"
   ]
  },
  {
   "cell_type": "markdown",
   "metadata": {},
   "source": [
    "## set path variables"
   ]
  },
  {
   "cell_type": "code",
   "execution_count": 2,
   "metadata": {},
   "outputs": [],
   "source": [
    "#Path to data\n",
    "Path_Files = '/peromyscus-pup-vocal-evolution/data/playback/'"
   ]
  },
  {
   "cell_type": "markdown",
   "metadata": {},
   "source": [
    "## print available sessions (1 session = 1 dam)"
   ]
  },
  {
   "cell_type": "code",
   "execution_count": 1,
   "metadata": {},
   "outputs": [],
   "source": [
    "SessionsToRun = [f for f in os.listdir(Path_Files) if f.startswith('BW')]\n",
    "\n",
    "print('available dams (species_ID_yyyy_m_dd):\\n')\n",
    "for index, dam in enumerate(SessionsToRun): print('\\t',index,':', dam)"
   ]
  },
  {
   "cell_type": "markdown",
   "metadata": {},
   "source": [
    "# load data for a single dam"
   ]
  },
  {
   "cell_type": "code",
   "execution_count": 2,
   "metadata": {},
   "outputs": [],
   "source": [
    "# choose the dam (int between 0 and 4)\n",
    "Example=4\n",
    "\n",
    "# Get data for this dam\n",
    "ExampleSessionCentroid=  [f for f in os.listdir(Path_Files+SessionsToRun[Example]) if f.startswith('centroid')] \n",
    "ExampleSessionTTL= [f for f in os.listdir(Path_Files+SessionsToRun[Example]) if f.startswith('Playback_TTL')] \n",
    "tracking=np.genfromtxt([Path_Files+SessionsToRun[Example]+ '/'  +ExampleSessionCentroid[0]][0], delimiter=',')\n",
    "TTL=np.genfromtxt([Path_Files+SessionsToRun[Example]+ '/' +ExampleSessionTTL[0]][0], delimiter=',')\n",
    "\n",
    "#Rescaling from pixels to cm\n",
    "Scale=8.8\n",
    "tracking=tracking/Scale\n",
    "\n",
    "if np.size(tracking,0)!=np.size(TTL):\n",
    "    minimum=np.min([np.size(tracking,0),np.size(TTL)])\n",
    "    TTL=TTL[0:minimum]\n",
    "    tracking=tracking[0:minimum,:]\n",
    "    print(minimum)\n",
    "\n",
    "# plot the dam's centroid during session\n",
    "figure(num=None, figsize=(15, 10), dpi=80, facecolor='w', edgecolor='k')\n",
    "plt.plot(tracking[:,0], tracking[:,1])\n",
    "plt.show()"
   ]
  },
  {
   "cell_type": "markdown",
   "metadata": {},
   "source": [
    "## Handle TTL pulses"
   ]
  },
  {
   "cell_type": "code",
   "execution_count": 3,
   "metadata": {},
   "outputs": [],
   "source": [
    "#Threshold and redefine TTL\n",
    "TTL[:]=TTL>1\n",
    "plt.plot(TTL[:])\n",
    "plt.show()\n",
    "\n",
    "#Define DiffTTL\n",
    "DiffTTL= np.diff(TTL)\n",
    "DiffTTL=np.append(DiffTTL,DiffTTL[-1])\n",
    "\n",
    "#Get TTL flips\n",
    "HighFlips=np.where(DiffTTL>0.5)\n",
    "DiffFlips=np.diff(HighFlips)\n",
    "DiffFlips=np.append(DiffFlips[0],DiffFlips[0][-1])\n",
    "CryFlips=( DiffFlips> 28) & (DiffFlips < 32)\n",
    "USVFlips=( DiffFlips> 88) & (DiffFlips < 92)\n",
    "EndFlips=( DiffFlips> 95)\n",
    "allVector=np.arange(0,np.size(TTL,0),1)\n",
    "AllCry=np.interp(allVector, HighFlips[0], CryFlips)\n",
    "AllUSV=np.interp(allVector, HighFlips[0], USVFlips)\n",
    "AllUSV[allVector<HighFlips[0][0]]=False\n",
    "AllCry[allVector<HighFlips[0][0]]=False\n",
    "AllUSV[allVector>HighFlips[0][-1]]=False\n",
    "AllCry[allVector>HighFlips[0][-1]]=False\n",
    "AllCrybool=AllCry==1\n",
    "AllUSVbool=AllUSV==1\n",
    "\n",
    "#Remove jumps in tracking and interpolating tracking\n",
    "diffX=np.diff(tracking[:,0])\n",
    "diffY=np.diff(tracking[:,1])\n",
    "diffX=np.append(diffX,diffX[-1])\n",
    "diffY=np.append(diffY,diffY[-1])\n",
    "plt.plot (np.abs(diffX), '.b')\n",
    "plt.plot (np.abs(diffY), '.g')\n",
    "EraseX=np.where(np.abs(diffX)>1.3)\n",
    "EraseY=np.where(np.abs(diffY)>1.3)\n",
    "Erase=np.append(EraseX, EraseY)\n",
    "Erase=np.unique(Erase)\n",
    "\n",
    "#Erase outliers\n",
    "tracking[Erase,:] = np.NAN\n",
    "diffX=np.diff(tracking[:,0])\n",
    "diffY=np.diff(tracking[:,1])\n",
    "diffX=np.append(diffX,diffX[-1])\n",
    "diffY=np.append(diffY,diffY[-1])\n",
    "\n",
    "#interpolate nans\n",
    "NaNIndexes=np.where(np.isnan(tracking[:,0]))\n",
    "tracking[NaNIndexes,0]=np.interp(NaNIndexes[0],np.where(~np.isnan(tracking[:,0]))[0],tracking[np.where(~np.isnan(tracking[:,0])),0][0])\n",
    "tracking[NaNIndexes,1]=np.interp(NaNIndexes[0],np.where(~np.isnan(tracking[:,1]))[0],tracking[np.where(~np.isnan(tracking[:,1])),1][0])"
   ]
  },
  {
   "cell_type": "markdown",
   "metadata": {},
   "source": [
    "## plot centroid labeled by playback type (Figure 2C)"
   ]
  },
  {
   "cell_type": "code",
   "execution_count": 4,
   "metadata": {
    "scrolled": false
   },
   "outputs": [],
   "source": [
    "save =False\n",
    "\n",
    "####################################################################################################\n",
    "\n",
    "plt.figure(figsize = [2.5,1.5], dpi = 600)\n",
    "\n",
    "no_playback_alpha = .5\n",
    "playback_alpha = .6\n",
    "no_playback_s = 2.5\n",
    "playback_s = 5\n",
    "fontsize = 9\n",
    "\n",
    "#Plotting all tracking and differentially tracking under Cry or USV\n",
    "#print(HighFlips[0][CryFlips])\n",
    "plt.plot( tracking[0:75000,0], \n",
    "            tracking[0:75000,1], \n",
    "            color='grey', \n",
    "            alpha=no_playback_alpha, linewidth=.1)\n",
    "\n",
    "AllCryIndex=np.where(AllCrybool[0:75000]==True)\n",
    "AllUSVIndex=np.where(AllUSVbool[0:75000]==True)\n",
    "\n",
    "\n",
    "plt.scatter(tracking[AllCryIndex,0], \n",
    "            tracking[AllCryIndex,1], \n",
    "            color='deeppink', \n",
    "            alpha = playback_alpha, \n",
    "            s = playback_s, \n",
    "            linewidth=0)\n",
    "\n",
    "plt.scatter(tracking[AllUSVIndex,0], \n",
    "            tracking[AllUSVIndex,1], \n",
    "            color='thistle', \n",
    "            alpha = playback_alpha, \n",
    "            linewidth=0,\n",
    "            s = playback_s)\n",
    "\n",
    "plt.xlabel('X position (cm)', fontname=\"Arial\", fontsize=fontsize)\n",
    "plt.ylabel('Y position (cm)',  fontname=\"Arial\", fontsize=fontsize)\n",
    "\n",
    "plt.xlim(0,36)\n",
    "plt.ylim(0,26)\n",
    "\n",
    "plt.xlabel('')\n",
    "plt.ylabel('')\n",
    "\n",
    "plt.xticks([],[])\n",
    "plt.yticks([],[])\n",
    "\n",
    "plt.axis('off')\n",
    "sns.despine()\n",
    "#plt.plot(tracking[HighFlips[0][EndFlips],0], tracking[HighFlips[0][EndFlips],1], '.m' )\n",
    "\n",
    "if save:\n",
    "    save_dir = ''\n",
    "    save_name = 'dam_5_example_position_plot_v2.jpeg'\n",
    "    plt.savefig(os.path.join(save_dir,save_name), bbox_inches = 'tight', dpi=600)\n"
   ]
  },
  {
   "cell_type": "markdown",
   "metadata": {},
   "source": [
    "## plot distance to speaker colored by mouse speed (overlay playback and type)"
   ]
  },
  {
   "cell_type": "code",
   "execution_count": 5,
   "metadata": {},
   "outputs": [],
   "source": [
    "#get distances\n",
    "Begin=0\n",
    "Ending=np.size(TTL,0)\n",
    "DiffTTL= np.diff(TTL)\n",
    "DiffTTL=np.append(DiffTTL,DiffTTL[-1])\n",
    "DistanceMouseSpeaker=beh.calc_distance(tracking[:,0], tracking[:,1], 5, 22.5)\n",
    "DistanceMouseNest=beh.calc_distance(tracking[:,0], tracking[:,1], 31, 6)\n",
    "\n",
    "#process\n",
    "TimeVector=np.arange(0,0.0333*np.size(TTL,0),0.0333)\n",
    "Speedpre=beh.calc_speed(tracking, 30)\n",
    "Speedpre=np.append(Speedpre,Speedpre[-1])\n",
    "Filter=beh.gaussian_filter_1d(size=60,sigma=5)\n",
    "Speed=np.convolve(Speedpre, Filter, 'same')\n",
    "\n",
    "#plot\n",
    "figure(num=None, figsize=(15, 10), dpi=80, facecolor='w', edgecolor='k')\n",
    "ax= plt.subplot(3,1,1)\n",
    "plt.scatter( TimeVector[Begin:Ending], DistanceMouseSpeaker[Begin:Ending],c=Speed[Begin:Ending], s=.5, alpha=1,  vmin=0, vmax=20)\n",
    "plt.xlabel('Time')\n",
    "plt.ylabel('Distance to Speaker')\n",
    "ax.fill_between(TimeVector,0,40, where=AllCrybool,  alpha=0.6, color='deeppink')\n",
    "ax.fill_between(TimeVector,0,40, where=AllUSVbool,  alpha=0.6, color='thistle')\n",
    "plt.xlabel('Time (s)')\n",
    "plt.ylabel('Distance From Speaker (cm)')\n",
    "plt.rcParams.update({'font.size': 15})\n",
    "\n",
    "plt.show()"
   ]
  },
  {
   "cell_type": "markdown",
   "metadata": {},
   "source": [
    "# Get data for all dams"
   ]
  },
  {
   "cell_type": "code",
   "execution_count": 6,
   "metadata": {},
   "outputs": [],
   "source": [
    "DataframePlayback = beh.get_data(Path_Files, save=False, save_dir=None)\n",
    "\n",
    "#DataframePlayback is the dataframe processed_data/figure_3/playback_data.csv in the Dryad dataset (https://doi.org/10.5061/dryad.g79cnp5ts)\n"
   ]
  },
  {
   "cell_type": "markdown",
   "metadata": {},
   "source": [
    "# plotting"
   ]
  },
  {
   "cell_type": "markdown",
   "metadata": {},
   "source": [
    "## distance to speaker with playback time and type (Figure 2D)"
   ]
  },
  {
   "cell_type": "code",
   "execution_count": 7,
   "metadata": {},
   "outputs": [],
   "source": [
    "fontsize = 9\n",
    "\n",
    "#####################################################################################################################\n",
    "\n",
    "#set up figure\n",
    "figure(num=None, figsize=(6, 5), \n",
    "       dpi=600, \n",
    "       facecolor='w', \n",
    "       edgecolor='black', constrained_layout=True)\n",
    "plt.rcParams.update({'font.size': fontsize})\n",
    "plotindex=1\n",
    "\n",
    "#iteratre through dams (sessions) and plot\n",
    "for identity in DataframePlayback[\"id\"]:\n",
    "\n",
    "    EndOfExp=DataframePlayback.loc[DataframePlayback[\"id\"]==identity, \"end_experiment\"].item()\n",
    "    ax=plt.subplot(5,1,plotindex)\n",
    "\n",
    "    plt.plot(DataframePlayback.loc[DataframePlayback[\"id\"]==identity, \"time_vector\"].to_numpy()[0][0:EndOfExp],\n",
    "             DataframePlayback.loc[DataframePlayback[\"id\"]==identity, \"distance_to_speaker\"].to_numpy()[0][0:EndOfExp],\n",
    "             color=\"black\", \n",
    "             linewidth=0.5)\n",
    "    ax.fill_between(DataframePlayback.loc[DataframePlayback[\"id\"]==identity, \"time_vector\"].to_numpy()[0][0:EndOfExp],\n",
    "                    0,\n",
    "                    40, \n",
    "                    where=DataframePlayback.loc[DataframePlayback[\"id\"]==identity, \"all_cry_bool\"].to_numpy()[0][0:EndOfExp],  \n",
    "                    alpha=0.9, \n",
    "                    color='deeppink')\n",
    "    ax.fill_between(DataframePlayback.loc[DataframePlayback[\"id\"]==identity, \"time_vector\"].to_numpy()[0][0:EndOfExp],\n",
    "                    0,\n",
    "                    40, \n",
    "                    where=DataframePlayback.loc[DataframePlayback[\"id\"]==identity, \"all_USV_bool\"].to_numpy()[0][0:EndOfExp],  \n",
    "                    alpha=0.9, \n",
    "                    color='thistle')\n",
    "    \n",
    "    \n",
    "    \n",
    "    if plotindex==3:\n",
    "        plt.ylabel('distance to speaker (cm)', fontname=\"Arial\", fontsize=fontsize)  \n",
    "        \n",
    "    if plotindex!=5:\n",
    "        plt.xlabel('')\n",
    "    elif plotindex==5:\n",
    "        plt.xlabel('time (s)', fontname=\"Arial\", fontsize=fontsize)\n",
    "        \n",
    "    plotindex=plotindex+1\n",
    "\n",
    "plt.show()\n"
   ]
  },
  {
   "cell_type": "markdown",
   "metadata": {},
   "source": [
    "## distance to speaker heatmaps (Figure 2E)"
   ]
  },
  {
   "cell_type": "code",
   "execution_count": 8,
   "metadata": {},
   "outputs": [],
   "source": [
    "# hard code information that is the same for all playback trials\n",
    "start=0\n",
    "TotalTime=3900\n",
    "PreTime=300\n",
    "iterations=25\n",
    "\n",
    "#get the heatmap matrices from the playback dataframe\n",
    "CryMatrix, USVMatrix = beh.get_heatmaps(playback_df=DataframePlayback, \n",
    "                                        feature=\"distance_to_speaker\")\n",
    "\n",
    "#plot\n",
    "plt.figure(figsize=[6,3], \n",
    "           constrained_layout=True)\n",
    "\n",
    "#plot cries\n",
    "plt.subplot(1,2,1)\n",
    "plt.imshow(CryMatrix, aspect='auto', cmap='viridis')\n",
    "plt.vlines(PreTime,0,24, 'w', linestyle = '--')\n",
    "\n",
    "#plot USV\n",
    "plt.subplot(1,2,2)\n",
    "plt.imshow(USVMatrix, aspect='auto', cmap='viridis')\n",
    "plt.vlines(PreTime,0,23, 'w', linestyle = '--')\n",
    "cbar=plt.colorbar()\n",
    "\n",
    "plt.xticks([],[])"
   ]
  },
  {
   "cell_type": "markdown",
   "metadata": {},
   "source": [
    "## connected dot plots (Figure 2F)"
   ]
  },
  {
   "cell_type": "code",
   "execution_count": 9,
   "metadata": {},
   "outputs": [],
   "source": [
    "\n",
    "save= False\n",
    "\n",
    "#####################################################################################################################\n",
    "\n",
    "# set up the figure\n",
    "fig, axes = plt.subplots(ncols = 2, \n",
    "                         nrows = 1, \n",
    "                         figsize=[4,2], \n",
    "                         constrained_layout = True, \n",
    "                         dpi = 600)\n",
    "\n",
    "#plot median_time (median time to speaker) from DataframePlayback\n",
    "feature = 'median_time_'\n",
    "\n",
    "if feature == 'median_time_':\n",
    "    y_ticks = [0,30,60,90,120]\n",
    "\n",
    "elif feature == 'max_speed_':\n",
    "    y_ticks = [0,5,10,15,20]\n",
    "\n",
    "# plot the lines\n",
    "for i in range(len(DataframePlayback[[ feature+\"USV\"]])):\n",
    "    axes[0].plot( [0,1], [DataframePlayback[[feature+\"cry\"]].iloc[i], DataframePlayback[[feature+\"USV\"]].iloc[i]], c='black', alpha=1, linewidth=1)\n",
    "\n",
    "# plot the points\n",
    "axes[0].scatter(np.zeros(len(DataframePlayback[[feature+\"cry\"]])), DataframePlayback[[feature+\"cry\"]], color='deeppink', s=10, alpha=1)\n",
    "axes[0].scatter(np.ones(len(DataframePlayback[[ feature+\"USV\"]])), DataframePlayback[[ feature+\"USV\"]], color='thistle', s=10 , alpha=1)\n",
    "    \n",
    "axes[0].set_xticks([0,1], [\"cries\", \"USVs\"],   fontname=\"Arial\", fontsize=9, rotation=90)\n",
    "axes[0].set_yticks(y_ticks, fontname=\"Arial\", fontsize=9)\n",
    "axes[0].set_ylabel('Time to Speaker (s)',   fontname=\"Arial\", fontsize=9)\n",
    "axes[0].set_xlim(-0.5,1.5)\n",
    "\n",
    "sns.despine()\n",
    "\n",
    "#plot max_speed_ (median of maximum speed achieved while going to speaker) from DataframePlayback\n",
    "feature = 'max_speed_'\n",
    "\n",
    "if feature == 'time_median_':\n",
    "    y_ticks = [0,30,60,90,120]\n",
    "\n",
    "elif feature == 'max_speed_':\n",
    "    y_ticks = [0,5,10,15,20]\n",
    "\n",
    "# plot the lines\n",
    "for i in range(len(DataframePlayback[[ feature+\"USV\"]])):\n",
    "    axes[1].plot( [0,1], [DataframePlayback[[feature+\"cry\"]].iloc[i], DataframePlayback[[feature+\"USV\"]].iloc[i]], c='black', alpha=1, linewidth=1)\n",
    "\n",
    "# plot the points\n",
    "axes[1].scatter(np.zeros(len(DataframePlayback[[feature+\"cry\"]])), DataframePlayback[[feature+\"cry\"]], color='deeppink', s=10, alpha=1)\n",
    "axes[1].scatter(np.ones(len(DataframePlayback[[ feature+\"USV\"]])), DataframePlayback[[ feature+\"USV\"]], color='thistle', s=10 , alpha=1)\n",
    "    \n",
    "axes[1].set_xticks([0,1], [\"cries\", \"USVs\"],   fontname=\"Arial\", fontsize=9, rotation=90)\n",
    "axes[1].set_yticks(y_ticks, fontname=\"Arial\", fontsize=9)\n",
    "axes[1].set_ylabel('Max Speed to Speaker (s)',   fontname=\"Arial\", fontsize=9)\n",
    "axes[1].set_xlim(-0.5,1.5)\n",
    "\n",
    "sns.despine()\n"
   ]
  },
  {
   "cell_type": "code",
   "execution_count": 17,
   "metadata": {},
   "outputs": [],
   "source": [
    "# save\n",
    "\n",
    "save_dir = ''\n",
    "save_name = 'playback_data.csv' \n",
    "DataframePlayback.to_csv(os.path.join(save_dir, save_name), index=False)"
   ]
  },
  {
   "cell_type": "markdown",
   "metadata": {},
   "source": [
    "## statistics (use R kernel)"
   ]
  },
  {
   "cell_type": "code",
   "execution_count": 1,
   "metadata": {},
   "outputs": [],
   "source": [
    "#paths to data\n",
    "playback.data.path <- \"\"\n",
    "playback.data <- read.csv(playback.data.path)\n"
   ]
  },
  {
   "cell_type": "code",
   "execution_count": 9,
   "metadata": {},
   "outputs": [],
   "source": [
    "#t-test of time\n",
    "t.test(playback.data$median_time_cry, playback.data$median_time_USV, paired = TRUE, alternative = \"two.sided\")"
   ]
  },
  {
   "cell_type": "code",
   "execution_count": 10,
   "metadata": {},
   "outputs": [],
   "source": [
    "#t-test of speed\n",
    "t.test(playback.data$max_speed_cry, playback.data$max_speed_USV, paired = TRUE, alternative = \"two.sided\")"
   ]
  }
 ],
 "metadata": {
  "kernelspec": {
   "display_name": "manuscript",
   "language": "python",
   "name": "manuscript"
  },
  "language_info": {
   "codemirror_mode": {
    "name": "ipython",
    "version": 3
   },
   "file_extension": ".py",
   "mimetype": "text/x-python",
   "name": "python",
   "nbconvert_exporter": "python",
   "pygments_lexer": "ipython3",
   "version": "3.7.3"
  },
  "toc": {
   "base_numbering": 1,
   "nav_menu": {},
   "number_sections": true,
   "sideBar": true,
   "skip_h1_title": false,
   "title_cell": "Table of Contents",
   "title_sidebar": "Contents",
   "toc_cell": false,
   "toc_position": {},
   "toc_section_display": true,
   "toc_window_display": false
  },
  "varInspector": {
   "cols": {
    "lenName": 16,
    "lenType": 16,
    "lenVar": 40
   },
   "kernels_config": {
    "python": {
     "delete_cmd_postfix": "",
     "delete_cmd_prefix": "del ",
     "library": "var_list.py",
     "varRefreshCmd": "print(var_dic_list())"
    },
    "r": {
     "delete_cmd_postfix": ") ",
     "delete_cmd_prefix": "rm(",
     "library": "var_list.r",
     "varRefreshCmd": "cat(var_dic_list()) "
    }
   },
   "types_to_exclude": [
    "module",
    "function",
    "builtin_function_or_method",
    "instance",
    "_Feature"
   ],
   "window_display": false
  }
 },
 "nbformat": 4,
 "nbformat_minor": 4
}
