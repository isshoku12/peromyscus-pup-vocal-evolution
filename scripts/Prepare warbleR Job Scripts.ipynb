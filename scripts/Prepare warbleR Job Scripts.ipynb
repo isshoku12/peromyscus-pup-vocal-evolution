{
 "cells": [
  {
   "cell_type": "code",
   "execution_count": null,
   "id": "0bd7d257",
   "metadata": {},
   "outputs": [],
   "source": [
    "#the purpose of this notebook is to prepare directories and write job scripts for feature extraction using warbleR"
   ]
  },
  {
   "cell_type": "markdown",
   "id": "35dfe4a7",
   "metadata": {},
   "source": [
    "# preliminaries"
   ]
  },
  {
   "cell_type": "code",
   "execution_count": 80,
   "id": "786dfe60",
   "metadata": {},
   "outputs": [],
   "source": [
    "%run '/n/hoekstra_lab_tier1/Users/njourjine/manuscript/notebooks/00_manuscript/make_warbleR_extract_jobs.py'\n",
    "features_root = '/n/hoekstra_lab_tier1/Users/njourjine/manuscript/features/acoustic_features/'\n",
    "clips_root = '/n/hoekstra_lab_tier1/Users/njourjine/manuscript/audio/clips/'\n",
    "scripts_root = '/n/hoekstra_lab_tier1/Users/njourjine/manuscript/features/acoustic_features/scripts/'"
   ]
  },
  {
   "cell_type": "markdown",
   "id": "cde5c7da",
   "metadata": {},
   "source": [
    "# choose dataset and segments type"
   ]
  },
  {
   "cell_type": "code",
   "execution_count": 81,
   "id": "d9ef3812",
   "metadata": {},
   "outputs": [
    {
     "name": "stdout",
     "output_type": "stream",
     "text": [
      "save path:\n",
      "\t /n/hoekstra_lab_tier1/Users/njourjine/manuscript/features/acoustic_features/amplitude_segmented/bw_po_f2\n",
      "wav path:\n",
      "\t /n/hoekstra_lab_tier1/Users/njourjine/manuscript/audio/clips/amplitude_segmented/bw_po_f2\n",
      "scripts path:\n",
      "\t /n/hoekstra_lab_tier1/Users/njourjine/manuscript/features/acoustic_features/scripts/amplitude_segmented/bw_po_f2\n"
     ]
    }
   ],
   "source": [
    "#choose the dataset and segmenting type - this is the only thing you need to change to write scripts for a new dataset\n",
    "dataset = 'bw_po_f2'\n",
    "segments_type = 'amplitude_segmented'\n",
    "assert dataset in ['bw_po_cf', 'bw_po_f2', 'bw_po_f1']\n",
    "assert segments_type in ['amplitude_segmented', 'das']\n",
    "\n",
    "#set the path to save features and the path to the clips from which features will be calculated\n",
    "save_root = os.path.join(features_root, segments_type, dataset)\n",
    "wav_root = os.path.join(clips_root, segments_type, dataset)\n",
    "script_dir = os.path.join(scripts_root, segments_type, dataset)\n",
    "\n",
    "assert os.path.exists(save_root)\n",
    "assert os.path.exists(wav_root)\n",
    "assert os.path.exists(scripts_root)\n",
    "\n",
    "print('save path:\\n\\t', save_root)\n",
    "print('wav path:\\n\\t', wav_root)\n",
    "print('scripts path:\\n\\t', script_dir)"
   ]
  },
  {
   "cell_type": "markdown",
   "id": "589fd844",
   "metadata": {},
   "source": [
    "# write the .sbatch files"
   ]
  },
  {
   "cell_type": "code",
   "execution_count": 82,
   "id": "00ac30bc",
   "metadata": {},
   "outputs": [
    {
     "name": "stdout",
     "output_type": "stream",
     "text": [
      "wrote job scripts to:\n",
      "\t /n/hoekstra_lab_tier1/Users/njourjine/manuscript/features/acoustic_features/scripts/amplitude_segmented/bw_po_f2\n"
     ]
    }
   ],
   "source": [
    "write_warbleR_job_scripts(dataset = dataset, \n",
    "                          save_root = save_root, \n",
    "                          wav_root = wav_root, \n",
    "                          script_dir = script_dir)"
   ]
  },
  {
   "cell_type": "markdown",
   "id": "7d0224be",
   "metadata": {},
   "source": [
    "# now go to the directory listed above and run the following command"
   ]
  },
  {
   "cell_type": "code",
   "execution_count": 79,
   "id": "644c8f0c",
   "metadata": {},
   "outputs": [
    {
     "data": {
      "text/plain": [
       "'sh warbleR_extract_parent.sh'"
      ]
     },
     "execution_count": 79,
     "metadata": {},
     "output_type": "execute_result"
    }
   ],
   "source": [
    "#of course, check that the files look as you expect them to before running it\n",
    "'sh warbleR_extract_parent.sh'"
   ]
  }
 ],
 "metadata": {
  "kernelspec": {
   "display_name": "manuscript",
   "language": "python",
   "name": "manuscript"
  },
  "language_info": {
   "codemirror_mode": {
    "name": "ipython",
    "version": 3
   },
   "file_extension": ".py",
   "mimetype": "text/x-python",
   "name": "python",
   "nbconvert_exporter": "python",
   "pygments_lexer": "ipython3",
   "version": "3.7.4"
  },
  "toc": {
   "base_numbering": 1,
   "nav_menu": {},
   "number_sections": true,
   "sideBar": true,
   "skip_h1_title": false,
   "title_cell": "Table of Contents",
   "title_sidebar": "Contents",
   "toc_cell": false,
   "toc_position": {},
   "toc_section_display": true,
   "toc_window_display": false
  },
  "varInspector": {
   "cols": {
    "lenName": 16,
    "lenType": 16,
    "lenVar": 40
   },
   "kernels_config": {
    "python": {
     "delete_cmd_postfix": "",
     "delete_cmd_prefix": "del ",
     "library": "var_list.py",
     "varRefreshCmd": "print(var_dic_list())"
    },
    "r": {
     "delete_cmd_postfix": ") ",
     "delete_cmd_prefix": "rm(",
     "library": "var_list.r",
     "varRefreshCmd": "cat(var_dic_list()) "
    }
   },
   "types_to_exclude": [
    "module",
    "function",
    "builtin_function_or_method",
    "instance",
    "_Feature"
   ],
   "window_display": false
  }
 },
 "nbformat": 4,
 "nbformat_minor": 5
}
