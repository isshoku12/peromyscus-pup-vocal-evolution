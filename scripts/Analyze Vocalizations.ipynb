{
 "cells": [
  {
   "cell_type": "markdown",
   "id": "cdf29ba9",
   "metadata": {},
   "source": [
    "# preliminaries"
   ]
  },
  {
   "cell_type": "markdown",
   "id": "1291b703",
   "metadata": {},
   "source": [
    "## load packages"
   ]
  },
  {
   "cell_type": "code",
   "execution_count": 1,
   "id": "8387bcbf",
   "metadata": {},
   "outputs": [],
   "source": [
    "%matplotlib inline\n",
    "%load_ext autoreload\n",
    "%autoreload 2\n",
    "\n",
    "#file system\n",
    "import os\n",
    "import glob\n",
    "\n",
    "#data handling\n",
    "import numpy as np\n",
    "import pandas as pd\n",
    "\n",
    "#plotting\n",
    "import seaborn as sns \n",
    "import matplotlib as mpl\n",
    "import matplotlib.pyplot as plt\n",
    "\n",
    "# custom code\n",
    "from src import features, annotation, parameters, segmentation, spectrogramming\n"
   ]
  },
  {
   "cell_type": "markdown",
   "id": "6fcda671",
   "metadata": {},
   "source": [
    "## define path variables"
   ]
  },
  {
   "cell_type": "code",
   "execution_count": 2,
   "id": "c6b0f583",
   "metadata": {},
   "outputs": [],
   "source": [
    "#paths to raw data\n",
    "all_wav_raw = '/n/hoekstra_lab_tier1/Users/njourjine/manuscript/audio/raw/development/'\n",
    "all_wav_bw_po_cf = '/n/hoekstra_lab_tier1/Users/njourjine/manuscript/audio/raw/bw_po_cf/'\n",
    "all_wav_bw_po_f1 = '/n/hoekstra_lab_tier1/Users/njourjine/manuscript/audio/raw/bw_po_f1/'\n",
    "all_wav_bw_po_f2 = '/n/hoekstra_lab_tier1/Users/njourjine/manuscript/audio/raw/bw_po_f2/'\n",
    "\n",
    "#paths to clips for developmental dataset\n",
    "all_voc_clips_dirs = '/n/hoekstra_lab_tier1/Users/njourjine/manuscript/audio/clips/amplitude_segmented/development/final_20220817/vocalization_clips/'\n",
    "all_bg_clips_dirs = '/n/hoekstra_lab_tier1/Users/njourjine/manuscript/audio/clips/amplitude_segmented/development/final_20220817/background_clips/'\n",
    "\n",
    "#root directory for all of the segments (start and stop times)\n",
    "segments_root = '/n/hoekstra_lab_tier1/Users/njourjine/manuscript/audio/segments/'\n",
    "clips_root = '/n/hoekstra_lab_tier1/Users/njourjine/manuscript/audio/clips/'\n",
    "specs_root = '/n/hoekstra_lab_tier1/Users/njourjine/manuscript/features/spectrograms/'\n",
    "noise_root = '/n/hoekstra_lab_tier1/Users/njourjine/manuscript/audio/noise/'\n",
    "snr_clipping_root = '/n/hoekstra_lab_tier1/Users/njourjine/manuscript/features/snr_clipping/amplitude_segmented/'\n",
    "\n",
    "#csv of annotated segments (start and stop times) from the development dataset\n",
    "test_set_path = '/n/hoekstra_lab_tier1/Users/njourjine/manuscript/audio/annotated/annotations_csv/all_annotations.csv'"
   ]
  },
  {
   "cell_type": "markdown",
   "id": "3dc5a304",
   "metadata": {},
   "source": [
    "# Figure 1"
   ]
  },
  {
   "cell_type": "markdown",
   "id": "dfeee601",
   "metadata": {},
   "source": [
    "## colored by cluster (Figure 1C)"
   ]
  },
  {
   "cell_type": "code",
   "execution_count": null,
   "id": "059784bb",
   "metadata": {},
   "outputs": [],
   "source": []
  },
  {
   "cell_type": "markdown",
   "id": "e43ef445",
   "metadata": {},
   "source": [
    "## average spectrogram by cluster (Figure 1C)"
   ]
  },
  {
   "cell_type": "code",
   "execution_count": null,
   "id": "0bc1664f",
   "metadata": {},
   "outputs": [],
   "source": []
  },
  {
   "cell_type": "markdown",
   "id": "6e35eac5",
   "metadata": {},
   "source": [
    "## coloted by feature (Supp. Figure ##)"
   ]
  },
  {
   "cell_type": "code",
   "execution_count": null,
   "id": "e5bbf522",
   "metadata": {},
   "outputs": [],
   "source": []
  },
  {
   "cell_type": "markdown",
   "id": "341e890d",
   "metadata": {},
   "source": [
    "## Collect data"
   ]
  },
  {
   "cell_type": "code",
   "execution_count": null,
   "id": "81e95542",
   "metadata": {},
   "outputs": [],
   "source": []
  },
  {
   "cell_type": "markdown",
   "id": "dd7e1393",
   "metadata": {},
   "source": [
    "## Figure 1 panel D"
   ]
  },
  {
   "cell_type": "code",
   "execution_count": null,
   "id": "7318181e",
   "metadata": {},
   "outputs": [],
   "source": []
  },
  {
   "cell_type": "markdown",
   "id": "5c0f7135",
   "metadata": {},
   "source": [
    "## Figure 1 panel E"
   ]
  },
  {
   "cell_type": "code",
   "execution_count": null,
   "id": "0665bd1e",
   "metadata": {},
   "outputs": [],
   "source": []
  },
  {
   "cell_type": "markdown",
   "id": "47593690",
   "metadata": {},
   "source": [
    "## Figure 1 panel F"
   ]
  },
  {
   "cell_type": "code",
   "execution_count": null,
   "id": "386f7cdd",
   "metadata": {},
   "outputs": [],
   "source": []
  },
  {
   "cell_type": "markdown",
   "id": "2db99f7f",
   "metadata": {},
   "source": [
    "# Figure 2"
   ]
  },
  {
   "cell_type": "markdown",
   "id": "99e94591",
   "metadata": {},
   "source": [
    "## collect data"
   ]
  },
  {
   "cell_type": "code",
   "execution_count": null,
   "id": "50272cf2",
   "metadata": {},
   "outputs": [],
   "source": []
  },
  {
   "cell_type": "markdown",
   "id": "d4a470b2",
   "metadata": {},
   "source": [
    "## evaluate vocalization type model (Supplemental Figure ## Panel ##)"
   ]
  },
  {
   "cell_type": "code",
   "execution_count": null,
   "id": "6822b44e",
   "metadata": {},
   "outputs": [],
   "source": []
  },
  {
   "cell_type": "markdown",
   "id": "c7f73731",
   "metadata": {},
   "source": [
    "## predict vocalization labels from features "
   ]
  },
  {
   "cell_type": "code",
   "execution_count": null,
   "id": "5ab51872",
   "metadata": {},
   "outputs": [],
   "source": []
  },
  {
   "cell_type": "markdown",
   "id": "5b2d01dc",
   "metadata": {},
   "source": [
    "## general average spectrograms by label (Supplemental Figure ## Panel ##)"
   ]
  },
  {
   "cell_type": "code",
   "execution_count": null,
   "id": "febb64d9",
   "metadata": {},
   "outputs": [],
   "source": []
  },
  {
   "cell_type": "markdown",
   "id": "6396b225",
   "metadata": {},
   "source": [
    "## aggregate labeled vocalizations by pup"
   ]
  },
  {
   "cell_type": "code",
   "execution_count": null,
   "id": "466d63f3",
   "metadata": {},
   "outputs": [],
   "source": []
  },
  {
   "cell_type": "markdown",
   "id": "ba3ffe56",
   "metadata": {},
   "source": [
    "## get annotated vocalizations for species comparisons"
   ]
  },
  {
   "cell_type": "code",
   "execution_count": null,
   "id": "6a6cf3fd",
   "metadata": {},
   "outputs": [],
   "source": []
  },
  {
   "cell_type": "markdown",
   "id": "6201a592",
   "metadata": {},
   "source": [
    "## features PCA (Supplemental Figure ##)"
   ]
  },
  {
   "cell_type": "markdown",
   "id": "cfdefd5f",
   "metadata": {},
   "source": [
    "### run PCA"
   ]
  },
  {
   "cell_type": "code",
   "execution_count": null,
   "id": "957792b9",
   "metadata": {},
   "outputs": [],
   "source": []
  },
  {
   "cell_type": "markdown",
   "id": "72130bf1",
   "metadata": {},
   "source": [
    "### scatter plots"
   ]
  },
  {
   "cell_type": "code",
   "execution_count": null,
   "id": "528b15bf",
   "metadata": {},
   "outputs": [],
   "source": []
  },
  {
   "cell_type": "markdown",
   "id": "449e9323",
   "metadata": {},
   "source": [
    "### violin plots"
   ]
  },
  {
   "cell_type": "markdown",
   "id": "cbf3ab23",
   "metadata": {},
   "source": [
    "## species comparisons (Figure 2C)"
   ]
  },
  {
   "cell_type": "markdown",
   "id": "f5c3f030",
   "metadata": {},
   "source": [
    "# Figure 4 (cross foster experiments)"
   ]
  },
  {
   "cell_type": "markdown",
   "id": "d48a115b",
   "metadata": {},
   "source": [
    "## collect data"
   ]
  },
  {
   "cell_type": "code",
   "execution_count": null,
   "id": "99f02f0f",
   "metadata": {},
   "outputs": [],
   "source": []
  },
  {
   "cell_type": "markdown",
   "id": "91aa6a1a",
   "metadata": {},
   "source": [
    "## PCA"
   ]
  },
  {
   "cell_type": "code",
   "execution_count": null,
   "id": "db8c3ea5",
   "metadata": {},
   "outputs": [],
   "source": []
  },
  {
   "cell_type": "markdown",
   "id": "df08e414",
   "metadata": {},
   "source": [
    "## plot"
   ]
  },
  {
   "cell_type": "code",
   "execution_count": null,
   "id": "7c4ed5b2",
   "metadata": {},
   "outputs": [],
   "source": []
  },
  {
   "cell_type": "markdown",
   "id": "2589c997",
   "metadata": {},
   "source": [
    "# Figure 5 (F1 and F2 experiments)"
   ]
  },
  {
   "cell_type": "markdown",
   "id": "b4b39843",
   "metadata": {},
   "source": [
    "## collect data"
   ]
  },
  {
   "cell_type": "code",
   "execution_count": null,
   "id": "3c3f91a5",
   "metadata": {},
   "outputs": [],
   "source": []
  },
  {
   "cell_type": "markdown",
   "id": "60978b68",
   "metadata": {},
   "source": [
    "## PCA"
   ]
  },
  {
   "cell_type": "code",
   "execution_count": null,
   "id": "2457b0f3",
   "metadata": {},
   "outputs": [],
   "source": []
  },
  {
   "cell_type": "markdown",
   "id": "87bae05e",
   "metadata": {},
   "source": [
    "## plot"
   ]
  },
  {
   "cell_type": "code",
   "execution_count": null,
   "id": "ab4203bf",
   "metadata": {},
   "outputs": [],
   "source": []
  }
 ],
 "metadata": {
  "kernelspec": {
   "display_name": "manuscript",
   "language": "python",
   "name": "manuscript"
  },
  "language_info": {
   "codemirror_mode": {
    "name": "ipython",
    "version": 3
   },
   "file_extension": ".py",
   "mimetype": "text/x-python",
   "name": "python",
   "nbconvert_exporter": "python",
   "pygments_lexer": "ipython3",
   "version": "3.7.3"
  },
  "toc": {
   "base_numbering": 1,
   "nav_menu": {},
   "number_sections": true,
   "sideBar": true,
   "skip_h1_title": false,
   "title_cell": "Table of Contents",
   "title_sidebar": "Contents",
   "toc_cell": false,
   "toc_position": {},
   "toc_section_display": true,
   "toc_window_display": false
  }
 },
 "nbformat": 4,
 "nbformat_minor": 5
}
